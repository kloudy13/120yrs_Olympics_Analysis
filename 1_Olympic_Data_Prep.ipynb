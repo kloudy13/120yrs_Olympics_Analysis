{
 "cells": [
  {
   "cell_type": "code",
   "execution_count": 47,
   "metadata": {
    "collapsed": false
   },
   "outputs": [],
   "source": [
    "import pandas as pd \n",
    "import numpy as np\n",
    "import matplotlib.pyplot as plt\n",
    "import plotly.graph_objs as go\n",
    "from plotly.offline import iplot, init_notebook_mode\n",
    "\n",
    "%matplotlib inline "
   ]
  },
  {
   "cell_type": "markdown",
   "metadata": {},
   "source": [
    "# Raw Data Pre-processing and Sanity Check\n",
    "\n",
    "This data set offers insight into the history of the summer and winter Olympic games from the Athens 1986 Games to the Rio 2016 Games. The raw data set has 15 columns listed below and 271,116 rows corresponding to individual athletes competing in an Olympic event.<br>\n",
    "\n",
    "__ID__ - Unique number for each athlete, type: int64 <br>\n",
    "__Name__ - Athlete's name, type: object<br>\n",
    "__Sex__ - Male or Female, type: object<br>\n",
    "__Age__ - Age of athlete, type: float64 <br>\n",
    "__Height__ - Height of athlete, in centimetres, type: float64 <br>\n",
    "__Weight__ - Weight of athlete, in kilograms, type: float64 <br>\n",
    "__Team__ - Team name, type: object<br>\n",
    "__NOC__ - National Olympic Committee: 3-letter code corresponding to country came (in separate file provided), type: object <br>\n",
    "__Games__ - Year and season, type: object <br>\n",
    "__Year__ - Year, type: int64 <br>\n",
    "__Season__ - Summer or Winter, type: object <br>\n",
    "__City__ - Host city, type: object <br>\n",
    "__Sport__ - Sport type (i.e Swimming), type: object <br>\n",
    "__Event__ - Particular event of a given sport type (i.e Swimming Men's 400 metres Freestyle), type: object <br>\n",
    "__Medal__ - Gold, Silver, Bronze, or NAN, type: object. <br>"
   ]
  },
  {
   "cell_type": "code",
   "execution_count": 48,
   "metadata": {
    "collapsed": false
   },
   "outputs": [],
   "source": [
    "# Load data\n",
    "# main olympic histoty file:\n",
    "data = pd.read_csv('all_data/athlete_events.csv')\n",
    "data.name ='Olympic_Data'\n",
    "# supplemntary file, containing a maping form country codes to regions:\n",
    "regions = pd.read_csv('all_data/noc_regions.csv') \n",
    "regions.name = 'Regions_2_Country'"
   ]
  },
  {
   "cell_type": "code",
   "execution_count": 49,
   "metadata": {
    "collapsed": false,
    "scrolled": true
   },
   "outputs": [
    {
     "data": {
      "text/html": [
       "<div>\n",
       "<style>\n",
       "    .dataframe thead tr:only-child th {\n",
       "        text-align: right;\n",
       "    }\n",
       "\n",
       "    .dataframe thead th {\n",
       "        text-align: left;\n",
       "    }\n",
       "\n",
       "    .dataframe tbody tr th {\n",
       "        vertical-align: top;\n",
       "    }\n",
       "</style>\n",
       "<table border=\"1\" class=\"dataframe\">\n",
       "  <thead>\n",
       "    <tr style=\"text-align: right;\">\n",
       "      <th></th>\n",
       "      <th>ID</th>\n",
       "      <th>Name</th>\n",
       "      <th>Sex</th>\n",
       "      <th>Age</th>\n",
       "      <th>Height</th>\n",
       "      <th>Weight</th>\n",
       "      <th>Team</th>\n",
       "      <th>NOC</th>\n",
       "      <th>Games</th>\n",
       "      <th>Year</th>\n",
       "      <th>Season</th>\n",
       "      <th>City</th>\n",
       "      <th>Sport</th>\n",
       "      <th>Event</th>\n",
       "      <th>Medal</th>\n",
       "    </tr>\n",
       "  </thead>\n",
       "  <tbody>\n",
       "    <tr>\n",
       "      <th>29</th>\n",
       "      <td>10</td>\n",
       "      <td>Einar Ferdinand \"Einari\" Aalto</td>\n",
       "      <td>M</td>\n",
       "      <td>26.0</td>\n",
       "      <td>NaN</td>\n",
       "      <td>NaN</td>\n",
       "      <td>Finland</td>\n",
       "      <td>FIN</td>\n",
       "      <td>1952 Summer</td>\n",
       "      <td>1952</td>\n",
       "      <td>Summer</td>\n",
       "      <td>Helsinki</td>\n",
       "      <td>Swimming</td>\n",
       "      <td>Swimming Men's 400 metres Freestyle</td>\n",
       "      <td>NaN</td>\n",
       "    </tr>\n",
       "    <tr>\n",
       "      <th>35</th>\n",
       "      <td>15</td>\n",
       "      <td>Arvo Ossian Aaltonen</td>\n",
       "      <td>M</td>\n",
       "      <td>22.0</td>\n",
       "      <td>NaN</td>\n",
       "      <td>NaN</td>\n",
       "      <td>Finland</td>\n",
       "      <td>FIN</td>\n",
       "      <td>1912 Summer</td>\n",
       "      <td>1912</td>\n",
       "      <td>Summer</td>\n",
       "      <td>Stockholm</td>\n",
       "      <td>Swimming</td>\n",
       "      <td>Swimming Men's 200 metres Breaststroke</td>\n",
       "      <td>NaN</td>\n",
       "    </tr>\n",
       "    <tr>\n",
       "      <th>36</th>\n",
       "      <td>15</td>\n",
       "      <td>Arvo Ossian Aaltonen</td>\n",
       "      <td>M</td>\n",
       "      <td>22.0</td>\n",
       "      <td>NaN</td>\n",
       "      <td>NaN</td>\n",
       "      <td>Finland</td>\n",
       "      <td>FIN</td>\n",
       "      <td>1912 Summer</td>\n",
       "      <td>1912</td>\n",
       "      <td>Summer</td>\n",
       "      <td>Stockholm</td>\n",
       "      <td>Swimming</td>\n",
       "      <td>Swimming Men's 400 metres Breaststroke</td>\n",
       "      <td>NaN</td>\n",
       "    </tr>\n",
       "    <tr>\n",
       "      <th>37</th>\n",
       "      <td>15</td>\n",
       "      <td>Arvo Ossian Aaltonen</td>\n",
       "      <td>M</td>\n",
       "      <td>30.0</td>\n",
       "      <td>NaN</td>\n",
       "      <td>NaN</td>\n",
       "      <td>Finland</td>\n",
       "      <td>FIN</td>\n",
       "      <td>1920 Summer</td>\n",
       "      <td>1920</td>\n",
       "      <td>Summer</td>\n",
       "      <td>Antwerpen</td>\n",
       "      <td>Swimming</td>\n",
       "      <td>Swimming Men's 200 metres Breaststroke</td>\n",
       "      <td>Bronze</td>\n",
       "    </tr>\n",
       "    <tr>\n",
       "      <th>38</th>\n",
       "      <td>15</td>\n",
       "      <td>Arvo Ossian Aaltonen</td>\n",
       "      <td>M</td>\n",
       "      <td>30.0</td>\n",
       "      <td>NaN</td>\n",
       "      <td>NaN</td>\n",
       "      <td>Finland</td>\n",
       "      <td>FIN</td>\n",
       "      <td>1920 Summer</td>\n",
       "      <td>1920</td>\n",
       "      <td>Summer</td>\n",
       "      <td>Antwerpen</td>\n",
       "      <td>Swimming</td>\n",
       "      <td>Swimming Men's 400 metres Breaststroke</td>\n",
       "      <td>Bronze</td>\n",
       "    </tr>\n",
       "  </tbody>\n",
       "</table>\n",
       "</div>"
      ],
      "text/plain": [
       "    ID                            Name Sex   Age  Height  Weight     Team  \\\n",
       "29  10  Einar Ferdinand \"Einari\" Aalto   M  26.0     NaN     NaN  Finland   \n",
       "35  15            Arvo Ossian Aaltonen   M  22.0     NaN     NaN  Finland   \n",
       "36  15            Arvo Ossian Aaltonen   M  22.0     NaN     NaN  Finland   \n",
       "37  15            Arvo Ossian Aaltonen   M  30.0     NaN     NaN  Finland   \n",
       "38  15            Arvo Ossian Aaltonen   M  30.0     NaN     NaN  Finland   \n",
       "\n",
       "    NOC        Games  Year  Season       City     Sport  \\\n",
       "29  FIN  1952 Summer  1952  Summer   Helsinki  Swimming   \n",
       "35  FIN  1912 Summer  1912  Summer  Stockholm  Swimming   \n",
       "36  FIN  1912 Summer  1912  Summer  Stockholm  Swimming   \n",
       "37  FIN  1920 Summer  1920  Summer  Antwerpen  Swimming   \n",
       "38  FIN  1920 Summer  1920  Summer  Antwerpen  Swimming   \n",
       "\n",
       "                                     Event   Medal  \n",
       "29     Swimming Men's 400 metres Freestyle     NaN  \n",
       "35  Swimming Men's 200 metres Breaststroke     NaN  \n",
       "36  Swimming Men's 400 metres Breaststroke     NaN  \n",
       "37  Swimming Men's 200 metres Breaststroke  Bronze  \n",
       "38  Swimming Men's 400 metres Breaststroke  Bronze  "
      ]
     },
     "execution_count": 49,
     "metadata": {},
     "output_type": "execute_result"
    }
   ],
   "source": [
    "data[data['Sport']=='Swimming'].head()"
   ]
  },
  {
   "cell_type": "code",
   "execution_count": 50,
   "metadata": {
    "collapsed": false,
    "scrolled": true
   },
   "outputs": [
    {
     "data": {
      "text/html": [
       "<div>\n",
       "<style>\n",
       "    .dataframe thead tr:only-child th {\n",
       "        text-align: right;\n",
       "    }\n",
       "\n",
       "    .dataframe thead th {\n",
       "        text-align: left;\n",
       "    }\n",
       "\n",
       "    .dataframe tbody tr th {\n",
       "        vertical-align: top;\n",
       "    }\n",
       "</style>\n",
       "<table border=\"1\" class=\"dataframe\">\n",
       "  <thead>\n",
       "    <tr style=\"text-align: right;\">\n",
       "      <th></th>\n",
       "      <th>NOC</th>\n",
       "      <th>region</th>\n",
       "      <th>notes</th>\n",
       "    </tr>\n",
       "  </thead>\n",
       "  <tbody>\n",
       "    <tr>\n",
       "      <th>197</th>\n",
       "      <td>TCH</td>\n",
       "      <td>Czech Republic</td>\n",
       "      <td>NaN</td>\n",
       "    </tr>\n",
       "  </tbody>\n",
       "</table>\n",
       "</div>"
      ],
      "text/plain": [
       "     NOC          region notes\n",
       "197  TCH  Czech Republic   NaN"
      ]
     },
     "execution_count": 50,
     "metadata": {},
     "output_type": "execute_result"
    }
   ],
   "source": [
    "regions[regions.NOC =='TCH'] "
   ]
  },
  {
   "cell_type": "code",
   "execution_count": 51,
   "metadata": {
    "collapsed": false
   },
   "outputs": [],
   "source": [
    "# rename 'region' to 'Country'\n",
    "regions.rename(columns={\"region\": \"Country\"},inplace=True)"
   ]
  },
  {
   "cell_type": "markdown",
   "metadata": {},
   "source": [
    "## Examine Missing Data "
   ]
  },
  {
   "cell_type": "code",
   "execution_count": 52,
   "metadata": {
    "collapsed": false
   },
   "outputs": [
    {
     "name": "stdout",
     "output_type": "stream",
     "text": [
      "Missing data in Olympic_Data Data Frame:\n"
     ]
    },
    {
     "data": {
      "text/html": [
       "<div>\n",
       "<style>\n",
       "    .dataframe thead tr:only-child th {\n",
       "        text-align: right;\n",
       "    }\n",
       "\n",
       "    .dataframe thead th {\n",
       "        text-align: left;\n",
       "    }\n",
       "\n",
       "    .dataframe tbody tr th {\n",
       "        vertical-align: top;\n",
       "    }\n",
       "</style>\n",
       "<table border=\"1\" class=\"dataframe\">\n",
       "  <thead>\n",
       "    <tr style=\"text-align: right;\">\n",
       "      <th></th>\n",
       "      <th>Total_Missing</th>\n",
       "      <th>Percent</th>\n",
       "    </tr>\n",
       "  </thead>\n",
       "  <tbody>\n",
       "    <tr>\n",
       "      <th>Medal</th>\n",
       "      <td>231333</td>\n",
       "      <td>85.0</td>\n",
       "    </tr>\n",
       "    <tr>\n",
       "      <th>Weight</th>\n",
       "      <td>62875</td>\n",
       "      <td>23.0</td>\n",
       "    </tr>\n",
       "    <tr>\n",
       "      <th>Height</th>\n",
       "      <td>60171</td>\n",
       "      <td>22.0</td>\n",
       "    </tr>\n",
       "    <tr>\n",
       "      <th>Age</th>\n",
       "      <td>9474</td>\n",
       "      <td>3.0</td>\n",
       "    </tr>\n",
       "    <tr>\n",
       "      <th>Event</th>\n",
       "      <td>0</td>\n",
       "      <td>0.0</td>\n",
       "    </tr>\n",
       "    <tr>\n",
       "      <th>Sport</th>\n",
       "      <td>0</td>\n",
       "      <td>0.0</td>\n",
       "    </tr>\n",
       "  </tbody>\n",
       "</table>\n",
       "</div>"
      ],
      "text/plain": [
       "        Total_Missing  Percent\n",
       "Medal          231333     85.0\n",
       "Weight          62875     23.0\n",
       "Height          60171     22.0\n",
       "Age              9474      3.0\n",
       "Event               0      0.0\n",
       "Sport               0      0.0"
      ]
     },
     "execution_count": 52,
     "metadata": {},
     "output_type": "execute_result"
    }
   ],
   "source": [
    "def nan_data(data):\n",
    "    tot = data.isnull().sum().sort_values(ascending = False)\n",
    "    perc = round((data.isnull().sum()/data.isnull().count()*100).sort_values(ascending = False))\n",
    "    print('Missing data in {} Data Frame:'.format(data.name))\n",
    "    return pd.concat([tot, perc], axis=1, keys=['Total_Missing', 'Percent'])\n",
    "nan_data(data).head(6)"
   ]
  },
  {
   "cell_type": "markdown",
   "metadata": {},
   "source": [
    "Unsurprisingly, medals have NaN values where no medal was won. This should be replaced by another string, like 'No Medal\".\n",
    "As far as the other features with NaN values, more exploration is needed to understand how to best handle these. In case of the body metric features, the % of data missing may be too high to attempt to extrapolate. The Age variable has a much smaller % of data points missing. "
   ]
  },
  {
   "cell_type": "code",
   "execution_count": 53,
   "metadata": {
    "collapsed": true
   },
   "outputs": [],
   "source": [
    "data['Medal'].fillna('No_Medal',inplace=True)"
   ]
  },
  {
   "cell_type": "code",
   "execution_count": 54,
   "metadata": {
    "collapsed": true
   },
   "outputs": [],
   "source": [
    "assert (data['Medal'].isnull().sum() == 0)"
   ]
  },
  {
   "cell_type": "code",
   "execution_count": 55,
   "metadata": {
    "collapsed": false,
    "scrolled": false
   },
   "outputs": [
    {
     "name": "stdout",
     "output_type": "stream",
     "text": [
      "Missing data in Regions_2_Country Data Frame:\n"
     ]
    },
    {
     "data": {
      "text/html": [
       "<div>\n",
       "<style>\n",
       "    .dataframe thead tr:only-child th {\n",
       "        text-align: right;\n",
       "    }\n",
       "\n",
       "    .dataframe thead th {\n",
       "        text-align: left;\n",
       "    }\n",
       "\n",
       "    .dataframe tbody tr th {\n",
       "        vertical-align: top;\n",
       "    }\n",
       "</style>\n",
       "<table border=\"1\" class=\"dataframe\">\n",
       "  <thead>\n",
       "    <tr style=\"text-align: right;\">\n",
       "      <th></th>\n",
       "      <th>Total_Missing</th>\n",
       "      <th>Percent</th>\n",
       "    </tr>\n",
       "  </thead>\n",
       "  <tbody>\n",
       "    <tr>\n",
       "      <th>Country</th>\n",
       "      <td>3</td>\n",
       "      <td>1.0</td>\n",
       "    </tr>\n",
       "    <tr>\n",
       "      <th>NOC</th>\n",
       "      <td>0</td>\n",
       "      <td>0.0</td>\n",
       "    </tr>\n",
       "  </tbody>\n",
       "</table>\n",
       "</div>"
      ],
      "text/plain": [
       "         Total_Missing  Percent\n",
       "Country              3      1.0\n",
       "NOC                  0      0.0"
      ]
     },
     "execution_count": 55,
     "metadata": {},
     "output_type": "execute_result"
    }
   ],
   "source": [
    "nan_data(regions)[1:].head(6)"
   ]
  },
  {
   "cell_type": "code",
   "execution_count": 56,
   "metadata": {
    "collapsed": false
   },
   "outputs": [
    {
     "data": {
      "text/html": [
       "<div>\n",
       "<style>\n",
       "    .dataframe thead tr:only-child th {\n",
       "        text-align: right;\n",
       "    }\n",
       "\n",
       "    .dataframe thead th {\n",
       "        text-align: left;\n",
       "    }\n",
       "\n",
       "    .dataframe tbody tr th {\n",
       "        vertical-align: top;\n",
       "    }\n",
       "</style>\n",
       "<table border=\"1\" class=\"dataframe\">\n",
       "  <thead>\n",
       "    <tr style=\"text-align: right;\">\n",
       "      <th></th>\n",
       "      <th>NOC</th>\n",
       "      <th>Country</th>\n",
       "      <th>notes</th>\n",
       "    </tr>\n",
       "  </thead>\n",
       "  <tbody>\n",
       "    <tr>\n",
       "      <th>168</th>\n",
       "      <td>ROT</td>\n",
       "      <td>NaN</td>\n",
       "      <td>Refugee Olympic Team</td>\n",
       "    </tr>\n",
       "    <tr>\n",
       "      <th>208</th>\n",
       "      <td>TUV</td>\n",
       "      <td>NaN</td>\n",
       "      <td>Tuvalu</td>\n",
       "    </tr>\n",
       "    <tr>\n",
       "      <th>213</th>\n",
       "      <td>UNK</td>\n",
       "      <td>NaN</td>\n",
       "      <td>Unknown</td>\n",
       "    </tr>\n",
       "  </tbody>\n",
       "</table>\n",
       "</div>"
      ],
      "text/plain": [
       "     NOC Country                 notes\n",
       "168  ROT     NaN  Refugee Olympic Team\n",
       "208  TUV     NaN                Tuvalu\n",
       "213  UNK     NaN               Unknown"
      ]
     },
     "execution_count": 56,
     "metadata": {},
     "output_type": "execute_result"
    }
   ],
   "source": [
    "regions[regions['Country'].isnull()]"
   ]
  },
  {
   "cell_type": "code",
   "execution_count": 57,
   "metadata": {
    "collapsed": false
   },
   "outputs": [],
   "source": [
    "regions['Country'].fillna(regions['notes'],inplace=True)"
   ]
  },
  {
   "cell_type": "code",
   "execution_count": 58,
   "metadata": {
    "collapsed": false
   },
   "outputs": [],
   "source": [
    "assert (regions['Country'].isnull().sum() == 0)"
   ]
  },
  {
   "cell_type": "markdown",
   "metadata": {},
   "source": [
    "So now the regions data frame has no NaN values and the main data frame has no NaN values in the Medals column. Before dealing with the NaNs in the Age and Body Metric Columns I will have a look data duplicates and other data issues. This is because I would like to use some form of interpolation on the remaining NaN variables, thus I would like to have a relatively clean dataset before proceeding. "
   ]
  },
  {
   "cell_type": "markdown",
   "metadata": {},
   "source": [
    "## Examine duplicates "
   ]
  },
  {
   "cell_type": "code",
   "execution_count": 59,
   "metadata": {
    "collapsed": false,
    "scrolled": true
   },
   "outputs": [
    {
     "data": {
      "text/html": [
       "<div>\n",
       "<style>\n",
       "    .dataframe thead tr:only-child th {\n",
       "        text-align: right;\n",
       "    }\n",
       "\n",
       "    .dataframe thead th {\n",
       "        text-align: left;\n",
       "    }\n",
       "\n",
       "    .dataframe tbody tr th {\n",
       "        vertical-align: top;\n",
       "    }\n",
       "</style>\n",
       "<table border=\"1\" class=\"dataframe\">\n",
       "  <thead>\n",
       "    <tr style=\"text-align: right;\">\n",
       "      <th></th>\n",
       "      <th>ID</th>\n",
       "      <th>Name</th>\n",
       "      <th>Sex</th>\n",
       "      <th>Age</th>\n",
       "      <th>Height</th>\n",
       "      <th>Weight</th>\n",
       "      <th>Team</th>\n",
       "      <th>NOC</th>\n",
       "      <th>Games</th>\n",
       "      <th>Year</th>\n",
       "      <th>Season</th>\n",
       "      <th>City</th>\n",
       "      <th>Sport</th>\n",
       "      <th>Event</th>\n",
       "      <th>Medal</th>\n",
       "    </tr>\n",
       "  </thead>\n",
       "  <tbody>\n",
       "    <tr>\n",
       "      <th>1251</th>\n",
       "      <td>704</td>\n",
       "      <td>Dsir Antoine Acket</td>\n",
       "      <td>M</td>\n",
       "      <td>27.0</td>\n",
       "      <td>NaN</td>\n",
       "      <td>NaN</td>\n",
       "      <td>Belgium</td>\n",
       "      <td>BEL</td>\n",
       "      <td>1932 Summer</td>\n",
       "      <td>1932</td>\n",
       "      <td>Summer</td>\n",
       "      <td>Los Angeles</td>\n",
       "      <td>Art Competitions</td>\n",
       "      <td>Art Competitions Mixed Painting, Unknown Event</td>\n",
       "      <td>No_Medal</td>\n",
       "    </tr>\n",
       "    <tr>\n",
       "      <th>1252</th>\n",
       "      <td>704</td>\n",
       "      <td>Dsir Antoine Acket</td>\n",
       "      <td>M</td>\n",
       "      <td>27.0</td>\n",
       "      <td>NaN</td>\n",
       "      <td>NaN</td>\n",
       "      <td>Belgium</td>\n",
       "      <td>BEL</td>\n",
       "      <td>1932 Summer</td>\n",
       "      <td>1932</td>\n",
       "      <td>Summer</td>\n",
       "      <td>Los Angeles</td>\n",
       "      <td>Art Competitions</td>\n",
       "      <td>Art Competitions Mixed Painting, Unknown Event</td>\n",
       "      <td>No_Medal</td>\n",
       "    </tr>\n",
       "    <tr>\n",
       "      <th>4281</th>\n",
       "      <td>2449</td>\n",
       "      <td>William Truman Aldrich</td>\n",
       "      <td>M</td>\n",
       "      <td>48.0</td>\n",
       "      <td>NaN</td>\n",
       "      <td>NaN</td>\n",
       "      <td>United States</td>\n",
       "      <td>USA</td>\n",
       "      <td>1928 Summer</td>\n",
       "      <td>1928</td>\n",
       "      <td>Summer</td>\n",
       "      <td>Amsterdam</td>\n",
       "      <td>Art Competitions</td>\n",
       "      <td>Art Competitions Mixed Painting, Drawings And ...</td>\n",
       "      <td>No_Medal</td>\n",
       "    </tr>\n",
       "    <tr>\n",
       "      <th>4282</th>\n",
       "      <td>2449</td>\n",
       "      <td>William Truman Aldrich</td>\n",
       "      <td>M</td>\n",
       "      <td>48.0</td>\n",
       "      <td>NaN</td>\n",
       "      <td>NaN</td>\n",
       "      <td>United States</td>\n",
       "      <td>USA</td>\n",
       "      <td>1928 Summer</td>\n",
       "      <td>1928</td>\n",
       "      <td>Summer</td>\n",
       "      <td>Amsterdam</td>\n",
       "      <td>Art Competitions</td>\n",
       "      <td>Art Competitions Mixed Painting, Drawings And ...</td>\n",
       "      <td>No_Medal</td>\n",
       "    </tr>\n",
       "  </tbody>\n",
       "</table>\n",
       "</div>"
      ],
      "text/plain": [
       "        ID                    Name Sex   Age  Height  Weight           Team  \\\n",
       "1251   704      Dsir Antoine Acket   M  27.0     NaN     NaN        Belgium   \n",
       "1252   704      Dsir Antoine Acket   M  27.0     NaN     NaN        Belgium   \n",
       "4281  2449  William Truman Aldrich   M  48.0     NaN     NaN  United States   \n",
       "4282  2449  William Truman Aldrich   M  48.0     NaN     NaN  United States   \n",
       "\n",
       "      NOC        Games  Year  Season         City             Sport  \\\n",
       "1251  BEL  1932 Summer  1932  Summer  Los Angeles  Art Competitions   \n",
       "1252  BEL  1932 Summer  1932  Summer  Los Angeles  Art Competitions   \n",
       "4281  USA  1928 Summer  1928  Summer    Amsterdam  Art Competitions   \n",
       "4282  USA  1928 Summer  1928  Summer    Amsterdam  Art Competitions   \n",
       "\n",
       "                                                  Event     Medal  \n",
       "1251     Art Competitions Mixed Painting, Unknown Event  No_Medal  \n",
       "1252     Art Competitions Mixed Painting, Unknown Event  No_Medal  \n",
       "4281  Art Competitions Mixed Painting, Drawings And ...  No_Medal  \n",
       "4282  Art Competitions Mixed Painting, Drawings And ...  No_Medal  "
      ]
     },
     "execution_count": 59,
     "metadata": {},
     "output_type": "execute_result"
    }
   ],
   "source": [
    "data[data.duplicated(keep=False)].head(4) # see some duplicated rows "
   ]
  },
  {
   "cell_type": "code",
   "execution_count": 60,
   "metadata": {
    "collapsed": false,
    "scrolled": true
   },
   "outputs": [
    {
     "data": {
      "text/plain": [
       "1385"
      ]
     },
     "execution_count": 60,
     "metadata": {},
     "output_type": "execute_result"
    }
   ],
   "source": [
    "data[data.duplicated(keep='first')].ID.count()\n",
    "# number of duplicated values is abour 0.5% of data size, so not critical and could be dropped "
   ]
  },
  {
   "cell_type": "code",
   "execution_count": 61,
   "metadata": {
    "collapsed": false
   },
   "outputs": [
    {
     "data": {
      "text/plain": [
       "array([1932, 1928, 1936, 1924, 1948, 1908, 1900])"
      ]
     },
     "execution_count": 61,
     "metadata": {},
     "output_type": "execute_result"
    }
   ],
   "source": [
    "data[data.duplicated(keep=False)]['Year'].unique() \n",
    "# duplicates occur in the distant past (between 1900 and 1948)"
   ]
  },
  {
   "cell_type": "code",
   "execution_count": 62,
   "metadata": {
    "collapsed": false
   },
   "outputs": [
    {
     "data": {
      "text/plain": [
       "array(['Art Competitions', 'Cycling', 'Sailing', 'Equestrianism'],\n",
       "      dtype=object)"
      ]
     },
     "execution_count": 62,
     "metadata": {},
     "output_type": "execute_result"
    }
   ],
   "source": [
    "# explore susspicion that duplicates only in Art Competitions, but turns out not only \n",
    "data[data.duplicated(keep=False)]['Sport'].unique() "
   ]
  },
  {
   "cell_type": "code",
   "execution_count": 63,
   "metadata": {
    "collapsed": false
   },
   "outputs": [],
   "source": [
    "# drop duplicats \n",
    "data.drop_duplicates(inplace=True)"
   ]
  },
  {
   "cell_type": "code",
   "execution_count": 64,
   "metadata": {
    "collapsed": true
   },
   "outputs": [],
   "source": [
    "assert (data.duplicated().sum()== 0)"
   ]
  },
  {
   "cell_type": "markdown",
   "metadata": {},
   "source": [
    "## Examine relationship between NOC, Team and Country columns"
   ]
  },
  {
   "cell_type": "code",
   "execution_count": 65,
   "metadata": {
    "collapsed": false
   },
   "outputs": [
    {
     "data": {
      "text/plain": [
       "FRA    160\n",
       "USA     97\n",
       "GBR     96\n",
       "SWE     52\n",
       "NOR     46\n",
       "GER     43\n",
       "ITA     36\n",
       "CAN     32\n",
       "GRE     29\n",
       "DEN     29\n",
       "Name: NOC, dtype: int64"
      ]
     },
     "execution_count": 65,
     "metadata": {},
     "output_type": "execute_result"
    }
   ],
   "source": [
    "# are NOC codes linked to unique teams? -No, France NOC associated woth 160 teams etc...\n",
    "data.loc[:, ['NOC', 'Team']].drop_duplicates()['NOC'].value_counts().head(10)"
   ]
  },
  {
   "cell_type": "code",
   "execution_count": 66,
   "metadata": {
    "collapsed": false
   },
   "outputs": [
    {
     "data": {
      "text/plain": [
       "array(['France', 'France-1', 'France-2',\n",
       "       'Union des Socits Franais de Sports Athletiques', 'France-3',\n",
       "       'Martha-27', 'Martha-1', 'Socit Nautique de Bayonne',\n",
       "       'Cupidon Viking', 'Damoiselle'], dtype=object)"
      ]
     },
     "execution_count": 66,
     "metadata": {},
     "output_type": "execute_result"
    }
   ],
   "source": [
    "data[data['NOC']=='FRA']['Team'].unique()[:10] # inspect few instances of Teams with FRA code "
   ]
  },
  {
   "cell_type": "code",
   "execution_count": 67,
   "metadata": {
    "collapsed": false
   },
   "outputs": [
    {
     "data": {
      "text/plain": [
       "array(['United States', 'Vesper Boat Club', 'New York Athletic Club #2-4',\n",
       "       'Mystery', 'United States-1', 'United States-2',\n",
       "       'Mound City Rowing Club-2', 'La Salle Turnverein, Chicago',\n",
       "       'Gallant', 'United States-3'], dtype=object)"
      ]
     },
     "execution_count": 67,
     "metadata": {},
     "output_type": "execute_result"
    }
   ],
   "source": [
    "data[data['NOC']=='USA']['Team'].unique()[:10] # inspect few instances of Teams with USA code "
   ]
  },
  {
   "cell_type": "markdown",
   "metadata": {},
   "source": [
    "In general can see that the above are French / US teams"
   ]
  },
  {
   "cell_type": "code",
   "execution_count": 68,
   "metadata": {
    "collapsed": false
   },
   "outputs": [
    {
     "data": {
      "text/plain": [
       "ROT    1\n",
       "Name: NOC, dtype: int64"
      ]
     },
     "execution_count": 68,
     "metadata": {},
     "output_type": "execute_result"
    }
   ],
   "source": [
    "data.loc[:, ['NOC', 'Team']].drop_duplicates()['NOC'].value_counts().tail(1)"
   ]
  },
  {
   "cell_type": "code",
   "execution_count": 69,
   "metadata": {
    "collapsed": false
   },
   "outputs": [
    {
     "data": {
      "text/plain": [
       "array(['Syria'], dtype=object)"
      ]
     },
     "execution_count": 69,
     "metadata": {},
     "output_type": "execute_result"
    }
   ],
   "source": [
    "data[data['NOC']=='SYR']['Team'].unique()"
   ]
  },
  {
   "cell_type": "markdown",
   "metadata": {},
   "source": [
    "For certain countries, the 'Team' column is synonymous with the country name and in other cases, such as France or USA the 'Team' column gives specifics of the team name. Thus, the 'Team' column cannot reliably serve as a proxy for Country. Instead the regions data frame can be added to the main data frame to carry this information. This is done below. "
   ]
  },
  {
   "cell_type": "code",
   "execution_count": 70,
   "metadata": {
    "collapsed": false
   },
   "outputs": [],
   "source": [
    "merged = pd.merge(data, regions, on='NOC', how='left')"
   ]
  },
  {
   "cell_type": "code",
   "execution_count": 71,
   "metadata": {
    "collapsed": false,
    "scrolled": true
   },
   "outputs": [
    {
     "data": {
      "text/plain": [
       "ID              0\n",
       "Name            0\n",
       "Sex             0\n",
       "Age          9315\n",
       "Height      58814\n",
       "Weight      61527\n",
       "Team            0\n",
       "NOC             0\n",
       "Games           0\n",
       "Year            0\n",
       "Season          0\n",
       "City            0\n",
       "Sport           0\n",
       "Event           0\n",
       "Medal           0\n",
       "Country       349\n",
       "notes      264696\n",
       "dtype: int64"
      ]
     },
     "execution_count": 71,
     "metadata": {},
     "output_type": "execute_result"
    }
   ],
   "source": [
    "merged.isnull().sum() # have unexpected NaNs in Country column after the merge"
   ]
  },
  {
   "cell_type": "code",
   "execution_count": 72,
   "metadata": {
    "collapsed": false
   },
   "outputs": [
    {
     "data": {
      "text/html": [
       "<div>\n",
       "<style>\n",
       "    .dataframe thead tr:only-child th {\n",
       "        text-align: right;\n",
       "    }\n",
       "\n",
       "    .dataframe thead th {\n",
       "        text-align: left;\n",
       "    }\n",
       "\n",
       "    .dataframe tbody tr th {\n",
       "        vertical-align: top;\n",
       "    }\n",
       "</style>\n",
       "<table border=\"1\" class=\"dataframe\">\n",
       "  <thead>\n",
       "    <tr style=\"text-align: right;\">\n",
       "      <th></th>\n",
       "      <th>ID</th>\n",
       "      <th>Name</th>\n",
       "      <th>Sex</th>\n",
       "      <th>Age</th>\n",
       "      <th>Height</th>\n",
       "      <th>Weight</th>\n",
       "      <th>Team</th>\n",
       "      <th>NOC</th>\n",
       "      <th>Games</th>\n",
       "      <th>Year</th>\n",
       "      <th>Season</th>\n",
       "      <th>City</th>\n",
       "      <th>Sport</th>\n",
       "      <th>Event</th>\n",
       "      <th>Medal</th>\n",
       "      <th>Country</th>\n",
       "      <th>notes</th>\n",
       "    </tr>\n",
       "  </thead>\n",
       "  <tbody>\n",
       "    <tr>\n",
       "      <th>578</th>\n",
       "      <td>332</td>\n",
       "      <td>Zarinah Abdullah</td>\n",
       "      <td>F</td>\n",
       "      <td>21.0</td>\n",
       "      <td>NaN</td>\n",
       "      <td>NaN</td>\n",
       "      <td>Singapore</td>\n",
       "      <td>SGP</td>\n",
       "      <td>1992 Summer</td>\n",
       "      <td>1992</td>\n",
       "      <td>Summer</td>\n",
       "      <td>Barcelona</td>\n",
       "      <td>Badminton</td>\n",
       "      <td>Badminton Women's Singles</td>\n",
       "      <td>No_Medal</td>\n",
       "      <td>NaN</td>\n",
       "      <td>NaN</td>\n",
       "    </tr>\n",
       "    <tr>\n",
       "      <th>579</th>\n",
       "      <td>332</td>\n",
       "      <td>Zarinah Abdullah</td>\n",
       "      <td>F</td>\n",
       "      <td>25.0</td>\n",
       "      <td>NaN</td>\n",
       "      <td>NaN</td>\n",
       "      <td>Singapore</td>\n",
       "      <td>SGP</td>\n",
       "      <td>1996 Summer</td>\n",
       "      <td>1996</td>\n",
       "      <td>Summer</td>\n",
       "      <td>Atlanta</td>\n",
       "      <td>Badminton</td>\n",
       "      <td>Badminton Women's Singles</td>\n",
       "      <td>No_Medal</td>\n",
       "      <td>NaN</td>\n",
       "      <td>NaN</td>\n",
       "    </tr>\n",
       "  </tbody>\n",
       "</table>\n",
       "</div>"
      ],
      "text/plain": [
       "      ID              Name Sex   Age  Height  Weight       Team  NOC  \\\n",
       "578  332  Zarinah Abdullah   F  21.0     NaN     NaN  Singapore  SGP   \n",
       "579  332  Zarinah Abdullah   F  25.0     NaN     NaN  Singapore  SGP   \n",
       "\n",
       "           Games  Year  Season       City      Sport  \\\n",
       "578  1992 Summer  1992  Summer  Barcelona  Badminton   \n",
       "579  1996 Summer  1996  Summer    Atlanta  Badminton   \n",
       "\n",
       "                         Event     Medal Country notes  \n",
       "578  Badminton Women's Singles  No_Medal     NaN   NaN  \n",
       "579  Badminton Women's Singles  No_Medal     NaN   NaN  "
      ]
     },
     "execution_count": 72,
     "metadata": {},
     "output_type": "execute_result"
    }
   ],
   "source": [
    "merged[merged.Country.isnull()].head(2) # looks like the culprit is team Singapore with NOC code SGP"
   ]
  },
  {
   "cell_type": "code",
   "execution_count": 73,
   "metadata": {
    "collapsed": false,
    "scrolled": true
   },
   "outputs": [
    {
     "data": {
      "text/plain": [
       "array(['SGP'], dtype=object)"
      ]
     },
     "execution_count": 73,
     "metadata": {},
     "output_type": "execute_result"
    }
   ],
   "source": [
    "merged[merged.Country.isnull()]['NOC'].unique()"
   ]
  },
  {
   "cell_type": "code",
   "execution_count": 74,
   "metadata": {
    "collapsed": false,
    "scrolled": true
   },
   "outputs": [
    {
     "data": {
      "text/html": [
       "<div>\n",
       "<style>\n",
       "    .dataframe thead tr:only-child th {\n",
       "        text-align: right;\n",
       "    }\n",
       "\n",
       "    .dataframe thead th {\n",
       "        text-align: left;\n",
       "    }\n",
       "\n",
       "    .dataframe tbody tr th {\n",
       "        vertical-align: top;\n",
       "    }\n",
       "</style>\n",
       "<table border=\"1\" class=\"dataframe\">\n",
       "  <thead>\n",
       "    <tr style=\"text-align: right;\">\n",
       "      <th></th>\n",
       "      <th>NOC</th>\n",
       "      <th>Country</th>\n",
       "      <th>notes</th>\n",
       "    </tr>\n",
       "  </thead>\n",
       "  <tbody>\n",
       "  </tbody>\n",
       "</table>\n",
       "</div>"
      ],
      "text/plain": [
       "Empty DataFrame\n",
       "Columns: [NOC, Country, notes]\n",
       "Index: []"
      ]
     },
     "execution_count": 74,
     "metadata": {},
     "output_type": "execute_result"
    }
   ],
   "source": [
    "regions[regions.NOC == 'SGP']"
   ]
  },
  {
   "cell_type": "code",
   "execution_count": 75,
   "metadata": {
    "collapsed": false
   },
   "outputs": [
    {
     "data": {
      "text/html": [
       "<div>\n",
       "<style>\n",
       "    .dataframe thead tr:only-child th {\n",
       "        text-align: right;\n",
       "    }\n",
       "\n",
       "    .dataframe thead th {\n",
       "        text-align: left;\n",
       "    }\n",
       "\n",
       "    .dataframe tbody tr th {\n",
       "        vertical-align: top;\n",
       "    }\n",
       "</style>\n",
       "<table border=\"1\" class=\"dataframe\">\n",
       "  <thead>\n",
       "    <tr style=\"text-align: right;\">\n",
       "      <th></th>\n",
       "      <th>NOC</th>\n",
       "      <th>Country</th>\n",
       "      <th>notes</th>\n",
       "    </tr>\n",
       "  </thead>\n",
       "  <tbody>\n",
       "    <tr>\n",
       "      <th>178</th>\n",
       "      <td>SIN</td>\n",
       "      <td>Singapore</td>\n",
       "      <td>NaN</td>\n",
       "    </tr>\n",
       "  </tbody>\n",
       "</table>\n",
       "</div>"
      ],
      "text/plain": [
       "     NOC    Country notes\n",
       "178  SIN  Singapore   NaN"
      ]
     },
     "execution_count": 75,
     "metadata": {},
     "output_type": "execute_result"
    }
   ],
   "source": [
    "regions[regions.Country == 'Singapore']"
   ]
  },
  {
   "cell_type": "markdown",
   "metadata": {},
   "source": [
    "So Singapore has two NOC codes: SIN with a correct country name and SGP with a NaN Country name. \n",
    "Action: Overwrite country code to SIN and fill Country with 'Singapore':"
   ]
  },
  {
   "cell_type": "code",
   "execution_count": 76,
   "metadata": {
    "collapsed": false
   },
   "outputs": [],
   "source": [
    "merged.Country.fillna('Singapore',inplace=True)\n",
    "merged.NOC.replace('SGP','SIN',inplace=True)"
   ]
  },
  {
   "cell_type": "code",
   "execution_count": 77,
   "metadata": {
    "collapsed": false,
    "scrolled": true
   },
   "outputs": [
    {
     "data": {
      "text/plain": [
       "PLE    1\n",
       "AUT    1\n",
       "Name: NOC, dtype: int64"
      ]
     },
     "execution_count": 77,
     "metadata": {},
     "output_type": "execute_result"
    }
   ],
   "source": [
    "merged.loc[:, ['NOC', 'Country']].drop_duplicates()['NOC'].value_counts().head(2) # all codes unique to country "
   ]
  },
  {
   "cell_type": "code",
   "execution_count": 78,
   "metadata": {
    "collapsed": false
   },
   "outputs": [],
   "source": [
    "# CLEAN UP : can drop the 'notes' column\n",
    "merged.drop('notes',axis=1,inplace=True)"
   ]
  },
  {
   "cell_type": "markdown",
   "metadata": {},
   "source": [
    "## Fill Missing Data in Age, Height and Weight \n",
    "\n",
    "#### Start by further exploring and visualising the available Age, Height and Weight data:"
   ]
  },
  {
   "cell_type": "markdown",
   "metadata": {},
   "source": [
    "Make plots to look at trends in the Age, Height and Weight variables with time and gender "
   ]
  },
  {
   "cell_type": "code",
   "execution_count": 79,
   "metadata": {
    "collapsed": false
   },
   "outputs": [
    {
     "data": {
      "image/png": "[encoded data removed]",
      "text/plain": [
       "<matplotlib.figure.Figure at 0x1274ffb70>"
      ]
     },
     "metadata": {},
     "output_type": "display_data"
    }
   ],
   "source": [
    "fig, (ax1, ax2,ax3) = plt.subplots(3, 1, sharex=True)\n",
    "ax1.set_title('Evolition of Average Athletes Height by gender')\n",
    "merged.groupby(['Year', 'Sex'])['Height'].mean().unstack().plot(ax=ax1)\n",
    "ax2.set_title('Evolition of Average Athletes Weight by gender')\n",
    "merged.groupby(['Year', 'Sex'])['Weight'].mean().unstack().plot(ax=ax2)\n",
    "ax3.set_title('Evolition of Average Athletes Age by gender')\n",
    "merged.groupby(['Year', 'Sex'])['Age'].mean().unstack().plot(ax=ax3,figsize=(15,10))\n",
    "plt.show()"
   ]
  },
  {
   "cell_type": "markdown",
   "metadata": {},
   "source": [
    "__Observe:__<br>\n",
    "- Clearly, Age/ Height/ Weight differ with gender.\n",
    "- Since the 1960s Height/ Weight follow an upward trend.\n",
    "- There are no values for Female Height or Weight before 1920, however some values for Age exists. Therefore, it is likely that a large proportion of the missing Height/Weight data if from early Olympiads. \n",
    "- The’ zig-zag' pattern in the Height and Weight plots after 1992 corresponds to the time when the Winter and Summer Games stopped being hosted in the same year.\n",
    "- Average age gap between the sexes has diminished with time and today athletes are on average almost the same age. Curiously, the athletes have on average gotten older in the last few Olympiads. "
   ]
  },
  {
   "cell_type": "markdown",
   "metadata": {},
   "source": [
    "__Next__: Make bubble plot showing avergare body metrics by sport"
   ]
  },
  {
   "cell_type": "code",
   "execution_count": 80,
   "metadata": {
    "collapsed": false
   },
   "outputs": [],
   "source": [
    "df1 = merged.groupby(['Sport'])['Height', 'Weight'].agg('mean').dropna().reset_index()\n",
    "df2 = merged.groupby(['Sport'])['ID'].count().reset_index() \n",
    "df4plot = df1.merge(df2)"
   ]
  },
  {
   "cell_type": "code",
   "execution_count": 81,
   "metadata": {
    "collapsed": false
   },
   "outputs": [
    {
     "data": {
      "text/html": [
       "<script>requirejs.config({paths: { 'plotly': ['https://cdn.plot.ly/plotly-latest.min']},});if(!window.Plotly) {{require(['plotly'],function(plotly) {window.Plotly=plotly;});}}</script>"
      ],
      "text/vnd.plotly.v1+html": [
       "<script>requirejs.config({paths: { 'plotly': ['https://cdn.plot.ly/plotly-latest.min']},});if(!window.Plotly) {{require(['plotly'],function(plotly) {window.Plotly=plotly;});}}</script>"
      ]
     },
     "metadata": {},
     "output_type": "display_data"
    },
    {
     "data": {
      "application/vnd.plotly.v1+json": {
       "data": [
        {
         "marker": {
          "size": [
           8829
          ],
          "sizemode": "area",
          "sizeref": 7,
          "symbol": "circle"
         },
         "name": "Alpine Skiing",
         "type": "scatter",
         "uid": "b9f90e38-f111-11e8-ab0a-6a00023e0920",
         "x": [
          173.48905223647168
         ],
         "y": [
          72.06811023622048
         ]
        },
        {
         "marker": {
          "size": [
           2334
          ],
          "sizemode": "area",
          "sizeref": 7,
          "symbol": "circle"
         },
         "name": "Archery",
         "type": "scatter",
         "uid": "b9f910b8-f111-11e8-9fe4-6a00023e0920",
         "x": [
          173.2030848329049
         ],
         "y": [
          70.01113467656415
         ]
        },
        {
         "marker": {
          "size": [
           2263
          ],
          "sizemode": "area",
          "sizeref": 7,
          "symbol": "circle"
         },
         "name": "Art Competitions",
         "type": "scatter",
         "uid": "b9f911f8-f111-11e8-b9e4-6a00023e0920",
         "x": [
          174.34375
         ],
         "y": [
          77.89473684210526
         ]
        },
        {
         "marker": {
          "size": [
           38624
          ],
          "sizemode": "area",
          "sizeref": 7,
          "symbol": "circle"
         },
         "name": "Athletics",
         "type": "scatter",
         "uid": "b9f91310-f111-11e8-811d-6a00023e0920",
         "x": [
          176.2562676634151
         ],
         "y": [
          69.24928683169227
         ]
        },
        {
         "marker": {
          "size": [
           1457
          ],
          "sizemode": "area",
          "sizeref": 7,
          "symbol": "circle"
         },
         "name": "Badminton",
         "type": "scatter",
         "uid": "b9f9141e-f111-11e8-ba94-6a00023e0920",
         "x": [
          174.17880317231436
         ],
         "y": [
          68.17143906020559
         ]
        },
        {
         "marker": {
          "size": [
           894
          ],
          "sizemode": "area",
          "sizeref": 7,
          "symbol": "circle"
         },
         "name": "Baseball",
         "type": "scatter",
         "uid": "b9f91522-f111-11e8-bdfe-6a00023e0920",
         "x": [
          182.59929078014184
         ],
         "y": [
          85.70779220779221
         ]
        },
        {
         "marker": {
          "size": [
           4536
          ],
          "sizemode": "area",
          "sizeref": 7,
          "symbol": "circle"
         },
         "name": "Basketball",
         "type": "scatter",
         "uid": "b9f9162e-f111-11e8-a4df-6a00023e0920",
         "x": [
          190.86987889719146
         ],
         "y": [
          85.77705274605763
         ]
        },
        {
         "marker": {
          "size": [
           564
          ],
          "sizemode": "area",
          "sizeref": 7,
          "symbol": "circle"
         },
         "name": "Beach Volleyball",
         "type": "scatter",
         "uid": "b9f91734-f111-11e8-8784-6a00023e0920",
         "x": [
          186.14495412844036
         ],
         "y": [
          79.08921933085502
         ]
        },
        {
         "marker": {
          "size": [
           4893
          ],
          "sizemode": "area",
          "sizeref": 7,
          "symbol": "circle"
         },
         "name": "Biathlon",
         "type": "scatter",
         "uid": "b9f91836-f111-11e8-b84b-6a00023e0920",
         "x": [
          174.03476570935004
         ],
         "y": [
          66.6314192849404
         ]
        },
        {
         "marker": {
          "size": [
           3058
          ],
          "sizemode": "area",
          "sizeref": 7,
          "symbol": "circle"
         },
         "name": "Bobsleigh",
         "type": "scatter",
         "uid": "b9f91948-f111-11e8-aa95-6a00023e0920",
         "x": [
          181.4375
         ],
         "y": [
          89.250678119349
         ]
        },
        {
         "marker": {
          "size": [
           6047
          ],
          "sizemode": "area",
          "sizeref": 7,
          "symbol": "circle"
         },
         "name": "Boxing",
         "type": "scatter",
         "uid": "b9f91a4a-f111-11e8-827a-6a00023e0920",
         "x": [
          172.8256880733945
         ],
         "y": [
          65.2498901098901
         ]
        },
        {
         "marker": {
          "size": [
           6171
          ],
          "sizemode": "area",
          "sizeref": 7,
          "symbol": "circle"
         },
         "name": "Canoeing",
         "type": "scatter",
         "uid": "b9f91b50-f111-11e8-9515-6a00023e0920",
         "x": [
          178.53956834532374
         ],
         "y": [
          76.49261527377521
         ]
        },
        {
         "marker": {
          "size": [
           9133
          ],
          "sizemode": "area",
          "sizeref": 7,
          "symbol": "circle"
         },
         "name": "Cross Country Skiing",
         "type": "scatter",
         "uid": "b9f91cb6-f111-11e8-a3d5-6a00023e0920",
         "x": [
          173.24918503064285
         ],
         "y": [
          65.87767016054133
         ]
        },
        {
         "marker": {
          "size": [
           463
          ],
          "sizemode": "area",
          "sizeref": 7,
          "symbol": "circle"
         },
         "name": "Curling",
         "type": "scatter",
         "uid": "b9f91dd8-f111-11e8-87d6-6a00023e0920",
         "x": [
          174.203125
         ],
         "y": [
          72.13170731707316
         ]
        },
        {
         "marker": {
          "size": [
           10827
          ],
          "sizemode": "area",
          "sizeref": 7,
          "symbol": "circle"
         },
         "name": "Cycling",
         "type": "scatter",
         "uid": "b9f91edc-f111-11e8-9d9c-6a00023e0920",
         "x": [
          176.1073354231975
         ],
         "y": [
          70.06629199131434
         ]
        },
        {
         "marker": {
          "size": [
           2842
          ],
          "sizemode": "area",
          "sizeref": 7,
          "symbol": "circle"
         },
         "name": "Diving",
         "type": "scatter",
         "uid": "b9f91fd4-f111-11e8-a2b9-6a00023e0920",
         "x": [
          166.63426371511068
         ],
         "y": [
          60.5727408142999
         ]
        },
        {
         "marker": {
          "size": [
           6343
          ],
          "sizemode": "area",
          "sizeref": 7,
          "symbol": "circle"
         },
         "name": "Equestrianism",
         "type": "scatter",
         "uid": "b9f920da-f111-11e8-8bc3-6a00023e0920",
         "x": [
          174.37527162103433
         ],
         "y": [
          67.80397540083462
         ]
        },
        {
         "marker": {
          "size": [
           10735
          ],
          "sizemode": "area",
          "sizeref": 7,
          "symbol": "circle"
         },
         "name": "Fencing",
         "type": "scatter",
         "uid": "b9f921dc-f111-11e8-8e1b-6a00023e0920",
         "x": [
          177.1641769606435
         ],
         "y": [
          71.3875382262997
         ]
        },
        {
         "marker": {
          "size": [
           2298
          ],
          "sizemode": "area",
          "sizeref": 7,
          "symbol": "circle"
         },
         "name": "Figure Skating",
         "type": "scatter",
         "uid": "b9f922e2-f111-11e8-9727-6a00023e0920",
         "x": [
          168.2021595680864
         ],
         "y": [
          59.54365079365079
         ]
        },
        {
         "marker": {
          "size": [
           6745
          ],
          "sizemode": "area",
          "sizeref": 7,
          "symbol": "circle"
         },
         "name": "Football",
         "type": "scatter",
         "uid": "b9f923e6-f111-11e8-8f32-6a00023e0920",
         "x": [
          175.40219496449322
         ],
         "y": [
          70.44683432605339
         ]
        },
        {
         "marker": {
          "size": [
           937
          ],
          "sizemode": "area",
          "sizeref": 7,
          "symbol": "circle"
         },
         "name": "Freestyle Skiing",
         "type": "scatter",
         "uid": "b9f924ec-f111-11e8-bb8e-6a00023e0920",
         "x": [
          171.01295896328293
         ],
         "y": [
          67.02683461117196
         ]
        },
        {
         "marker": {
          "size": [
           247
          ],
          "sizemode": "area",
          "sizeref": 7,
          "symbol": "circle"
         },
         "name": "Golf",
         "type": "scatter",
         "uid": "b9f925ee-f111-11e8-9aee-6a00023e0920",
         "x": [
          174.29007633587787
         ],
         "y": [
          71.19444444444444
         ]
        },
        {
         "marker": {
          "size": [
           26707
          ],
          "sizemode": "area",
          "sizeref": 7,
          "symbol": "circle"
         },
         "name": "Gymnastics",
         "type": "scatter",
         "uid": "b9f9274a-f111-11e8-9d7b-6a00023e0920",
         "x": [
          162.93601971921552
         ],
         "y": [
          56.91655304063267
         ]
        },
        {
         "marker": {
          "size": [
           3665
          ],
          "sizemode": "area",
          "sizeref": 7,
          "symbol": "circle"
         },
         "name": "Handball",
         "type": "scatter",
         "uid": "b9f92864-f111-11e8-b534-6a00023e0920",
         "x": [
          183.38459241564647
         ],
         "y": [
          81.49715142428785
         ]
        },
        {
         "marker": {
          "size": [
           5417
          ],
          "sizemode": "area",
          "sizeref": 7,
          "symbol": "circle"
         },
         "name": "Hockey",
         "type": "scatter",
         "uid": "b9f92968-f111-11e8-b074-6a00023e0920",
         "x": [
          173.35967555040557
         ],
         "y": [
          69.16990860089055
         ]
        },
        {
         "marker": {
          "size": [
           5516
          ],
          "sizemode": "area",
          "sizeref": 7,
          "symbol": "circle"
         },
         "name": "Ice Hockey",
         "type": "scatter",
         "uid": "b9f92a64-f111-11e8-ab7e-6a00023e0920",
         "x": [
          178.90132292344393
         ],
         "y": [
          80.8103635967777
         ]
        },
        {
         "marker": {
          "size": [
           3801
          ],
          "sizemode": "area",
          "sizeref": 7,
          "symbol": "circle"
         },
         "name": "Judo",
         "type": "scatter",
         "uid": "b9f92b66-f111-11e8-a1c5-6a00023e0920",
         "x": [
          174.18735294117647
         ],
         "y": [
          78.75986651189785
         ]
        },
        {
         "marker": {
          "size": [
           60
          ],
          "sizemode": "area",
          "sizeref": 7,
          "symbol": "circle"
         },
         "name": "Lacrosse",
         "type": "scatter",
         "uid": "b9f92c6c-f111-11e8-ab22-6a00023e0920",
         "x": [
          174
         ],
         "y": [
          76.71428571428571
         ]
        },
        {
         "marker": {
          "size": [
           1479
          ],
          "sizemode": "area",
          "sizeref": 7,
          "symbol": "circle"
         },
         "name": "Luge",
         "type": "scatter",
         "uid": "b9f92d6e-f111-11e8-ab06-6a00023e0920",
         "x": [
          176.65774240231548
         ],
         "y": [
          77.26415094339623
         ]
        },
        {
         "marker": {
          "size": [
           1677
          ],
          "sizemode": "area",
          "sizeref": 7,
          "symbol": "circle"
         },
         "name": "Modern Pentathlon",
         "type": "scatter",
         "uid": "b9f92e74-f111-11e8-93a7-6a00023e0920",
         "x": [
          177.94431554524363
         ],
         "y": [
          70.27954004758128
         ]
        },
        {
         "marker": {
          "size": [
           17
          ],
          "sizemode": "area",
          "sizeref": 7,
          "symbol": "circle"
         },
         "name": "Motorboating",
         "type": "scatter",
         "uid": "b9f92f76-f111-11e8-9895-6a00023e0920",
         "x": [
          181
         ],
         "y": [
          77
         ]
        },
        {
         "marker": {
          "size": [
           1344
          ],
          "sizemode": "area",
          "sizeref": 7,
          "symbol": "circle"
         },
         "name": "Nordic Combined",
         "type": "scatter",
         "uid": "b9f930ca-f111-11e8-bdf8-6a00023e0920",
         "x": [
          176.50446428571428
         ],
         "y": [
          66.9095595126523
         ]
        },
        {
         "marker": {
          "size": [
           658
          ],
          "sizemode": "area",
          "sizeref": 7,
          "symbol": "circle"
         },
         "name": "Rhythmic Gymnastics",
         "type": "scatter",
         "uid": "b9f931e2-f111-11e8-ab33-6a00023e0920",
         "x": [
          167.87025316455697
         ],
         "y": [
          48.760975609756095
         ]
        },
        {
         "marker": {
          "size": [
           10595
          ],
          "sizemode": "area",
          "sizeref": 7,
          "symbol": "circle"
         },
         "name": "Rowing",
         "type": "scatter",
         "uid": "b9f932dc-f111-11e8-a65e-6a00023e0920",
         "x": [
          184.17222222222222
         ],
         "y": [
          80.03586285138032
         ]
        },
        {
         "marker": {
          "size": [
           162
          ],
          "sizemode": "area",
          "sizeref": 7,
          "symbol": "circle"
         },
         "name": "Rugby",
         "type": "scatter",
         "uid": "b9f933e2-f111-11e8-9e16-6a00023e0920",
         "x": [
          176.09677419354838
         ],
         "y": [
          77.53333333333333
         ]
        },
        {
         "marker": {
          "size": [
           299
          ],
          "sizemode": "area",
          "sizeref": 7,
          "symbol": "circle"
         },
         "name": "Rugby Sevens",
         "type": "scatter",
         "uid": "b9f934da-f111-11e8-a887-6a00023e0920",
         "x": [
          175.36363636363637
         ],
         "y": [
          78.93979933110369
         ]
        },
        {
         "marker": {
          "size": [
           6549
          ],
          "sizemode": "area",
          "sizeref": 7,
          "symbol": "circle"
         },
         "name": "Sailing",
         "type": "scatter",
         "uid": "b9f9362e-f111-11e8-a37b-6a00023e0920",
         "x": [
          178.2621988256732
         ],
         "y": [
          75.97515400410677
         ]
        },
        {
         "marker": {
          "size": [
           11448
          ],
          "sizemode": "area",
          "sizeref": 7,
          "symbol": "circle"
         },
         "name": "Shooting",
         "type": "scatter",
         "uid": "b9f93746-f111-11e8-8798-6a00023e0920",
         "x": [
          173.5721736862694
         ],
         "y": [
          74.02787671232876
         ]
        },
        {
         "marker": {
          "size": [
           1534
          ],
          "sizemode": "area",
          "sizeref": 7,
          "symbol": "circle"
         },
         "name": "Short Track Speed Skating",
         "type": "scatter",
         "uid": "b9f93854-f111-11e8-bf0f-6a00023e0920",
         "x": [
          170.10819892473117
         ],
         "y": [
          64.31048387096774
         ]
        },
        {
         "marker": {
          "size": [
           199
          ],
          "sizemode": "area",
          "sizeref": 7,
          "symbol": "circle"
         },
         "name": "Skeleton",
         "type": "scatter",
         "uid": "b9f9396e-f111-11e8-9fb2-6a00023e0920",
         "x": [
          176.18857142857144
         ],
         "y": [
          74.16666666666667
         ]
        },
        {
         "marker": {
          "size": [
           2401
          ],
          "sizemode": "area",
          "sizeref": 7,
          "symbol": "circle"
         },
         "name": "Ski Jumping",
         "type": "scatter",
         "uid": "b9f93a7a-f111-11e8-83dc-6a00023e0920",
         "x": [
          176.4027572624323
         ],
         "y": [
          65.07901422764228
         ]
        },
        {
         "marker": {
          "size": [
           936
          ],
          "sizemode": "area",
          "sizeref": 7,
          "symbol": "circle"
         },
         "name": "Snowboarding",
         "type": "scatter",
         "uid": "b9f93bf6-f111-11e8-93bb-6a00023e0920",
         "x": [
          173.0855614973262
         ],
         "y": [
          69.54918918918919
         ]
        },
        {
         "marker": {
          "size": [
           478
          ],
          "sizemode": "area",
          "sizeref": 7,
          "symbol": "circle"
         },
         "name": "Softball",
         "type": "scatter",
         "uid": "b9f93d22-f111-11e8-93b6-6a00023e0920",
         "x": [
          169.39508928571428
         ],
         "y": [
          67.47165532879819
         ]
        },
        {
         "marker": {
          "size": [
           5613
          ],
          "sizemode": "area",
          "sizeref": 7,
          "symbol": "circle"
         },
         "name": "Speed Skating",
         "type": "scatter",
         "uid": "b9f93e38-f111-11e8-91ed-6a00023e0920",
         "x": [
          174.08335175768295
         ],
         "y": [
          70.02635150418457
         ]
        },
        {
         "marker": {
          "size": [
           23195
          ],
          "sizemode": "area",
          "sizeref": 7,
          "symbol": "circle"
         },
         "name": "Swimming",
         "type": "scatter",
         "uid": "b9f93f52-f111-11e8-8649-6a00023e0920",
         "x": [
          178.562454308094
         ],
         "y": [
          70.58849181025313
         ]
        },
        {
         "marker": {
          "size": [
           909
          ],
          "sizemode": "area",
          "sizeref": 7,
          "symbol": "circle"
         },
         "name": "Synchronized Swimming",
         "type": "scatter",
         "uid": "b9f94068-f111-11e8-9b23-6a00023e0920",
         "x": [
          168.4814814814815
         ],
         "y": [
          55.86352941176471
         ]
        },
        {
         "marker": {
          "size": [
           1955
          ],
          "sizemode": "area",
          "sizeref": 7,
          "symbol": "circle"
         },
         "name": "Table Tennis",
         "type": "scatter",
         "uid": "b9f94182-f111-11e8-9662-6a00023e0920",
         "x": [
          171.25377305757405
         ],
         "y": [
          64.95644891122278
         ]
        },
        {
         "marker": {
          "size": [
           606
          ],
          "sizemode": "area",
          "sizeref": 7,
          "symbol": "circle"
         },
         "name": "Taekwondo",
         "type": "scatter",
         "uid": "b9f94290-f111-11e8-8da5-6a00023e0920",
         "x": [
          176.75083612040135
         ],
         "y": [
          68.00747508305648
         ]
        },
        {
         "marker": {
          "size": [
           2862
          ],
          "sizemode": "area",
          "sizeref": 7,
          "symbol": "circle"
         },
         "name": "Tennis",
         "type": "scatter",
         "uid": "b9f943a6-f111-11e8-82e8-6a00023e0920",
         "x": [
          178.898139079334
         ],
         "y": [
          70.80229083665338
         ]
        },
        {
         "marker": {
          "size": [
           152
          ],
          "sizemode": "area",
          "sizeref": 7,
          "symbol": "circle"
         },
         "name": "Trampolining",
         "type": "scatter",
         "uid": "b9f944b6-f111-11e8-a1f6-6a00023e0920",
         "x": [
          166.58278145695365
         ],
         "y": [
          59.32214765100671
         ]
        },
        {
         "marker": {
          "size": [
           529
          ],
          "sizemode": "area",
          "sizeref": 7,
          "symbol": "circle"
         },
         "name": "Triathlon",
         "type": "scatter",
         "uid": "b9f945cc-f111-11e8-804e-6a00023e0920",
         "x": [
          173.64583333333334
         ],
         "y": [
          61.81749049429658
         ]
        },
        {
         "marker": {
          "size": [
           170
          ],
          "sizemode": "area",
          "sizeref": 7,
          "symbol": "circle"
         },
         "name": "Tug-Of-War",
         "type": "scatter",
         "uid": "b9f9474a-f111-11e8-a0c9-6a00023e0920",
         "x": [
          182.48
         ],
         "y": [
          95.61538461538461
         ]
        },
        {
         "marker": {
          "size": [
           3404
          ],
          "sizemode": "area",
          "sizeref": 7,
          "symbol": "circle"
         },
         "name": "Volleyball",
         "type": "scatter",
         "uid": "b9f94876-f111-11e8-8a12-6a00023e0920",
         "x": [
          186.99482180932074
         ],
         "y": [
          78.90021361000916
         ]
        },
        {
         "marker": {
          "size": [
           3846
          ],
          "sizemode": "area",
          "sizeref": 7,
          "symbol": "circle"
         },
         "name": "Water Polo",
         "type": "scatter",
         "uid": "b9f94986-f111-11e8-ba7d-6a00023e0920",
         "x": [
          184.83464849354377
         ],
         "y": [
          84.56644640234948
         ]
        },
        {
         "marker": {
          "size": [
           3937
          ],
          "sizemode": "area",
          "sizeref": 7,
          "symbol": "circle"
         },
         "name": "Weightlifting",
         "type": "scatter",
         "uid": "b9f94a88-f111-11e8-a0a3-6a00023e0920",
         "x": [
          167.8248005319149
         ],
         "y": [
          78.72666316066265
         ]
        },
        {
         "marker": {
          "size": [
           7154
          ],
          "sizemode": "area",
          "sizeref": 7,
          "symbol": "circle"
         },
         "name": "Wrestling",
         "type": "scatter",
         "uid": "b9f94b8c-f111-11e8-8880-6a00023e0920",
         "x": [
          172.35858585858585
         ],
         "y": [
          75.49557021677663
         ]
        }
       ],
       "layout": {
        "showlegend": false,
        "title": "Athletes average body metrics by sport",
        "xaxis": {
         "title": "Height (cm)"
        },
        "yaxis": {
         "title": "Weight (kg)"
        }
       }
      },
      "text/html": [
       "<div id=\"796c2b4a-9bfa-40df-99ce-ab319032b2b3\" style=\"height: 525px; width: 100%;\" class=\"plotly-graph-div\"></div><script type=\"text/javascript\">require([\"plotly\"], function(Plotly) { window.PLOTLYENV=window.PLOTLYENV || {};window.PLOTLYENV.BASE_URL=\"https://plot.ly\";Plotly.newPlot(\"796c2b4a-9bfa-40df-99ce-ab319032b2b3\", [{\"y\": [72.06811023622048], \"marker\": {\"size\": [8829], \"symbol\": \"circle\", \"sizemode\": \"area\", \"sizeref\": 7}, \"type\": \"scatter\", \"x\": [173.48905223647168], \"uid\": \"ba1d7870-f111-11e8-b3b6-6a00023e0920\", \"name\": \"Alpine Skiing\"}, {\"y\": [70.01113467656415], \"marker\": {\"size\": [2334], \"symbol\": \"circle\", \"sizemode\": \"area\", \"sizeref\": 7}, \"type\": \"scatter\", \"x\": [173.2030848329049], \"uid\": \"ba1d7b58-f111-11e8-a1eb-6a00023e0920\", \"name\": \"Archery\"}, {\"y\": [77.89473684210526], \"marker\": {\"size\": [2263], \"symbol\": \"circle\", \"sizemode\": \"area\", \"sizeref\": 7}, \"type\": \"scatter\", \"x\": [174.34375], \"uid\": \"ba1d7c98-f111-11e8-874e-6a00023e0920\", \"name\": \"Art Competitions\"}, {\"y\": [69.24928683169227], \"marker\": {\"size\": [38624], \"symbol\": \"circle\", \"sizemode\": \"area\", \"sizeref\": 7}, \"type\": \"scatter\", \"x\": [176.2562676634151], \"uid\": \"ba1d7db8-f111-11e8-9de9-6a00023e0920\", \"name\": \"Athletics\"}, {\"y\": [68.17143906020559], \"marker\": {\"size\": [1457], \"symbol\": \"circle\", \"sizemode\": \"area\", \"sizeref\": 7}, \"type\": \"scatter\", \"x\": [174.17880317231436], \"uid\": \"ba1d7ed0-f111-11e8-af73-6a00023e0920\", \"name\": \"Badminton\"}, {\"y\": [85.70779220779221], \"marker\": {\"size\": [894], \"symbol\": \"circle\", \"sizemode\": \"area\", \"sizeref\": 7}, \"type\": \"scatter\", \"x\": [182.59929078014184], \"uid\": \"ba1d7fe6-f111-11e8-82c2-6a00023e0920\", \"name\": \"Baseball\"}, {\"y\": [85.77705274605763], \"marker\": {\"size\": [4536], \"symbol\": \"circle\", \"sizemode\": \"area\", \"sizeref\": 7}, \"type\": \"scatter\", \"x\": [190.86987889719146], \"uid\": \"ba1d80f6-f111-11e8-9f33-6a00023e0920\", \"name\": \"Basketball\"}, {\"y\": [79.08921933085502], \"marker\": {\"size\": [564], \"symbol\": \"circle\", \"sizemode\": \"area\", \"sizeref\": 7}, \"type\": \"scatter\", \"x\": [186.14495412844036], \"uid\": \"ba1d8210-f111-11e8-b99f-6a00023e0920\", \"name\": \"Beach Volleyball\"}, {\"y\": [66.6314192849404], \"marker\": {\"size\": [4893], \"symbol\": \"circle\", \"sizemode\": \"area\", \"sizeref\": 7}, \"type\": \"scatter\", \"x\": [174.03476570935004], \"uid\": \"ba1d831c-f111-11e8-88e5-6a00023e0920\", \"name\": \"Biathlon\"}, {\"y\": [89.250678119349], \"marker\": {\"size\": [3058], \"symbol\": \"circle\", \"sizemode\": \"area\", \"sizeref\": 7}, \"type\": \"scatter\", \"x\": [181.4375], \"uid\": \"ba1d8428-f111-11e8-9877-6a00023e0920\", \"name\": \"Bobsleigh\"}, {\"y\": [65.2498901098901], \"marker\": {\"size\": [6047], \"symbol\": \"circle\", \"sizemode\": \"area\", \"sizeref\": 7}, \"type\": \"scatter\", \"x\": [172.8256880733945], \"uid\": \"ba1d8542-f111-11e8-b71e-6a00023e0920\", \"name\": \"Boxing\"}, {\"y\": [76.49261527377521], \"marker\": {\"size\": [6171], \"symbol\": \"circle\", \"sizemode\": \"area\", \"sizeref\": 7}, \"type\": \"scatter\", \"x\": [178.53956834532374], \"uid\": \"ba1d8682-f111-11e8-be62-6a00023e0920\", \"name\": \"Canoeing\"}, {\"y\": [65.87767016054133], \"marker\": {\"size\": [9133], \"symbol\": \"circle\", \"sizemode\": \"area\", \"sizeref\": 7}, \"type\": \"scatter\", \"x\": [173.24918503064285], \"uid\": \"ba1d87a4-f111-11e8-bb45-6a00023e0920\", \"name\": \"Cross Country Skiing\"}, {\"y\": [72.13170731707316], \"marker\": {\"size\": [463], \"symbol\": \"circle\", \"sizemode\": \"area\", \"sizeref\": 7}, \"type\": \"scatter\", \"x\": [174.203125], \"uid\": \"ba1d88ba-f111-11e8-b3c3-6a00023e0920\", \"name\": \"Curling\"}, {\"y\": [70.06629199131434], \"marker\": {\"size\": [10827], \"symbol\": \"circle\", \"sizemode\": \"area\", \"sizeref\": 7}, \"type\": \"scatter\", \"x\": [176.1073354231975], \"uid\": \"ba1d89c0-f111-11e8-99de-6a00023e0920\", \"name\": \"Cycling\"}, {\"y\": [60.5727408142999], \"marker\": {\"size\": [2842], \"symbol\": \"circle\", \"sizemode\": \"area\", \"sizeref\": 7}, \"type\": \"scatter\", \"x\": [166.63426371511068], \"uid\": \"ba1d8acc-f111-11e8-8d66-6a00023e0920\", \"name\": \"Diving\"}, {\"y\": [67.80397540083462], \"marker\": {\"size\": [6343], \"symbol\": \"circle\", \"sizemode\": \"area\", \"sizeref\": 7}, \"type\": \"scatter\", \"x\": [174.37527162103433], \"uid\": \"ba1d8be6-f111-11e8-9497-6a00023e0920\", \"name\": \"Equestrianism\"}, {\"y\": [71.3875382262997], \"marker\": {\"size\": [10735], \"symbol\": \"circle\", \"sizemode\": \"area\", \"sizeref\": 7}, \"type\": \"scatter\", \"x\": [177.1641769606435], \"uid\": \"ba1d8cf4-f111-11e8-8a67-6a00023e0920\", \"name\": \"Fencing\"}, {\"y\": [59.54365079365079], \"marker\": {\"size\": [2298], \"symbol\": \"circle\", \"sizemode\": \"area\", \"sizeref\": 7}, \"type\": \"scatter\", \"x\": [168.2021595680864], \"uid\": \"ba1d8e00-f111-11e8-948a-6a00023e0920\", \"name\": \"Figure Skating\"}, {\"y\": [70.44683432605339], \"marker\": {\"size\": [6745], \"symbol\": \"circle\", \"sizemode\": \"area\", \"sizeref\": 7}, \"type\": \"scatter\", \"x\": [175.40219496449322], \"uid\": \"ba1d8f1a-f111-11e8-abcb-6a00023e0920\", \"name\": \"Football\"}, {\"y\": [67.02683461117196], \"marker\": {\"size\": [937], \"symbol\": \"circle\", \"sizemode\": \"area\", \"sizeref\": 7}, \"type\": \"scatter\", \"x\": [171.01295896328293], \"uid\": \"ba1d905a-f111-11e8-9e19-6a00023e0920\", \"name\": \"Freestyle Skiing\"}, {\"y\": [71.19444444444444], \"marker\": {\"size\": [247], \"symbol\": \"circle\", \"sizemode\": \"area\", \"sizeref\": 7}, \"type\": \"scatter\", \"x\": [174.29007633587787], \"uid\": \"ba1d917e-f111-11e8-8f97-6a00023e0920\", \"name\": \"Golf\"}, {\"y\": [56.91655304063267], \"marker\": {\"size\": [26707], \"symbol\": \"circle\", \"sizemode\": \"area\", \"sizeref\": 7}, \"type\": \"scatter\", \"x\": [162.93601971921552], \"uid\": \"ba1d928a-f111-11e8-aa76-6a00023e0920\", \"name\": \"Gymnastics\"}, {\"y\": [81.49715142428785], \"marker\": {\"size\": [3665], \"symbol\": \"circle\", \"sizemode\": \"area\", \"sizeref\": 7}, \"type\": \"scatter\", \"x\": [183.38459241564647], \"uid\": \"ba1d9398-f111-11e8-b4c1-6a00023e0920\", \"name\": \"Handball\"}, {\"y\": [69.16990860089055], \"marker\": {\"size\": [5417], \"symbol\": \"circle\", \"sizemode\": \"area\", \"sizeref\": 7}, \"type\": \"scatter\", \"x\": [173.35967555040557], \"uid\": \"ba1d94a4-f111-11e8-ae18-6a00023e0920\", \"name\": \"Hockey\"}, {\"y\": [80.8103635967777], \"marker\": {\"size\": [5516], \"symbol\": \"circle\", \"sizemode\": \"area\", \"sizeref\": 7}, \"type\": \"scatter\", \"x\": [178.90132292344393], \"uid\": \"ba1d95b6-f111-11e8-9c49-6a00023e0920\", \"name\": \"Ice Hockey\"}, {\"y\": [78.75986651189785], \"marker\": {\"size\": [3801], \"symbol\": \"circle\", \"sizemode\": \"area\", \"sizeref\": 7}, \"type\": \"scatter\", \"x\": [174.18735294117647], \"uid\": \"ba1d96c2-f111-11e8-82d2-6a00023e0920\", \"name\": \"Judo\"}, {\"y\": [76.71428571428571], \"marker\": {\"size\": [60], \"symbol\": \"circle\", \"sizemode\": \"area\", \"sizeref\": 7}, \"type\": \"scatter\", \"x\": [174.0], \"uid\": \"ba1d97d0-f111-11e8-92b0-6a00023e0920\", \"name\": \"Lacrosse\"}, {\"y\": [77.26415094339623], \"marker\": {\"size\": [1479], \"symbol\": \"circle\", \"sizemode\": \"area\", \"sizeref\": 7}, \"type\": \"scatter\", \"x\": [176.65774240231548], \"uid\": \"ba1d98d4-f111-11e8-bd85-6a00023e0920\", \"name\": \"Luge\"}, {\"y\": [70.27954004758128], \"marker\": {\"size\": [1677], \"symbol\": \"circle\", \"sizemode\": \"area\", \"sizeref\": 7}, \"type\": \"scatter\", \"x\": [177.94431554524363], \"uid\": \"ba1d99e2-f111-11e8-95c4-6a00023e0920\", \"name\": \"Modern Pentathlon\"}, {\"y\": [77.0], \"marker\": {\"size\": [17], \"symbol\": \"circle\", \"sizemode\": \"area\", \"sizeref\": 7}, \"type\": \"scatter\", \"x\": [181.0], \"uid\": \"ba1d9b18-f111-11e8-8acb-6a00023e0920\", \"name\": \"Motorboating\"}, {\"y\": [66.9095595126523], \"marker\": {\"size\": [1344], \"symbol\": \"circle\", \"sizemode\": \"area\", \"sizeref\": 7}, \"type\": \"scatter\", \"x\": [176.50446428571428], \"uid\": \"ba1d9c3a-f111-11e8-82b4-6a00023e0920\", \"name\": \"Nordic Combined\"}, {\"y\": [48.760975609756095], \"marker\": {\"size\": [658], \"symbol\": \"circle\", \"sizemode\": \"area\", \"sizeref\": 7}, \"type\": \"scatter\", \"x\": [167.87025316455697], \"uid\": \"ba1d9d48-f111-11e8-878f-6a00023e0920\", \"name\": \"Rhythmic Gymnastics\"}, {\"y\": [80.03586285138032], \"marker\": {\"size\": [10595], \"symbol\": \"circle\", \"sizemode\": \"area\", \"sizeref\": 7}, \"type\": \"scatter\", \"x\": [184.17222222222222], \"uid\": \"ba1d9eae-f111-11e8-85ff-6a00023e0920\", \"name\": \"Rowing\"}, {\"y\": [77.53333333333333], \"marker\": {\"size\": [162], \"symbol\": \"circle\", \"sizemode\": \"area\", \"sizeref\": 7}, \"type\": \"scatter\", \"x\": [176.09677419354838], \"uid\": \"ba1d9fc8-f111-11e8-93d9-6a00023e0920\", \"name\": \"Rugby\"}, {\"y\": [78.93979933110369], \"marker\": {\"size\": [299], \"symbol\": \"circle\", \"sizemode\": \"area\", \"sizeref\": 7}, \"type\": \"scatter\", \"x\": [175.36363636363637], \"uid\": \"ba1da0de-f111-11e8-96f1-6a00023e0920\", \"name\": \"Rugby Sevens\"}, {\"y\": [75.97515400410677], \"marker\": {\"size\": [6549], \"symbol\": \"circle\", \"sizemode\": \"area\", \"sizeref\": 7}, \"type\": \"scatter\", \"x\": [178.2621988256732], \"uid\": \"ba1da1f8-f111-11e8-8a81-6a00023e0920\", \"name\": \"Sailing\"}, {\"y\": [74.02787671232876], \"marker\": {\"size\": [11448], \"symbol\": \"circle\", \"sizemode\": \"area\", \"sizeref\": 7}, \"type\": \"scatter\", \"x\": [173.5721736862694], \"uid\": \"ba1da306-f111-11e8-9365-6a00023e0920\", \"name\": \"Shooting\"}, {\"y\": [64.31048387096774], \"marker\": {\"size\": [1534], \"symbol\": \"circle\", \"sizemode\": \"area\", \"sizeref\": 7}, \"type\": \"scatter\", \"x\": [170.10819892473117], \"uid\": \"ba1da41c-f111-11e8-8f94-6a00023e0920\", \"name\": \"Short Track Speed Skating\"}, {\"y\": [74.16666666666667], \"marker\": {\"size\": [199], \"symbol\": \"circle\", \"sizemode\": \"area\", \"sizeref\": 7}, \"type\": \"scatter\", \"x\": [176.18857142857144], \"uid\": \"ba1da536-f111-11e8-8aa7-6a00023e0920\", \"name\": \"Skeleton\"}, {\"y\": [65.07901422764228], \"marker\": {\"size\": [2401], \"symbol\": \"circle\", \"sizemode\": \"area\", \"sizeref\": 7}, \"type\": \"scatter\", \"x\": [176.4027572624323], \"uid\": \"ba1da676-f111-11e8-ac88-6a00023e0920\", \"name\": \"Ski Jumping\"}, {\"y\": [69.54918918918919], \"marker\": {\"size\": [936], \"symbol\": \"circle\", \"sizemode\": \"area\", \"sizeref\": 7}, \"type\": \"scatter\", \"x\": [173.0855614973262], \"uid\": \"ba1da79a-f111-11e8-83f1-6a00023e0920\", \"name\": \"Snowboarding\"}, {\"y\": [67.47165532879819], \"marker\": {\"size\": [478], \"symbol\": \"circle\", \"sizemode\": \"area\", \"sizeref\": 7}, \"type\": \"scatter\", \"x\": [169.39508928571428], \"uid\": \"ba1da8b0-f111-11e8-92df-6a00023e0920\", \"name\": \"Softball\"}, {\"y\": [70.02635150418457], \"marker\": {\"size\": [5613], \"symbol\": \"circle\", \"sizemode\": \"area\", \"sizeref\": 7}, \"type\": \"scatter\", \"x\": [174.08335175768295], \"uid\": \"ba1da9ca-f111-11e8-9e48-6a00023e0920\", \"name\": \"Speed Skating\"}, {\"y\": [70.58849181025313], \"marker\": {\"size\": [23195], \"symbol\": \"circle\", \"sizemode\": \"area\", \"sizeref\": 7}, \"type\": \"scatter\", \"x\": [178.562454308094], \"uid\": \"ba1daad8-f111-11e8-8657-6a00023e0920\", \"name\": \"Swimming\"}, {\"y\": [55.86352941176471], \"marker\": {\"size\": [909], \"symbol\": \"circle\", \"sizemode\": \"area\", \"sizeref\": 7}, \"type\": \"scatter\", \"x\": [168.4814814814815], \"uid\": \"ba1dabee-f111-11e8-a928-6a00023e0920\", \"name\": \"Synchronized Swimming\"}, {\"y\": [64.95644891122278], \"marker\": {\"size\": [1955], \"symbol\": \"circle\", \"sizemode\": \"area\", \"sizeref\": 7}, \"type\": \"scatter\", \"x\": [171.25377305757405], \"uid\": \"ba1dacfa-f111-11e8-b17f-6a00023e0920\", \"name\": \"Table Tennis\"}, {\"y\": [68.00747508305648], \"marker\": {\"size\": [606], \"symbol\": \"circle\", \"sizemode\": \"area\", \"sizeref\": 7}, \"type\": \"scatter\", \"x\": [176.75083612040135], \"uid\": \"ba1dae14-f111-11e8-a829-6a00023e0920\", \"name\": \"Taekwondo\"}, {\"y\": [70.80229083665338], \"marker\": {\"size\": [2862], \"symbol\": \"circle\", \"sizemode\": \"area\", \"sizeref\": 7}, \"type\": \"scatter\", \"x\": [178.898139079334], \"uid\": \"ba1daf22-f111-11e8-9e0a-6a00023e0920\", \"name\": \"Tennis\"}, {\"y\": [59.32214765100671], \"marker\": {\"size\": [152], \"symbol\": \"circle\", \"sizemode\": \"area\", \"sizeref\": 7}, \"type\": \"scatter\", \"x\": [166.58278145695365], \"uid\": \"ba1db03a-f111-11e8-91e6-6a00023e0920\", \"name\": \"Trampolining\"}, {\"y\": [61.81749049429658], \"marker\": {\"size\": [529], \"symbol\": \"circle\", \"sizemode\": \"area\", \"sizeref\": 7}, \"type\": \"scatter\", \"x\": [173.64583333333334], \"uid\": \"ba1db186-f111-11e8-8083-6a00023e0920\", \"name\": \"Triathlon\"}, {\"y\": [95.61538461538461], \"marker\": {\"size\": [170], \"symbol\": \"circle\", \"sizemode\": \"area\", \"sizeref\": 7}, \"type\": \"scatter\", \"x\": [182.48], \"uid\": \"ba1db2b0-f111-11e8-9bab-6a00023e0920\", \"name\": \"Tug-Of-War\"}, {\"y\": [78.90021361000916], \"marker\": {\"size\": [3404], \"symbol\": \"circle\", \"sizemode\": \"area\", \"sizeref\": 7}, \"type\": \"scatter\", \"x\": [186.99482180932074], \"uid\": \"ba1db3f0-f111-11e8-8b1b-6a00023e0920\", \"name\": \"Volleyball\"}, {\"y\": [84.56644640234948], \"marker\": {\"size\": [3846], \"symbol\": \"circle\", \"sizemode\": \"area\", \"sizeref\": 7}, \"type\": \"scatter\", \"x\": [184.83464849354377], \"uid\": \"ba1db512-f111-11e8-91e6-6a00023e0920\", \"name\": \"Water Polo\"}, {\"y\": [78.72666316066265], \"marker\": {\"size\": [3937], \"symbol\": \"circle\", \"sizemode\": \"area\", \"sizeref\": 7}, \"type\": \"scatter\", \"x\": [167.8248005319149], \"uid\": \"ba1db622-f111-11e8-a67b-6a00023e0920\", \"name\": \"Weightlifting\"}, {\"y\": [75.49557021677663], \"marker\": {\"size\": [7154], \"symbol\": \"circle\", \"sizemode\": \"area\", \"sizeref\": 7}, \"type\": \"scatter\", \"x\": [172.35858585858585], \"uid\": \"ba1db724-f111-11e8-9991-6a00023e0920\", \"name\": \"Wrestling\"}], {\"title\": \"Athletes average body metrics by sport\", \"xaxis\": {\"title\": \"Height (cm)\"}, \"yaxis\": {\"title\": \"Weight (kg)\"}, \"showlegend\": false}, {\"showLink\": true, \"linkText\": \"Export to plot.ly\"})});</script>"
      ],
      "text/vnd.plotly.v1+html": [
       "<div id=\"796c2b4a-9bfa-40df-99ce-ab319032b2b3\" style=\"height: 525px; width: 100%;\" class=\"plotly-graph-div\"></div><script type=\"text/javascript\">require([\"plotly\"], function(Plotly) { window.PLOTLYENV=window.PLOTLYENV || {};window.PLOTLYENV.BASE_URL=\"https://plot.ly\";Plotly.newPlot(\"796c2b4a-9bfa-40df-99ce-ab319032b2b3\", [{\"y\": [72.06811023622048], \"marker\": {\"size\": [8829], \"symbol\": \"circle\", \"sizemode\": \"area\", \"sizeref\": 7}, \"type\": \"scatter\", \"x\": [173.48905223647168], \"uid\": \"ba1d7870-f111-11e8-b3b6-6a00023e0920\", \"name\": \"Alpine Skiing\"}, {\"y\": [70.01113467656415], \"marker\": {\"size\": [2334], \"symbol\": \"circle\", \"sizemode\": \"area\", \"sizeref\": 7}, \"type\": \"scatter\", \"x\": [173.2030848329049], \"uid\": \"ba1d7b58-f111-11e8-a1eb-6a00023e0920\", \"name\": \"Archery\"}, {\"y\": [77.89473684210526], \"marker\": {\"size\": [2263], \"symbol\": \"circle\", \"sizemode\": \"area\", \"sizeref\": 7}, \"type\": \"scatter\", \"x\": [174.34375], \"uid\": \"ba1d7c98-f111-11e8-874e-6a00023e0920\", \"name\": \"Art Competitions\"}, {\"y\": [69.24928683169227], \"marker\": {\"size\": [38624], \"symbol\": \"circle\", \"sizemode\": \"area\", \"sizeref\": 7}, \"type\": \"scatter\", \"x\": [176.2562676634151], \"uid\": \"ba1d7db8-f111-11e8-9de9-6a00023e0920\", \"name\": \"Athletics\"}, {\"y\": [68.17143906020559], \"marker\": {\"size\": [1457], \"symbol\": \"circle\", \"sizemode\": \"area\", \"sizeref\": 7}, \"type\": \"scatter\", \"x\": [174.17880317231436], \"uid\": \"ba1d7ed0-f111-11e8-af73-6a00023e0920\", \"name\": \"Badminton\"}, {\"y\": [85.70779220779221], \"marker\": {\"size\": [894], \"symbol\": \"circle\", \"sizemode\": \"area\", \"sizeref\": 7}, \"type\": \"scatter\", \"x\": [182.59929078014184], \"uid\": \"ba1d7fe6-f111-11e8-82c2-6a00023e0920\", \"name\": \"Baseball\"}, {\"y\": [85.77705274605763], \"marker\": {\"size\": [4536], \"symbol\": \"circle\", \"sizemode\": \"area\", \"sizeref\": 7}, \"type\": \"scatter\", \"x\": [190.86987889719146], \"uid\": \"ba1d80f6-f111-11e8-9f33-6a00023e0920\", \"name\": \"Basketball\"}, {\"y\": [79.08921933085502], \"marker\": {\"size\": [564], \"symbol\": \"circle\", \"sizemode\": \"area\", \"sizeref\": 7}, \"type\": \"scatter\", \"x\": [186.14495412844036], \"uid\": \"ba1d8210-f111-11e8-b99f-6a00023e0920\", \"name\": \"Beach Volleyball\"}, {\"y\": [66.6314192849404], \"marker\": {\"size\": [4893], \"symbol\": \"circle\", \"sizemode\": \"area\", \"sizeref\": 7}, \"type\": \"scatter\", \"x\": [174.03476570935004], \"uid\": \"ba1d831c-f111-11e8-88e5-6a00023e0920\", \"name\": \"Biathlon\"}, {\"y\": [89.250678119349], \"marker\": {\"size\": [3058], \"symbol\": \"circle\", \"sizemode\": \"area\", \"sizeref\": 7}, \"type\": \"scatter\", \"x\": [181.4375], \"uid\": \"ba1d8428-f111-11e8-9877-6a00023e0920\", \"name\": \"Bobsleigh\"}, {\"y\": [65.2498901098901], \"marker\": {\"size\": [6047], \"symbol\": \"circle\", \"sizemode\": \"area\", \"sizeref\": 7}, \"type\": \"scatter\", \"x\": [172.8256880733945], \"uid\": \"ba1d8542-f111-11e8-b71e-6a00023e0920\", \"name\": \"Boxing\"}, {\"y\": [76.49261527377521], \"marker\": {\"size\": [6171], \"symbol\": \"circle\", \"sizemode\": \"area\", \"sizeref\": 7}, \"type\": \"scatter\", \"x\": [178.53956834532374], \"uid\": \"ba1d8682-f111-11e8-be62-6a00023e0920\", \"name\": \"Canoeing\"}, {\"y\": [65.87767016054133], \"marker\": {\"size\": [9133], \"symbol\": \"circle\", \"sizemode\": \"area\", \"sizeref\": 7}, \"type\": \"scatter\", \"x\": [173.24918503064285], \"uid\": \"ba1d87a4-f111-11e8-bb45-6a00023e0920\", \"name\": \"Cross Country Skiing\"}, {\"y\": [72.13170731707316], \"marker\": {\"size\": [463], \"symbol\": \"circle\", \"sizemode\": \"area\", \"sizeref\": 7}, \"type\": \"scatter\", \"x\": [174.203125], \"uid\": \"ba1d88ba-f111-11e8-b3c3-6a00023e0920\", \"name\": \"Curling\"}, {\"y\": [70.06629199131434], \"marker\": {\"size\": [10827], \"symbol\": \"circle\", \"sizemode\": \"area\", \"sizeref\": 7}, \"type\": \"scatter\", \"x\": [176.1073354231975], \"uid\": \"ba1d89c0-f111-11e8-99de-6a00023e0920\", \"name\": \"Cycling\"}, {\"y\": [60.5727408142999], \"marker\": {\"size\": [2842], \"symbol\": \"circle\", \"sizemode\": \"area\", \"sizeref\": 7}, \"type\": \"scatter\", \"x\": [166.63426371511068], \"uid\": \"ba1d8acc-f111-11e8-8d66-6a00023e0920\", \"name\": \"Diving\"}, {\"y\": [67.80397540083462], \"marker\": {\"size\": [6343], \"symbol\": \"circle\", \"sizemode\": \"area\", \"sizeref\": 7}, \"type\": \"scatter\", \"x\": [174.37527162103433], \"uid\": \"ba1d8be6-f111-11e8-9497-6a00023e0920\", \"name\": \"Equestrianism\"}, {\"y\": [71.3875382262997], \"marker\": {\"size\": [10735], \"symbol\": \"circle\", \"sizemode\": \"area\", \"sizeref\": 7}, \"type\": \"scatter\", \"x\": [177.1641769606435], \"uid\": \"ba1d8cf4-f111-11e8-8a67-6a00023e0920\", \"name\": \"Fencing\"}, {\"y\": [59.54365079365079], \"marker\": {\"size\": [2298], \"symbol\": \"circle\", \"sizemode\": \"area\", \"sizeref\": 7}, \"type\": \"scatter\", \"x\": [168.2021595680864], \"uid\": \"ba1d8e00-f111-11e8-948a-6a00023e0920\", \"name\": \"Figure Skating\"}, {\"y\": [70.44683432605339], \"marker\": {\"size\": [6745], \"symbol\": \"circle\", \"sizemode\": \"area\", \"sizeref\": 7}, \"type\": \"scatter\", \"x\": [175.40219496449322], \"uid\": \"ba1d8f1a-f111-11e8-abcb-6a00023e0920\", \"name\": \"Football\"}, {\"y\": [67.02683461117196], \"marker\": {\"size\": [937], \"symbol\": \"circle\", \"sizemode\": \"area\", \"sizeref\": 7}, \"type\": \"scatter\", \"x\": [171.01295896328293], \"uid\": \"ba1d905a-f111-11e8-9e19-6a00023e0920\", \"name\": \"Freestyle Skiing\"}, {\"y\": [71.19444444444444], \"marker\": {\"size\": [247], \"symbol\": \"circle\", \"sizemode\": \"area\", \"sizeref\": 7}, \"type\": \"scatter\", \"x\": [174.29007633587787], \"uid\": \"ba1d917e-f111-11e8-8f97-6a00023e0920\", \"name\": \"Golf\"}, {\"y\": [56.91655304063267], \"marker\": {\"size\": [26707], \"symbol\": \"circle\", \"sizemode\": \"area\", \"sizeref\": 7}, \"type\": \"scatter\", \"x\": [162.93601971921552], \"uid\": \"ba1d928a-f111-11e8-aa76-6a00023e0920\", \"name\": \"Gymnastics\"}, {\"y\": [81.49715142428785], \"marker\": {\"size\": [3665], \"symbol\": \"circle\", \"sizemode\": \"area\", \"sizeref\": 7}, \"type\": \"scatter\", \"x\": [183.38459241564647], \"uid\": \"ba1d9398-f111-11e8-b4c1-6a00023e0920\", \"name\": \"Handball\"}, {\"y\": [69.16990860089055], \"marker\": {\"size\": [5417], \"symbol\": \"circle\", \"sizemode\": \"area\", \"sizeref\": 7}, \"type\": \"scatter\", \"x\": [173.35967555040557], \"uid\": \"ba1d94a4-f111-11e8-ae18-6a00023e0920\", \"name\": \"Hockey\"}, {\"y\": [80.8103635967777], \"marker\": {\"size\": [5516], \"symbol\": \"circle\", \"sizemode\": \"area\", \"sizeref\": 7}, \"type\": \"scatter\", \"x\": [178.90132292344393], \"uid\": \"ba1d95b6-f111-11e8-9c49-6a00023e0920\", \"name\": \"Ice Hockey\"}, {\"y\": [78.75986651189785], \"marker\": {\"size\": [3801], \"symbol\": \"circle\", \"sizemode\": \"area\", \"sizeref\": 7}, \"type\": \"scatter\", \"x\": [174.18735294117647], \"uid\": \"ba1d96c2-f111-11e8-82d2-6a00023e0920\", \"name\": \"Judo\"}, {\"y\": [76.71428571428571], \"marker\": {\"size\": [60], \"symbol\": \"circle\", \"sizemode\": \"area\", \"sizeref\": 7}, \"type\": \"scatter\", \"x\": [174.0], \"uid\": \"ba1d97d0-f111-11e8-92b0-6a00023e0920\", \"name\": \"Lacrosse\"}, {\"y\": [77.26415094339623], \"marker\": {\"size\": [1479], \"symbol\": \"circle\", \"sizemode\": \"area\", \"sizeref\": 7}, \"type\": \"scatter\", \"x\": [176.65774240231548], \"uid\": \"ba1d98d4-f111-11e8-bd85-6a00023e0920\", \"name\": \"Luge\"}, {\"y\": [70.27954004758128], \"marker\": {\"size\": [1677], \"symbol\": \"circle\", \"sizemode\": \"area\", \"sizeref\": 7}, \"type\": \"scatter\", \"x\": [177.94431554524363], \"uid\": \"ba1d99e2-f111-11e8-95c4-6a00023e0920\", \"name\": \"Modern Pentathlon\"}, {\"y\": [77.0], \"marker\": {\"size\": [17], \"symbol\": \"circle\", \"sizemode\": \"area\", \"sizeref\": 7}, \"type\": \"scatter\", \"x\": [181.0], \"uid\": \"ba1d9b18-f111-11e8-8acb-6a00023e0920\", \"name\": \"Motorboating\"}, {\"y\": [66.9095595126523], \"marker\": {\"size\": [1344], \"symbol\": \"circle\", \"sizemode\": \"area\", \"sizeref\": 7}, \"type\": \"scatter\", \"x\": [176.50446428571428], \"uid\": \"ba1d9c3a-f111-11e8-82b4-6a00023e0920\", \"name\": \"Nordic Combined\"}, {\"y\": [48.760975609756095], \"marker\": {\"size\": [658], \"symbol\": \"circle\", \"sizemode\": \"area\", \"sizeref\": 7}, \"type\": \"scatter\", \"x\": [167.87025316455697], \"uid\": \"ba1d9d48-f111-11e8-878f-6a00023e0920\", \"name\": \"Rhythmic Gymnastics\"}, {\"y\": [80.03586285138032], \"marker\": {\"size\": [10595], \"symbol\": \"circle\", \"sizemode\": \"area\", \"sizeref\": 7}, \"type\": \"scatter\", \"x\": [184.17222222222222], \"uid\": \"ba1d9eae-f111-11e8-85ff-6a00023e0920\", \"name\": \"Rowing\"}, {\"y\": [77.53333333333333], \"marker\": {\"size\": [162], \"symbol\": \"circle\", \"sizemode\": \"area\", \"sizeref\": 7}, \"type\": \"scatter\", \"x\": [176.09677419354838], \"uid\": \"ba1d9fc8-f111-11e8-93d9-6a00023e0920\", \"name\": \"Rugby\"}, {\"y\": [78.93979933110369], \"marker\": {\"size\": [299], \"symbol\": \"circle\", \"sizemode\": \"area\", \"sizeref\": 7}, \"type\": \"scatter\", \"x\": [175.36363636363637], \"uid\": \"ba1da0de-f111-11e8-96f1-6a00023e0920\", \"name\": \"Rugby Sevens\"}, {\"y\": [75.97515400410677], \"marker\": {\"size\": [6549], \"symbol\": \"circle\", \"sizemode\": \"area\", \"sizeref\": 7}, \"type\": \"scatter\", \"x\": [178.2621988256732], \"uid\": \"ba1da1f8-f111-11e8-8a81-6a00023e0920\", \"name\": \"Sailing\"}, {\"y\": [74.02787671232876], \"marker\": {\"size\": [11448], \"symbol\": \"circle\", \"sizemode\": \"area\", \"sizeref\": 7}, \"type\": \"scatter\", \"x\": [173.5721736862694], \"uid\": \"ba1da306-f111-11e8-9365-6a00023e0920\", \"name\": \"Shooting\"}, {\"y\": [64.31048387096774], \"marker\": {\"size\": [1534], \"symbol\": \"circle\", \"sizemode\": \"area\", \"sizeref\": 7}, \"type\": \"scatter\", \"x\": [170.10819892473117], \"uid\": \"ba1da41c-f111-11e8-8f94-6a00023e0920\", \"name\": \"Short Track Speed Skating\"}, {\"y\": [74.16666666666667], \"marker\": {\"size\": [199], \"symbol\": \"circle\", \"sizemode\": \"area\", \"sizeref\": 7}, \"type\": \"scatter\", \"x\": [176.18857142857144], \"uid\": \"ba1da536-f111-11e8-8aa7-6a00023e0920\", \"name\": \"Skeleton\"}, {\"y\": [65.07901422764228], \"marker\": {\"size\": [2401], \"symbol\": \"circle\", \"sizemode\": \"area\", \"sizeref\": 7}, \"type\": \"scatter\", \"x\": [176.4027572624323], \"uid\": \"ba1da676-f111-11e8-ac88-6a00023e0920\", \"name\": \"Ski Jumping\"}, {\"y\": [69.54918918918919], \"marker\": {\"size\": [936], \"symbol\": \"circle\", \"sizemode\": \"area\", \"sizeref\": 7}, \"type\": \"scatter\", \"x\": [173.0855614973262], \"uid\": \"ba1da79a-f111-11e8-83f1-6a00023e0920\", \"name\": \"Snowboarding\"}, {\"y\": [67.47165532879819], \"marker\": {\"size\": [478], \"symbol\": \"circle\", \"sizemode\": \"area\", \"sizeref\": 7}, \"type\": \"scatter\", \"x\": [169.39508928571428], \"uid\": \"ba1da8b0-f111-11e8-92df-6a00023e0920\", \"name\": \"Softball\"}, {\"y\": [70.02635150418457], \"marker\": {\"size\": [5613], \"symbol\": \"circle\", \"sizemode\": \"area\", \"sizeref\": 7}, \"type\": \"scatter\", \"x\": [174.08335175768295], \"uid\": \"ba1da9ca-f111-11e8-9e48-6a00023e0920\", \"name\": \"Speed Skating\"}, {\"y\": [70.58849181025313], \"marker\": {\"size\": [23195], \"symbol\": \"circle\", \"sizemode\": \"area\", \"sizeref\": 7}, \"type\": \"scatter\", \"x\": [178.562454308094], \"uid\": \"ba1daad8-f111-11e8-8657-6a00023e0920\", \"name\": \"Swimming\"}, {\"y\": [55.86352941176471], \"marker\": {\"size\": [909], \"symbol\": \"circle\", \"sizemode\": \"area\", \"sizeref\": 7}, \"type\": \"scatter\", \"x\": [168.4814814814815], \"uid\": \"ba1dabee-f111-11e8-a928-6a00023e0920\", \"name\": \"Synchronized Swimming\"}, {\"y\": [64.95644891122278], \"marker\": {\"size\": [1955], \"symbol\": \"circle\", \"sizemode\": \"area\", \"sizeref\": 7}, \"type\": \"scatter\", \"x\": [171.25377305757405], \"uid\": \"ba1dacfa-f111-11e8-b17f-6a00023e0920\", \"name\": \"Table Tennis\"}, {\"y\": [68.00747508305648], \"marker\": {\"size\": [606], \"symbol\": \"circle\", \"sizemode\": \"area\", \"sizeref\": 7}, \"type\": \"scatter\", \"x\": [176.75083612040135], \"uid\": \"ba1dae14-f111-11e8-a829-6a00023e0920\", \"name\": \"Taekwondo\"}, {\"y\": [70.80229083665338], \"marker\": {\"size\": [2862], \"symbol\": \"circle\", \"sizemode\": \"area\", \"sizeref\": 7}, \"type\": \"scatter\", \"x\": [178.898139079334], \"uid\": \"ba1daf22-f111-11e8-9e0a-6a00023e0920\", \"name\": \"Tennis\"}, {\"y\": [59.32214765100671], \"marker\": {\"size\": [152], \"symbol\": \"circle\", \"sizemode\": \"area\", \"sizeref\": 7}, \"type\": \"scatter\", \"x\": [166.58278145695365], \"uid\": \"ba1db03a-f111-11e8-91e6-6a00023e0920\", \"name\": \"Trampolining\"}, {\"y\": [61.81749049429658], \"marker\": {\"size\": [529], \"symbol\": \"circle\", \"sizemode\": \"area\", \"sizeref\": 7}, \"type\": \"scatter\", \"x\": [173.64583333333334], \"uid\": \"ba1db186-f111-11e8-8083-6a00023e0920\", \"name\": \"Triathlon\"}, {\"y\": [95.61538461538461], \"marker\": {\"size\": [170], \"symbol\": \"circle\", \"sizemode\": \"area\", \"sizeref\": 7}, \"type\": \"scatter\", \"x\": [182.48], \"uid\": \"ba1db2b0-f111-11e8-9bab-6a00023e0920\", \"name\": \"Tug-Of-War\"}, {\"y\": [78.90021361000916], \"marker\": {\"size\": [3404], \"symbol\": \"circle\", \"sizemode\": \"area\", \"sizeref\": 7}, \"type\": \"scatter\", \"x\": [186.99482180932074], \"uid\": \"ba1db3f0-f111-11e8-8b1b-6a00023e0920\", \"name\": \"Volleyball\"}, {\"y\": [84.56644640234948], \"marker\": {\"size\": [3846], \"symbol\": \"circle\", \"sizemode\": \"area\", \"sizeref\": 7}, \"type\": \"scatter\", \"x\": [184.83464849354377], \"uid\": \"ba1db512-f111-11e8-91e6-6a00023e0920\", \"name\": \"Water Polo\"}, {\"y\": [78.72666316066265], \"marker\": {\"size\": [3937], \"symbol\": \"circle\", \"sizemode\": \"area\", \"sizeref\": 7}, \"type\": \"scatter\", \"x\": [167.8248005319149], \"uid\": \"ba1db622-f111-11e8-a67b-6a00023e0920\", \"name\": \"Weightlifting\"}, {\"y\": [75.49557021677663], \"marker\": {\"size\": [7154], \"symbol\": \"circle\", \"sizemode\": \"area\", \"sizeref\": 7}, \"type\": \"scatter\", \"x\": [172.35858585858585], \"uid\": \"ba1db724-f111-11e8-9991-6a00023e0920\", \"name\": \"Wrestling\"}], {\"title\": \"Athletes average body metrics by sport\", \"xaxis\": {\"title\": \"Height (cm)\"}, \"yaxis\": {\"title\": \"Weight (kg)\"}, \"showlegend\": false}, {\"showLink\": true, \"linkText\": \"Export to plot.ly\"})});</script>"
      ]
     },
     "metadata": {},
     "output_type": "display_data"
    }
   ],
   "source": [
    "init_notebook_mode(connected=True)\n",
    "\n",
    "data = []\n",
    "for sport in df4plot['Sport']:\n",
    "    ds = df4plot[df4plot['Sport']==sport]\n",
    "    trace = go.Scatter(x = ds['Height'],y = ds['Weight'], name = sport,\n",
    "                       marker = dict(symbol='circle',\n",
    "                                   sizemode ='area',\n",
    "                                   sizeref = 7,\n",
    "                                   size = ds['ID'],))\n",
    "    data.append(trace)\n",
    "                         \n",
    "layout = go.Layout(title='Athletes average body metrics by sport',\n",
    "                   xaxis=dict(title ='Height (cm)'),\n",
    "                   yaxis=dict(title ='Weight (kg)'),\n",
    "                   showlegend=False,)\n",
    "\n",
    "fig = dict(data = data, layout = layout)\n",
    "\n",
    "iplot(fig, filename='Ave_body_metrics_by_sport')"
   ]
  },
  {
   "cell_type": "markdown",
   "metadata": {},
   "source": [
    "__Observe:__ As per intuition, there are clear dependencies between different sport disciplies and body metrics. "
   ]
  },
  {
   "cell_type": "markdown",
   "metadata": {
    "collapsed": true
   },
   "source": [
    "#### Examine the count of missing values by time :\n",
    "Count number of non-NaN Weight/ Height/ Age entries per year and compare with number of athletes attending.\n",
    "Find the fraction of data missing and plot this."
   ]
  },
  {
   "cell_type": "code",
   "execution_count": 82,
   "metadata": {
    "collapsed": false
   },
   "outputs": [],
   "source": [
    "grouped = merged.groupby('Year')[['Height', 'Weight', 'Age']].count().rename(columns={'Height':'Height_reckords',\n",
    "                                                                                         'Weight':'Weight_reckords',\n",
    "                                                                                       'Age':'Age_reckords' })\n",
    "grouped['Total_Athletes_Count'] = merged['Year'].value_counts().sort_index()"
   ]
  },
  {
   "cell_type": "code",
   "execution_count": 83,
   "metadata": {
    "collapsed": true
   },
   "outputs": [],
   "source": [
    "grouped['Height_frac_NA'] = (grouped['Total_Athletes_Count'] - grouped['Height_reckords']) / grouped['Total_Athletes_Count']\n",
    "grouped['Weight_frac_NA'] =(grouped['Total_Athletes_Count'] - grouped['Weight_reckords']) / grouped['Total_Athletes_Count']\n",
    "grouped['Age_frac_NA'] = (grouped['Total_Athletes_Count'] - grouped['Age_reckords'] )/ grouped['Total_Athletes_Count']"
   ]
  },
  {
   "cell_type": "code",
   "execution_count": 84,
   "metadata": {
    "collapsed": false,
    "scrolled": true
   },
   "outputs": [
    {
     "data": {
      "text/html": [
       "<div>\n",
       "<style>\n",
       "    .dataframe thead tr:only-child th {\n",
       "        text-align: right;\n",
       "    }\n",
       "\n",
       "    .dataframe thead th {\n",
       "        text-align: left;\n",
       "    }\n",
       "\n",
       "    .dataframe tbody tr th {\n",
       "        vertical-align: top;\n",
       "    }\n",
       "</style>\n",
       "<table border=\"1\" class=\"dataframe\">\n",
       "  <thead>\n",
       "    <tr style=\"text-align: right;\">\n",
       "      <th></th>\n",
       "      <th>Height_reckords</th>\n",
       "      <th>Weight_reckords</th>\n",
       "      <th>Age_reckords</th>\n",
       "      <th>Total_Athletes_Count</th>\n",
       "      <th>Height_frac_NA</th>\n",
       "      <th>Weight_frac_NA</th>\n",
       "      <th>Age_frac_NA</th>\n",
       "    </tr>\n",
       "    <tr>\n",
       "      <th>Year</th>\n",
       "      <th></th>\n",
       "      <th></th>\n",
       "      <th></th>\n",
       "      <th></th>\n",
       "      <th></th>\n",
       "      <th></th>\n",
       "      <th></th>\n",
       "    </tr>\n",
       "  </thead>\n",
       "  <tbody>\n",
       "    <tr>\n",
       "      <th>1896</th>\n",
       "      <td>46</td>\n",
       "      <td>49</td>\n",
       "      <td>217</td>\n",
       "      <td>380</td>\n",
       "      <td>0.878947</td>\n",
       "      <td>0.871053</td>\n",
       "      <td>0.428947</td>\n",
       "    </tr>\n",
       "    <tr>\n",
       "      <th>1900</th>\n",
       "      <td>116</td>\n",
       "      <td>79</td>\n",
       "      <td>1128</td>\n",
       "      <td>1898</td>\n",
       "      <td>0.938883</td>\n",
       "      <td>0.958377</td>\n",
       "      <td>0.405690</td>\n",
       "    </tr>\n",
       "    <tr>\n",
       "      <th>1904</th>\n",
       "      <td>213</td>\n",
       "      <td>147</td>\n",
       "      <td>1027</td>\n",
       "      <td>1301</td>\n",
       "      <td>0.836280</td>\n",
       "      <td>0.887010</td>\n",
       "      <td>0.210607</td>\n",
       "    </tr>\n",
       "    <tr>\n",
       "      <th>1906</th>\n",
       "      <td>257</td>\n",
       "      <td>205</td>\n",
       "      <td>990</td>\n",
       "      <td>1733</td>\n",
       "      <td>0.851702</td>\n",
       "      <td>0.881708</td>\n",
       "      <td>0.428736</td>\n",
       "    </tr>\n",
       "    <tr>\n",
       "      <th>1908</th>\n",
       "      <td>474</td>\n",
       "      <td>482</td>\n",
       "      <td>2432</td>\n",
       "      <td>3069</td>\n",
       "      <td>0.845552</td>\n",
       "      <td>0.842946</td>\n",
       "      <td>0.207559</td>\n",
       "    </tr>\n",
       "  </tbody>\n",
       "</table>\n",
       "</div>"
      ],
      "text/plain": [
       "      Height_reckords  Weight_reckords  Age_reckords  Total_Athletes_Count  \\\n",
       "Year                                                                         \n",
       "1896               46               49           217                   380   \n",
       "1900              116               79          1128                  1898   \n",
       "1904              213              147          1027                  1301   \n",
       "1906              257              205           990                  1733   \n",
       "1908              474              482          2432                  3069   \n",
       "\n",
       "      Height_frac_NA  Weight_frac_NA  Age_frac_NA  \n",
       "Year                                               \n",
       "1896        0.878947        0.871053     0.428947  \n",
       "1900        0.938883        0.958377     0.405690  \n",
       "1904        0.836280        0.887010     0.210607  \n",
       "1906        0.851702        0.881708     0.428736  \n",
       "1908        0.845552        0.842946     0.207559  "
      ]
     },
     "execution_count": 84,
     "metadata": {},
     "output_type": "execute_result"
    }
   ],
   "source": [
    "grouped.head()"
   ]
  },
  {
   "cell_type": "code",
   "execution_count": 85,
   "metadata": {
    "collapsed": false
   },
   "outputs": [
    {
     "data": {
      "image/png": "[encoded data removed]",
      "text/plain": [
       "<matplotlib.figure.Figure at 0x1299b4978>"
      ]
     },
     "metadata": {},
     "output_type": "display_data"
    }
   ],
   "source": [
    "grouped[['Age_frac_NA','Height_frac_NA', 'Weight_frac_NA']].plot(marker='x', figsize=(14,7),\n",
    "                                                 title='Fraction of Missing Data for Age, Height and Weight')\n",
    "plt.show()"
   ]
  },
  {
   "cell_type": "markdown",
   "metadata": {},
   "source": [
    "__Observe:__\n",
    "\n",
    "- Prior to 1960 the fraction of missing Weight and Height data is too large to warrant meaningful analysis using this features. \n",
    "- The proportion of missing Age data is less then Weight and Height data, but is is still substantial. \n",
    "\n",
    "Depending on the purpose for which the cleaned dataset is intended, there could be value in dropping history before 1964 and only using the more complete values (from 1964 onwards) for analysis. Alternatively, the entire history could be kept but making conclusions resting on the Age, Weight and Height, should be done with care and consideration for the amount of data missing. \n",
    "\n",
    "__Action:__ Prepare a 'robust' data set, which will make the best possible attempt at 'filling in the gaps' while also keeping the entire history. Average Age, Height and Weight will be found for each sport category, gender and year. This will then be used to fill relevant NaNs. The choice to calculate means based on the sport/gender/year split is dictated by: \n",
    " - Fact that for different spots athletes body metrics vary. For instance swimmers tend to be tall while gymnasts are shorter.  \n",
    " - Fact that there are clear body-metric differences between the sexes.\n",
    " - Fact that there is a trend for Age/Height/Weight to vary with time. \n",
    "\n",
    "As far as the Weight category, there is one shortcoming of the above method when a sport discipline has certain weight categories, for instance in boxing and wrestling. Instead of assigning all boxing/wrestling NaN weights to an average for the sport it would be better to look at the event column and extract the precise weight category. Then, weight averaging could be done on those categories. This was not undertaken, since for the purpose of further analysis it was not deemed essential."
   ]
  },
  {
   "cell_type": "code",
   "execution_count": 86,
   "metadata": {
    "collapsed": true
   },
   "outputs": [],
   "source": [
    "# # THIS CODE FILLS NANs AS DESCRIBED ABOVE\n",
    "#\n",
    "# # make a multi-level dictionary to loop over all average values to fillna \n",
    "# master_dict = {'Height' : merged.groupby(['Sport', 'Sex','Year'])['Height'].mean().unstack().to_dict(),\n",
    "#                'Weight' : merged.groupby(['Sport', 'Sex','Year'])['Weight'].mean().unstack().to_dict(),\n",
    "#                'Age' : merged.groupby(['Sport', 'Sex','Year'])['Age'].mean().unstack().to_dict()}\n",
    "\n",
    "# for key1 in master_dict: # values: Height/Weight/Age\n",
    "#     for key2 in master_dict[key1]: # values: Year\n",
    "#         for key3 in  master_dict[key1][key2]: # values:(Sport,Sex)\n",
    "#             merged.loc[(merged[key1].isnull()) & (merged['Year'] == key2) & (merged['Sport'] == key3[0])& \n",
    "#                        (merged['Sex'] == key3[1]),key1] = master_dict[key1][key2][key3]\n",
    "#\n",
    "# # save cleaned data frame\n",
    "# merged.to_csv('clean_data.csv')"
   ]
  },
  {
   "cell_type": "code",
   "execution_count": 43,
   "metadata": {
    "collapsed": true
   },
   "outputs": [],
   "source": [
    "# LOAD cleaned data frame, to avoid running code commented above, which takes a while.... \n",
    "clean_data = pd.read_csv('all_data/clean_data.csv')"
   ]
  },
  {
   "cell_type": "code",
   "execution_count": 44,
   "metadata": {
    "collapsed": false
   },
   "outputs": [
    {
     "data": {
      "text/plain": [
       "Unnamed: 0       0\n",
       "ID               0\n",
       "Name             0\n",
       "Sex              0\n",
       "Age              3\n",
       "Height        2276\n",
       "Weight        6202\n",
       "Team             0\n",
       "NOC              0\n",
       "Games            0\n",
       "Year             0\n",
       "Season           0\n",
       "City             0\n",
       "Sport            0\n",
       "Event            0\n",
       "Medal            0\n",
       "Country          0\n",
       "dtype: int64"
      ]
     },
     "execution_count": 44,
     "metadata": {},
     "output_type": "execute_result"
    }
   ],
   "source": [
    "clean_data.isnull().sum() "
   ]
  },
  {
   "cell_type": "code",
   "execution_count": 45,
   "metadata": {
    "collapsed": false
   },
   "outputs": [],
   "source": [
    "assert ( clean_data[clean_data.Year > 1964].isnull().sum().sum() == 0 )"
   ]
  },
  {
   "cell_type": "markdown",
   "metadata": {},
   "source": [
    "Result: No more NaNs in Age column, and a significant reductuion in NaNs in Height and Weight columns; \n",
    " - Height had 58814 NaNs now only 2276, which is less then 4% of the orignal missing values. \n",
    " - Weight had 61527 NaNs now only 6202, which is 10% of the orignal missing values. \n",
    "All Height and Weight data still Missing is from before 1964, thsi are cases where there was no data to an average from, ie.e all athletes in the categor had NaN Weight and Height.\n",
    "\n",
    "I will leave the reminiang NaNs as is for now, as they will not have a bearing on my future analysis "
   ]
  },
  {
   "cell_type": "code",
   "execution_count": null,
   "metadata": {
    "collapsed": true
   },
   "outputs": [],
   "source": []
  }
 ],
 "metadata": {
  "anaconda-cloud": {},
  "kernelspec": {
   "display_name": "Python [anaconda]",
   "language": "python",
   "name": "Python [anaconda]"
  },
  "language_info": {
   "codemirror_mode": {
    "name": "ipython",
    "version": 3
   },
   "file_extension": ".py",
   "mimetype": "text/x-python",
   "name": "python",
   "nbconvert_exporter": "python",
   "pygments_lexer": "ipython3",
   "version": "3.5.5"
  }
 },
 "nbformat": 4,
 "nbformat_minor": 0
}
