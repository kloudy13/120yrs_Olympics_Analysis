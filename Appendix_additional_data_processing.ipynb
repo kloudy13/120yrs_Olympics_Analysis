{
 "cells": [
  {
   "cell_type": "code",
   "execution_count": 913,
   "metadata": {
    "collapsed": true
   },
   "outputs": [],
   "source": [
    "import pandas as pd \n",
    "import numpy as np\n",
    "# import plotly.graph_objs as go\n",
    "# from plotly.offline import init_notebook_mode, iplot "
   ]
  },
  {
   "cell_type": "markdown",
   "metadata": {},
   "source": [
    "# Data augemntation and processing\n",
    "\n",
    "This task has two data augemntation aspects: \n",
    "1) Want to know the country of each host city \n",
    "    - need a map from city name to country, use file world-cities.csv\n",
    "    source: https://github.com/datasets/world-cities\n",
    "2) Want to know which countries are in Europe \n",
    "    - need a map from country to continent, use file continet_map.csv\n",
    "    source: https://github.com/lukes/ISO-3166-Countries-with-Regional-Codes\n",
    "    \n",
    "Both files contain additional, redundant information, in case of world-cities.csv this is state/province and geolocation info. Whereas, continet_map.csv contains country names, codes, and levels of categorisation into regions and continents.\n"
   ]
  },
  {
   "cell_type": "markdown",
   "metadata": {},
   "source": [
    "## Find the country of each host city \n",
    "Steps:\n",
    "- examine and clean the world-cities.csv file\n",
    "- modify raw world-cities.csv data to fit requirements \n",
    "- merge with the master olympic dataset"
   ]
  },
  {
   "cell_type": "code",
   "execution_count": 986,
   "metadata": {
    "collapsed": true
   },
   "outputs": [],
   "source": [
    "# Load Cleaned Olympic data \n",
    "clean = pd.read_csv('all_data/clean_data.csv')"
   ]
  },
  {
   "cell_type": "code",
   "execution_count": 987,
   "metadata": {
    "collapsed": true
   },
   "outputs": [],
   "source": [
    "# Load city data \n",
    "city = pd.read_csv('all_data/world-cities.csv')"
   ]
  },
  {
   "cell_type": "code",
   "execution_count": 988,
   "metadata": {
    "collapsed": false,
    "scrolled": true
   },
   "outputs": [
    {
     "data": {
      "text/html": [
       "<div>\n",
       "<style>\n",
       "    .dataframe thead tr:only-child th {\n",
       "        text-align: right;\n",
       "    }\n",
       "\n",
       "    .dataframe thead th {\n",
       "        text-align: left;\n",
       "    }\n",
       "\n",
       "    .dataframe tbody tr th {\n",
       "        vertical-align: top;\n",
       "    }\n",
       "</style>\n",
       "<table border=\"1\" class=\"dataframe\">\n",
       "  <thead>\n",
       "    <tr style=\"text-align: right;\">\n",
       "      <th></th>\n",
       "      <th>name</th>\n",
       "      <th>country</th>\n",
       "      <th>subcountry</th>\n",
       "      <th>geonameid</th>\n",
       "    </tr>\n",
       "  </thead>\n",
       "  <tbody>\n",
       "    <tr>\n",
       "      <th>0</th>\n",
       "      <td>les Escaldes</td>\n",
       "      <td>Andorra</td>\n",
       "      <td>Escaldes-Engordany</td>\n",
       "      <td>3040051</td>\n",
       "    </tr>\n",
       "    <tr>\n",
       "      <th>1</th>\n",
       "      <td>Andorra la Vella</td>\n",
       "      <td>Andorra</td>\n",
       "      <td>Andorra la Vella</td>\n",
       "      <td>3041563</td>\n",
       "    </tr>\n",
       "    <tr>\n",
       "      <th>2</th>\n",
       "      <td>Umm al Qaywayn</td>\n",
       "      <td>United Arab Emirates</td>\n",
       "      <td>Umm al Qaywayn</td>\n",
       "      <td>290594</td>\n",
       "    </tr>\n",
       "    <tr>\n",
       "      <th>3</th>\n",
       "      <td>Ras al-Khaimah</td>\n",
       "      <td>United Arab Emirates</td>\n",
       "      <td>Raʼs al Khaymah</td>\n",
       "      <td>291074</td>\n",
       "    </tr>\n",
       "    <tr>\n",
       "      <th>4</th>\n",
       "      <td>Khawr Fakkān</td>\n",
       "      <td>United Arab Emirates</td>\n",
       "      <td>Ash Shāriqah</td>\n",
       "      <td>291696</td>\n",
       "    </tr>\n",
       "  </tbody>\n",
       "</table>\n",
       "</div>"
      ],
      "text/plain": [
       "               name               country          subcountry  geonameid\n",
       "0      les Escaldes               Andorra  Escaldes-Engordany    3040051\n",
       "1  Andorra la Vella               Andorra    Andorra la Vella    3041563\n",
       "2    Umm al Qaywayn  United Arab Emirates      Umm al Qaywayn     290594\n",
       "3    Ras al-Khaimah  United Arab Emirates     Raʼs al Khaymah     291074\n",
       "4      Khawr Fakkān  United Arab Emirates        Ash Shāriqah     291696"
      ]
     },
     "execution_count": 988,
     "metadata": {},
     "output_type": "execute_result"
    }
   ],
   "source": [
    "city.head()"
   ]
  },
  {
   "cell_type": "code",
   "execution_count": 989,
   "metadata": {
    "collapsed": false
   },
   "outputs": [
    {
     "data": {
      "text/plain": [
       "name           0\n",
       "country        0\n",
       "subcountry    26\n",
       "geonameid      0\n",
       "dtype: int64"
      ]
     },
     "execution_count": 989,
     "metadata": {},
     "output_type": "execute_result"
    }
   ],
   "source": [
    "city.isnull().sum() # name and country have no nan values, thats ok "
   ]
  },
  {
   "cell_type": "code",
   "execution_count": 990,
   "metadata": {
    "collapsed": false
   },
   "outputs": [],
   "source": [
    "clean_uniq = clean.City.unique()"
   ]
  },
  {
   "cell_type": "code",
   "execution_count": 991,
   "metadata": {
    "collapsed": false,
    "scrolled": true
   },
   "outputs": [],
   "source": [
    "city_uniq = city.name.unique()"
   ]
  },
  {
   "cell_type": "code",
   "execution_count": 992,
   "metadata": {
    "collapsed": false
   },
   "outputs": [
    {
     "data": {
      "text/plain": [
       "False"
      ]
     },
     "execution_count": 992,
     "metadata": {},
     "output_type": "execute_result"
    }
   ],
   "source": [
    "# check if city_uniq contains all elements in merged_uniq\n",
    "all(elem in city_uniq for elem in clean_uniq)"
   ]
  },
  {
   "cell_type": "code",
   "execution_count": 993,
   "metadata": {
    "collapsed": false,
    "scrolled": true
   },
   "outputs": [
    {
     "name": "stdout",
     "output_type": "stream",
     "text": [
      "Lake Placid\n",
      "Torino\n",
      "Athina\n",
      "Squaw Valley\n",
      "Cortina d'Ampezzo\n",
      "Roma\n",
      "Montreal\n",
      "Moskva\n",
      "Chamonix\n",
      "Sankt Moritz\n"
     ]
    }
   ],
   "source": [
    "for elem in merged_uniq: \n",
    "    if elem not in city_uniq:\n",
    "        print(elem)"
   ]
  },
  {
   "cell_type": "markdown",
   "metadata": {},
   "source": [
    "Some City names in the Olympic data set are not in english are wrong or do not appear in the world_cities file. Thankfully, this is a small amount of cities and ca be manually cleaned. \n",
    "\n",
    "The file world_cities does not contain ski resorts. My initial idea was to overwrite this ski resort names with nearby city names. However, this is a loss of information. Furthermore, I run into problems with this approach, where for instance in France I was trying to replace Chamonix (not in world_cities list) with the nearby town of Albertville, only to find out that Albertville hosted a separate winter Olympics. Therefore, in order to keep true to the information in the original dataset, I added new city-country mappings to the world_cities data frame instead. "
   ]
  },
  {
   "cell_type": "code",
   "execution_count": 994,
   "metadata": {
    "collapsed": false
   },
   "outputs": [],
   "source": [
    "# rename miss-spelled city names, which appear in the world_cities df\n",
    "err = {'Torino': 'Turin','Athina':'Athens','Roma':'Rome', 'Montreal':'Montréal','Moskva':'Moscow'}\n",
    "\n",
    "for key in err:\n",
    "    clean.loc[clean.City == key, 'City']= err[key]"
   ]
  },
  {
   "cell_type": "code",
   "execution_count": 995,
   "metadata": {
    "collapsed": false
   },
   "outputs": [],
   "source": [
    "# create additional city to country mapping\n",
    "dd = {'Lake Placid' : ['USA', 'New_York',0],\n",
    "     'Squaw Valley': ['USA', 'California',0],\n",
    "     'Chamonix':['France','nan', 0],\n",
    "     'Sankt Moritz':['Switzerland','nan',0]}"
   ]
  },
  {
   "cell_type": "code",
   "execution_count": 996,
   "metadata": {
    "collapsed": true
   },
   "outputs": [],
   "source": [
    "df = pd.DataFrame.from_dict(dd, orient='index')\n",
    "df.rename(columns={ 0:'country',1:'subcountry',2:'geonameid'},inplace=True)\n",
    "df.reset_index(inplace=True)\n",
    "df.rename(columns={'index':'name'},inplace=True)"
   ]
  },
  {
   "cell_type": "code",
   "execution_count": 997,
   "metadata": {
    "collapsed": false,
    "scrolled": true
   },
   "outputs": [
    {
     "data": {
      "text/html": [
       "<div>\n",
       "<style>\n",
       "    .dataframe thead tr:only-child th {\n",
       "        text-align: right;\n",
       "    }\n",
       "\n",
       "    .dataframe thead th {\n",
       "        text-align: left;\n",
       "    }\n",
       "\n",
       "    .dataframe tbody tr th {\n",
       "        vertical-align: top;\n",
       "    }\n",
       "</style>\n",
       "<table border=\"1\" class=\"dataframe\">\n",
       "  <thead>\n",
       "    <tr style=\"text-align: right;\">\n",
       "      <th></th>\n",
       "      <th>name</th>\n",
       "      <th>country</th>\n",
       "      <th>subcountry</th>\n",
       "      <th>geonameid</th>\n",
       "    </tr>\n",
       "  </thead>\n",
       "  <tbody>\n",
       "    <tr>\n",
       "      <th>0</th>\n",
       "      <td>Chamonix</td>\n",
       "      <td>France</td>\n",
       "      <td>nan</td>\n",
       "      <td>0</td>\n",
       "    </tr>\n",
       "    <tr>\n",
       "      <th>1</th>\n",
       "      <td>Sankt Moritz</td>\n",
       "      <td>Switzerland</td>\n",
       "      <td>nan</td>\n",
       "      <td>0</td>\n",
       "    </tr>\n",
       "    <tr>\n",
       "      <th>2</th>\n",
       "      <td>Lake Placid</td>\n",
       "      <td>USA</td>\n",
       "      <td>New_York</td>\n",
       "      <td>0</td>\n",
       "    </tr>\n",
       "    <tr>\n",
       "      <th>3</th>\n",
       "      <td>Squaw Valley</td>\n",
       "      <td>USA</td>\n",
       "      <td>California</td>\n",
       "      <td>0</td>\n",
       "    </tr>\n",
       "  </tbody>\n",
       "</table>\n",
       "</div>"
      ],
      "text/plain": [
       "           name      country  subcountry  geonameid\n",
       "0      Chamonix       France         nan          0\n",
       "1  Sankt Moritz  Switzerland         nan          0\n",
       "2   Lake Placid          USA    New_York          0\n",
       "3  Squaw Valley          USA  California          0"
      ]
     },
     "execution_count": 997,
     "metadata": {},
     "output_type": "execute_result"
    }
   ],
   "source": [
    "df"
   ]
  },
  {
   "cell_type": "code",
   "execution_count": 998,
   "metadata": {
    "collapsed": false,
    "scrolled": true
   },
   "outputs": [],
   "source": [
    "# add new mapping to the city df\n",
    "city = city.append(df, ignore_index=True)"
   ]
  },
  {
   "cell_type": "code",
   "execution_count": 999,
   "metadata": {
    "collapsed": false
   },
   "outputs": [
    {
     "data": {
      "text/html": [
       "<div>\n",
       "<style>\n",
       "    .dataframe thead tr:only-child th {\n",
       "        text-align: right;\n",
       "    }\n",
       "\n",
       "    .dataframe thead th {\n",
       "        text-align: left;\n",
       "    }\n",
       "\n",
       "    .dataframe tbody tr th {\n",
       "        vertical-align: top;\n",
       "    }\n",
       "</style>\n",
       "<table border=\"1\" class=\"dataframe\">\n",
       "  <thead>\n",
       "    <tr style=\"text-align: right;\">\n",
       "      <th></th>\n",
       "      <th>name</th>\n",
       "      <th>country</th>\n",
       "      <th>subcountry</th>\n",
       "      <th>geonameid</th>\n",
       "    </tr>\n",
       "  </thead>\n",
       "  <tbody>\n",
       "    <tr>\n",
       "      <th>23017</th>\n",
       "      <td>Chitungwiza</td>\n",
       "      <td>Zimbabwe</td>\n",
       "      <td>Harare</td>\n",
       "      <td>1106542</td>\n",
       "    </tr>\n",
       "    <tr>\n",
       "      <th>23018</th>\n",
       "      <td>Chamonix</td>\n",
       "      <td>France</td>\n",
       "      <td>nan</td>\n",
       "      <td>0</td>\n",
       "    </tr>\n",
       "    <tr>\n",
       "      <th>23019</th>\n",
       "      <td>Sankt Moritz</td>\n",
       "      <td>Switzerland</td>\n",
       "      <td>nan</td>\n",
       "      <td>0</td>\n",
       "    </tr>\n",
       "    <tr>\n",
       "      <th>23020</th>\n",
       "      <td>Lake Placid</td>\n",
       "      <td>USA</td>\n",
       "      <td>New_York</td>\n",
       "      <td>0</td>\n",
       "    </tr>\n",
       "    <tr>\n",
       "      <th>23021</th>\n",
       "      <td>Squaw Valley</td>\n",
       "      <td>USA</td>\n",
       "      <td>California</td>\n",
       "      <td>0</td>\n",
       "    </tr>\n",
       "  </tbody>\n",
       "</table>\n",
       "</div>"
      ],
      "text/plain": [
       "               name      country  subcountry  geonameid\n",
       "23017   Chitungwiza     Zimbabwe      Harare    1106542\n",
       "23018      Chamonix       France         nan          0\n",
       "23019  Sankt Moritz  Switzerland         nan          0\n",
       "23020   Lake Placid          USA    New_York          0\n",
       "23021  Squaw Valley          USA  California          0"
      ]
     },
     "execution_count": 999,
     "metadata": {},
     "output_type": "execute_result"
    }
   ],
   "source": [
    "city.tail() # verify worked "
   ]
  },
  {
   "cell_type": "code",
   "execution_count": 1000,
   "metadata": {
    "collapsed": false
   },
   "outputs": [],
   "source": [
    "# clean up city df to keep only relevant info and prepare for merge\n",
    "city.drop(['subcountry','geonameid'],axis=1,inplace=True)\n",
    "city.rename(columns={'name':'City','country':'Host_Country'},inplace=True)\n",
    "\n",
    "# rename countries to match the olympics data frame format\n",
    "city.loc[city.Host_Country == 'United Kingdom','Host_Country'] = 'UK'\n",
    "city.loc[city.Host_Country == 'United States','Host_Country'] = 'USA'"
   ]
  },
  {
   "cell_type": "code",
   "execution_count": 1001,
   "metadata": {
    "collapsed": false
   },
   "outputs": [
    {
     "data": {
      "text/html": [
       "<div>\n",
       "<style>\n",
       "    .dataframe thead tr:only-child th {\n",
       "        text-align: right;\n",
       "    }\n",
       "\n",
       "    .dataframe thead th {\n",
       "        text-align: left;\n",
       "    }\n",
       "\n",
       "    .dataframe tbody tr th {\n",
       "        vertical-align: top;\n",
       "    }\n",
       "</style>\n",
       "<table border=\"1\" class=\"dataframe\">\n",
       "  <thead>\n",
       "    <tr style=\"text-align: right;\">\n",
       "      <th></th>\n",
       "      <th>City</th>\n",
       "      <th>Host_Country</th>\n",
       "    </tr>\n",
       "  </thead>\n",
       "  <tbody>\n",
       "    <tr>\n",
       "      <th>7976</th>\n",
       "      <td>Athens</td>\n",
       "      <td>Greece</td>\n",
       "    </tr>\n",
       "    <tr>\n",
       "      <th>20022</th>\n",
       "      <td>Athens</td>\n",
       "      <td>USA</td>\n",
       "    </tr>\n",
       "    <tr>\n",
       "      <th>20465</th>\n",
       "      <td>Athens</td>\n",
       "      <td>USA</td>\n",
       "    </tr>\n",
       "  </tbody>\n",
       "</table>\n",
       "</div>"
      ],
      "text/plain": [
       "         City Host_Country\n",
       "7976   Athens       Greece\n",
       "20022  Athens          USA\n",
       "20465  Athens          USA"
      ]
     },
     "execution_count": 1001,
     "metadata": {},
     "output_type": "execute_result"
    }
   ],
   "source": [
    "city[city.City=='Athens']"
   ]
  },
  {
   "cell_type": "markdown",
   "metadata": {},
   "source": [
    "Duh... of course many cities have duplicate names, i.e. they exist in more than one coutry.... so I have to clean the data some more... <br>\n",
    "__In hindsight I would have been better off just making this mapping for the 42 host cities from scratch __"
   ]
  },
  {
   "cell_type": "code",
   "execution_count": 1002,
   "metadata": {
    "collapsed": true
   },
   "outputs": [],
   "source": [
    "city.loc[city.City == 'London','Host_Country']= 'UK'\n",
    "city.loc[city.City == 'Barcelona','Host_Country']= 'Spain'\n",
    "city.loc[city.City == 'Sydney','Host_Country']= 'Australia'\n",
    "city.loc[city.City == 'Athens','Host_Country']= 'Greece'\n",
    "city.loc[city.City == 'Melbourne','Host_Country']= 'Australia'\n",
    "city.loc[city.City == 'Rome','Host_Country']= 'Italy'\n",
    "city.loc[city.City == 'Amsterdam','Host_Country']= 'Netherlands'\n",
    "city.loc[city.City == 'Moscow','Host_Country']= 'Moscow'\n",
    "city.loc[city.City == 'Vancouver','Host_Country']= 'Canada'"
   ]
  },
  {
   "cell_type": "code",
   "execution_count": 1003,
   "metadata": {
    "collapsed": false
   },
   "outputs": [],
   "source": [
    "city.drop_duplicates(inplace=True)"
   ]
  },
  {
   "cell_type": "code",
   "execution_count": 1004,
   "metadata": {
    "collapsed": false
   },
   "outputs": [],
   "source": [
    "# MERGE\n",
    "master = pd.merge(clean, city ,on='City',how='left')"
   ]
  },
  {
   "cell_type": "code",
   "execution_count": 1005,
   "metadata": {
    "collapsed": true
   },
   "outputs": [],
   "source": [
    "# sanity check \n",
    "assert (clean.shape[0] == master.shape[0]) # no new rows created "
   ]
  },
  {
   "cell_type": "code",
   "execution_count": 1006,
   "metadata": {
    "collapsed": false
   },
   "outputs": [
    {
     "data": {
      "text/plain": [
       "array(['Spain'], dtype=object)"
      ]
     },
     "execution_count": 1006,
     "metadata": {},
     "output_type": "execute_result"
    }
   ],
   "source": [
    "master[master.City =='Barcelona']['Host_Country'].unique()"
   ]
  },
  {
   "cell_type": "code",
   "execution_count": 1007,
   "metadata": {
    "collapsed": false,
    "scrolled": true
   },
   "outputs": [
    {
     "data": {
      "text/plain": [
       "array(['Greece'], dtype=object)"
      ]
     },
     "execution_count": 1007,
     "metadata": {},
     "output_type": "execute_result"
    }
   ],
   "source": [
    "master[master.City =='Athens']['Host_Country'].unique()"
   ]
  },
  {
   "cell_type": "code",
   "execution_count": 1008,
   "metadata": {
    "collapsed": false
   },
   "outputs": [
    {
     "data": {
      "text/plain": [
       "array(['Switzerland'], dtype=object)"
      ]
     },
     "execution_count": 1008,
     "metadata": {},
     "output_type": "execute_result"
    }
   ],
   "source": [
    "master[master.City =='Sankt Moritz']['Host_Country'].unique()"
   ]
  },
  {
   "cell_type": "markdown",
   "metadata": {},
   "source": [
    "## Find the continent of each host city and nation \n",
    "Steps:\n",
    "- examine and clean the continet_map.csv\n",
    "- modify raw continet_map.csv data to fit requirements\n",
    "    - aside: take a closer look at how data from European countries which ceased to exist is treated \n",
    "- merge with the master olympic dataset, creatine two new columns; for the continet of the hoast country and the continent of participating countries "
   ]
  },
  {
   "cell_type": "code",
   "execution_count": 1009,
   "metadata": {
    "collapsed": true
   },
   "outputs": [],
   "source": [
    "cont = pd.read_csv('all_data/continet_map.csv')"
   ]
  },
  {
   "cell_type": "code",
   "execution_count": 1010,
   "metadata": {
    "collapsed": false
   },
   "outputs": [
    {
     "data": {
      "text/plain": [
       "name                        51\n",
       "alpha-2                     51\n",
       "alpha-3                     51\n",
       "country-code                51\n",
       "iso_3166-2                  51\n",
       "region                      51\n",
       "sub-region                  51\n",
       "intermediate-region          2\n",
       "region-code                 51\n",
       "sub-region-code             51\n",
       "intermediate-region-code     2\n",
       "dtype: int64"
      ]
     },
     "execution_count": 1010,
     "metadata": {},
     "output_type": "execute_result"
    }
   ],
   "source": [
    "# sanity check\n",
    "cont[cont.region==\"Europe\"].count() "
   ]
  },
  {
   "cell_type": "code",
   "execution_count": 1011,
   "metadata": {
    "collapsed": false
   },
   "outputs": [
    {
     "data": {
      "text/html": [
       "<div>\n",
       "<style>\n",
       "    .dataframe thead tr:only-child th {\n",
       "        text-align: right;\n",
       "    }\n",
       "\n",
       "    .dataframe thead th {\n",
       "        text-align: left;\n",
       "    }\n",
       "\n",
       "    .dataframe tbody tr th {\n",
       "        vertical-align: top;\n",
       "    }\n",
       "</style>\n",
       "<table border=\"1\" class=\"dataframe\">\n",
       "  <thead>\n",
       "    <tr style=\"text-align: right;\">\n",
       "      <th></th>\n",
       "      <th>name</th>\n",
       "      <th>alpha-2</th>\n",
       "      <th>alpha-3</th>\n",
       "      <th>country-code</th>\n",
       "      <th>iso_3166-2</th>\n",
       "      <th>region</th>\n",
       "      <th>sub-region</th>\n",
       "      <th>intermediate-region</th>\n",
       "      <th>region-code</th>\n",
       "      <th>sub-region-code</th>\n",
       "      <th>intermediate-region-code</th>\n",
       "    </tr>\n",
       "  </thead>\n",
       "  <tbody>\n",
       "    <tr>\n",
       "      <th>1</th>\n",
       "      <td>Åland Islands</td>\n",
       "      <td>AX</td>\n",
       "      <td>ALA</td>\n",
       "      <td>248</td>\n",
       "      <td>ISO 3166-2:AX</td>\n",
       "      <td>Europe</td>\n",
       "      <td>Northern Europe</td>\n",
       "      <td>NaN</td>\n",
       "      <td>150.0</td>\n",
       "      <td>154.0</td>\n",
       "      <td>NaN</td>\n",
       "    </tr>\n",
       "    <tr>\n",
       "      <th>2</th>\n",
       "      <td>Albania</td>\n",
       "      <td>AL</td>\n",
       "      <td>ALB</td>\n",
       "      <td>8</td>\n",
       "      <td>ISO 3166-2:AL</td>\n",
       "      <td>Europe</td>\n",
       "      <td>Southern Europe</td>\n",
       "      <td>NaN</td>\n",
       "      <td>150.0</td>\n",
       "      <td>39.0</td>\n",
       "      <td>NaN</td>\n",
       "    </tr>\n",
       "    <tr>\n",
       "      <th>5</th>\n",
       "      <td>Andorra</td>\n",
       "      <td>AD</td>\n",
       "      <td>AND</td>\n",
       "      <td>20</td>\n",
       "      <td>ISO 3166-2:AD</td>\n",
       "      <td>Europe</td>\n",
       "      <td>Southern Europe</td>\n",
       "      <td>NaN</td>\n",
       "      <td>150.0</td>\n",
       "      <td>39.0</td>\n",
       "      <td>NaN</td>\n",
       "    </tr>\n",
       "    <tr>\n",
       "      <th>14</th>\n",
       "      <td>Austria</td>\n",
       "      <td>AT</td>\n",
       "      <td>AUT</td>\n",
       "      <td>40</td>\n",
       "      <td>ISO 3166-2:AT</td>\n",
       "      <td>Europe</td>\n",
       "      <td>Western Europe</td>\n",
       "      <td>NaN</td>\n",
       "      <td>150.0</td>\n",
       "      <td>155.0</td>\n",
       "      <td>NaN</td>\n",
       "    </tr>\n",
       "    <tr>\n",
       "      <th>20</th>\n",
       "      <td>Belarus</td>\n",
       "      <td>BY</td>\n",
       "      <td>BLR</td>\n",
       "      <td>112</td>\n",
       "      <td>ISO 3166-2:BY</td>\n",
       "      <td>Europe</td>\n",
       "      <td>Eastern Europe</td>\n",
       "      <td>NaN</td>\n",
       "      <td>150.0</td>\n",
       "      <td>151.0</td>\n",
       "      <td>NaN</td>\n",
       "    </tr>\n",
       "    <tr>\n",
       "      <th>21</th>\n",
       "      <td>Belgium</td>\n",
       "      <td>BE</td>\n",
       "      <td>BEL</td>\n",
       "      <td>56</td>\n",
       "      <td>ISO 3166-2:BE</td>\n",
       "      <td>Europe</td>\n",
       "      <td>Western Europe</td>\n",
       "      <td>NaN</td>\n",
       "      <td>150.0</td>\n",
       "      <td>155.0</td>\n",
       "      <td>NaN</td>\n",
       "    </tr>\n",
       "    <tr>\n",
       "      <th>28</th>\n",
       "      <td>Bosnia and Herzegovina</td>\n",
       "      <td>BA</td>\n",
       "      <td>BIH</td>\n",
       "      <td>70</td>\n",
       "      <td>ISO 3166-2:BA</td>\n",
       "      <td>Europe</td>\n",
       "      <td>Southern Europe</td>\n",
       "      <td>NaN</td>\n",
       "      <td>150.0</td>\n",
       "      <td>39.0</td>\n",
       "      <td>NaN</td>\n",
       "    </tr>\n",
       "    <tr>\n",
       "      <th>34</th>\n",
       "      <td>Bulgaria</td>\n",
       "      <td>BG</td>\n",
       "      <td>BGR</td>\n",
       "      <td>100</td>\n",
       "      <td>ISO 3166-2:BG</td>\n",
       "      <td>Europe</td>\n",
       "      <td>Eastern Europe</td>\n",
       "      <td>NaN</td>\n",
       "      <td>150.0</td>\n",
       "      <td>151.0</td>\n",
       "      <td>NaN</td>\n",
       "    </tr>\n",
       "    <tr>\n",
       "      <th>55</th>\n",
       "      <td>Croatia</td>\n",
       "      <td>HR</td>\n",
       "      <td>HRV</td>\n",
       "      <td>191</td>\n",
       "      <td>ISO 3166-2:HR</td>\n",
       "      <td>Europe</td>\n",
       "      <td>Southern Europe</td>\n",
       "      <td>NaN</td>\n",
       "      <td>150.0</td>\n",
       "      <td>39.0</td>\n",
       "      <td>NaN</td>\n",
       "    </tr>\n",
       "    <tr>\n",
       "      <th>59</th>\n",
       "      <td>Czechia</td>\n",
       "      <td>CZ</td>\n",
       "      <td>CZE</td>\n",
       "      <td>203</td>\n",
       "      <td>ISO 3166-2:CZ</td>\n",
       "      <td>Europe</td>\n",
       "      <td>Eastern Europe</td>\n",
       "      <td>NaN</td>\n",
       "      <td>150.0</td>\n",
       "      <td>151.0</td>\n",
       "      <td>NaN</td>\n",
       "    </tr>\n",
       "    <tr>\n",
       "      <th>60</th>\n",
       "      <td>Denmark</td>\n",
       "      <td>DK</td>\n",
       "      <td>DNK</td>\n",
       "      <td>208</td>\n",
       "      <td>ISO 3166-2:DK</td>\n",
       "      <td>Europe</td>\n",
       "      <td>Northern Europe</td>\n",
       "      <td>NaN</td>\n",
       "      <td>150.0</td>\n",
       "      <td>154.0</td>\n",
       "      <td>NaN</td>\n",
       "    </tr>\n",
       "    <tr>\n",
       "      <th>69</th>\n",
       "      <td>Estonia</td>\n",
       "      <td>EE</td>\n",
       "      <td>EST</td>\n",
       "      <td>233</td>\n",
       "      <td>ISO 3166-2:EE</td>\n",
       "      <td>Europe</td>\n",
       "      <td>Northern Europe</td>\n",
       "      <td>NaN</td>\n",
       "      <td>150.0</td>\n",
       "      <td>154.0</td>\n",
       "      <td>NaN</td>\n",
       "    </tr>\n",
       "    <tr>\n",
       "      <th>73</th>\n",
       "      <td>Faroe Islands</td>\n",
       "      <td>FO</td>\n",
       "      <td>FRO</td>\n",
       "      <td>234</td>\n",
       "      <td>ISO 3166-2:FO</td>\n",
       "      <td>Europe</td>\n",
       "      <td>Northern Europe</td>\n",
       "      <td>NaN</td>\n",
       "      <td>150.0</td>\n",
       "      <td>154.0</td>\n",
       "      <td>NaN</td>\n",
       "    </tr>\n",
       "    <tr>\n",
       "      <th>75</th>\n",
       "      <td>Finland</td>\n",
       "      <td>FI</td>\n",
       "      <td>FIN</td>\n",
       "      <td>246</td>\n",
       "      <td>ISO 3166-2:FI</td>\n",
       "      <td>Europe</td>\n",
       "      <td>Northern Europe</td>\n",
       "      <td>NaN</td>\n",
       "      <td>150.0</td>\n",
       "      <td>154.0</td>\n",
       "      <td>NaN</td>\n",
       "    </tr>\n",
       "    <tr>\n",
       "      <th>76</th>\n",
       "      <td>France</td>\n",
       "      <td>FR</td>\n",
       "      <td>FRA</td>\n",
       "      <td>250</td>\n",
       "      <td>ISO 3166-2:FR</td>\n",
       "      <td>Europe</td>\n",
       "      <td>Western Europe</td>\n",
       "      <td>NaN</td>\n",
       "      <td>150.0</td>\n",
       "      <td>155.0</td>\n",
       "      <td>NaN</td>\n",
       "    </tr>\n",
       "    <tr>\n",
       "      <th>83</th>\n",
       "      <td>Germany</td>\n",
       "      <td>DE</td>\n",
       "      <td>DEU</td>\n",
       "      <td>276</td>\n",
       "      <td>ISO 3166-2:DE</td>\n",
       "      <td>Europe</td>\n",
       "      <td>Western Europe</td>\n",
       "      <td>NaN</td>\n",
       "      <td>150.0</td>\n",
       "      <td>155.0</td>\n",
       "      <td>NaN</td>\n",
       "    </tr>\n",
       "    <tr>\n",
       "      <th>85</th>\n",
       "      <td>Gibraltar</td>\n",
       "      <td>GI</td>\n",
       "      <td>GIB</td>\n",
       "      <td>292</td>\n",
       "      <td>ISO 3166-2:GI</td>\n",
       "      <td>Europe</td>\n",
       "      <td>Southern Europe</td>\n",
       "      <td>NaN</td>\n",
       "      <td>150.0</td>\n",
       "      <td>39.0</td>\n",
       "      <td>NaN</td>\n",
       "    </tr>\n",
       "    <tr>\n",
       "      <th>86</th>\n",
       "      <td>Greece</td>\n",
       "      <td>GR</td>\n",
       "      <td>GRC</td>\n",
       "      <td>300</td>\n",
       "      <td>ISO 3166-2:GR</td>\n",
       "      <td>Europe</td>\n",
       "      <td>Southern Europe</td>\n",
       "      <td>NaN</td>\n",
       "      <td>150.0</td>\n",
       "      <td>39.0</td>\n",
       "      <td>NaN</td>\n",
       "    </tr>\n",
       "    <tr>\n",
       "      <th>92</th>\n",
       "      <td>Guernsey</td>\n",
       "      <td>GG</td>\n",
       "      <td>GGY</td>\n",
       "      <td>831</td>\n",
       "      <td>ISO 3166-2:GG</td>\n",
       "      <td>Europe</td>\n",
       "      <td>Northern Europe</td>\n",
       "      <td>Channel Islands</td>\n",
       "      <td>150.0</td>\n",
       "      <td>154.0</td>\n",
       "      <td>830.0</td>\n",
       "    </tr>\n",
       "    <tr>\n",
       "      <th>98</th>\n",
       "      <td>Holy See</td>\n",
       "      <td>VA</td>\n",
       "      <td>VAT</td>\n",
       "      <td>336</td>\n",
       "      <td>ISO 3166-2:VA</td>\n",
       "      <td>Europe</td>\n",
       "      <td>Southern Europe</td>\n",
       "      <td>NaN</td>\n",
       "      <td>150.0</td>\n",
       "      <td>39.0</td>\n",
       "      <td>NaN</td>\n",
       "    </tr>\n",
       "    <tr>\n",
       "      <th>101</th>\n",
       "      <td>Hungary</td>\n",
       "      <td>HU</td>\n",
       "      <td>HUN</td>\n",
       "      <td>348</td>\n",
       "      <td>ISO 3166-2:HU</td>\n",
       "      <td>Europe</td>\n",
       "      <td>Eastern Europe</td>\n",
       "      <td>NaN</td>\n",
       "      <td>150.0</td>\n",
       "      <td>151.0</td>\n",
       "      <td>NaN</td>\n",
       "    </tr>\n",
       "    <tr>\n",
       "      <th>102</th>\n",
       "      <td>Iceland</td>\n",
       "      <td>IS</td>\n",
       "      <td>ISL</td>\n",
       "      <td>352</td>\n",
       "      <td>ISO 3166-2:IS</td>\n",
       "      <td>Europe</td>\n",
       "      <td>Northern Europe</td>\n",
       "      <td>NaN</td>\n",
       "      <td>150.0</td>\n",
       "      <td>154.0</td>\n",
       "      <td>NaN</td>\n",
       "    </tr>\n",
       "    <tr>\n",
       "      <th>107</th>\n",
       "      <td>Ireland</td>\n",
       "      <td>IE</td>\n",
       "      <td>IRL</td>\n",
       "      <td>372</td>\n",
       "      <td>ISO 3166-2:IE</td>\n",
       "      <td>Europe</td>\n",
       "      <td>Northern Europe</td>\n",
       "      <td>NaN</td>\n",
       "      <td>150.0</td>\n",
       "      <td>154.0</td>\n",
       "      <td>NaN</td>\n",
       "    </tr>\n",
       "    <tr>\n",
       "      <th>108</th>\n",
       "      <td>Isle of Man</td>\n",
       "      <td>IM</td>\n",
       "      <td>IMN</td>\n",
       "      <td>833</td>\n",
       "      <td>ISO 3166-2:IM</td>\n",
       "      <td>Europe</td>\n",
       "      <td>Northern Europe</td>\n",
       "      <td>NaN</td>\n",
       "      <td>150.0</td>\n",
       "      <td>154.0</td>\n",
       "      <td>NaN</td>\n",
       "    </tr>\n",
       "    <tr>\n",
       "      <th>110</th>\n",
       "      <td>Italy</td>\n",
       "      <td>IT</td>\n",
       "      <td>ITA</td>\n",
       "      <td>380</td>\n",
       "      <td>ISO 3166-2:IT</td>\n",
       "      <td>Europe</td>\n",
       "      <td>Southern Europe</td>\n",
       "      <td>NaN</td>\n",
       "      <td>150.0</td>\n",
       "      <td>39.0</td>\n",
       "      <td>NaN</td>\n",
       "    </tr>\n",
       "    <tr>\n",
       "      <th>113</th>\n",
       "      <td>Jersey</td>\n",
       "      <td>JE</td>\n",
       "      <td>JEY</td>\n",
       "      <td>832</td>\n",
       "      <td>ISO 3166-2:JE</td>\n",
       "      <td>Europe</td>\n",
       "      <td>Northern Europe</td>\n",
       "      <td>Channel Islands</td>\n",
       "      <td>150.0</td>\n",
       "      <td>154.0</td>\n",
       "      <td>830.0</td>\n",
       "    </tr>\n",
       "    <tr>\n",
       "      <th>123</th>\n",
       "      <td>Latvia</td>\n",
       "      <td>LV</td>\n",
       "      <td>LVA</td>\n",
       "      <td>428</td>\n",
       "      <td>ISO 3166-2:LV</td>\n",
       "      <td>Europe</td>\n",
       "      <td>Northern Europe</td>\n",
       "      <td>NaN</td>\n",
       "      <td>150.0</td>\n",
       "      <td>154.0</td>\n",
       "      <td>NaN</td>\n",
       "    </tr>\n",
       "    <tr>\n",
       "      <th>128</th>\n",
       "      <td>Liechtenstein</td>\n",
       "      <td>LI</td>\n",
       "      <td>LIE</td>\n",
       "      <td>438</td>\n",
       "      <td>ISO 3166-2:LI</td>\n",
       "      <td>Europe</td>\n",
       "      <td>Western Europe</td>\n",
       "      <td>NaN</td>\n",
       "      <td>150.0</td>\n",
       "      <td>155.0</td>\n",
       "      <td>NaN</td>\n",
       "    </tr>\n",
       "    <tr>\n",
       "      <th>129</th>\n",
       "      <td>Lithuania</td>\n",
       "      <td>LT</td>\n",
       "      <td>LTU</td>\n",
       "      <td>440</td>\n",
       "      <td>ISO 3166-2:LT</td>\n",
       "      <td>Europe</td>\n",
       "      <td>Northern Europe</td>\n",
       "      <td>NaN</td>\n",
       "      <td>150.0</td>\n",
       "      <td>154.0</td>\n",
       "      <td>NaN</td>\n",
       "    </tr>\n",
       "    <tr>\n",
       "      <th>130</th>\n",
       "      <td>Luxembourg</td>\n",
       "      <td>LU</td>\n",
       "      <td>LUX</td>\n",
       "      <td>442</td>\n",
       "      <td>ISO 3166-2:LU</td>\n",
       "      <td>Europe</td>\n",
       "      <td>Western Europe</td>\n",
       "      <td>NaN</td>\n",
       "      <td>150.0</td>\n",
       "      <td>155.0</td>\n",
       "      <td>NaN</td>\n",
       "    </tr>\n",
       "    <tr>\n",
       "      <th>132</th>\n",
       "      <td>Macedonia (the former Yugoslav Republic of)</td>\n",
       "      <td>MK</td>\n",
       "      <td>MKD</td>\n",
       "      <td>807</td>\n",
       "      <td>ISO 3166-2:MK</td>\n",
       "      <td>Europe</td>\n",
       "      <td>Southern Europe</td>\n",
       "      <td>NaN</td>\n",
       "      <td>150.0</td>\n",
       "      <td>39.0</td>\n",
       "      <td>NaN</td>\n",
       "    </tr>\n",
       "    <tr>\n",
       "      <th>138</th>\n",
       "      <td>Malta</td>\n",
       "      <td>MT</td>\n",
       "      <td>MLT</td>\n",
       "      <td>470</td>\n",
       "      <td>ISO 3166-2:MT</td>\n",
       "      <td>Europe</td>\n",
       "      <td>Southern Europe</td>\n",
       "      <td>NaN</td>\n",
       "      <td>150.0</td>\n",
       "      <td>39.0</td>\n",
       "      <td>NaN</td>\n",
       "    </tr>\n",
       "    <tr>\n",
       "      <th>146</th>\n",
       "      <td>Moldova (Republic of)</td>\n",
       "      <td>MD</td>\n",
       "      <td>MDA</td>\n",
       "      <td>498</td>\n",
       "      <td>ISO 3166-2:MD</td>\n",
       "      <td>Europe</td>\n",
       "      <td>Eastern Europe</td>\n",
       "      <td>NaN</td>\n",
       "      <td>150.0</td>\n",
       "      <td>151.0</td>\n",
       "      <td>NaN</td>\n",
       "    </tr>\n",
       "    <tr>\n",
       "      <th>147</th>\n",
       "      <td>Monaco</td>\n",
       "      <td>MC</td>\n",
       "      <td>MCO</td>\n",
       "      <td>492</td>\n",
       "      <td>ISO 3166-2:MC</td>\n",
       "      <td>Europe</td>\n",
       "      <td>Western Europe</td>\n",
       "      <td>NaN</td>\n",
       "      <td>150.0</td>\n",
       "      <td>155.0</td>\n",
       "      <td>NaN</td>\n",
       "    </tr>\n",
       "    <tr>\n",
       "      <th>149</th>\n",
       "      <td>Montenegro</td>\n",
       "      <td>ME</td>\n",
       "      <td>MNE</td>\n",
       "      <td>499</td>\n",
       "      <td>ISO 3166-2:ME</td>\n",
       "      <td>Europe</td>\n",
       "      <td>Southern Europe</td>\n",
       "      <td>NaN</td>\n",
       "      <td>150.0</td>\n",
       "      <td>39.0</td>\n",
       "      <td>NaN</td>\n",
       "    </tr>\n",
       "    <tr>\n",
       "      <th>157</th>\n",
       "      <td>Netherlands</td>\n",
       "      <td>NL</td>\n",
       "      <td>NLD</td>\n",
       "      <td>528</td>\n",
       "      <td>ISO 3166-2:NL</td>\n",
       "      <td>Europe</td>\n",
       "      <td>Western Europe</td>\n",
       "      <td>NaN</td>\n",
       "      <td>150.0</td>\n",
       "      <td>155.0</td>\n",
       "      <td>NaN</td>\n",
       "    </tr>\n",
       "    <tr>\n",
       "      <th>166</th>\n",
       "      <td>Norway</td>\n",
       "      <td>NO</td>\n",
       "      <td>NOR</td>\n",
       "      <td>578</td>\n",
       "      <td>ISO 3166-2:NO</td>\n",
       "      <td>Europe</td>\n",
       "      <td>Northern Europe</td>\n",
       "      <td>NaN</td>\n",
       "      <td>150.0</td>\n",
       "      <td>154.0</td>\n",
       "      <td>NaN</td>\n",
       "    </tr>\n",
       "    <tr>\n",
       "      <th>177</th>\n",
       "      <td>Poland</td>\n",
       "      <td>PL</td>\n",
       "      <td>POL</td>\n",
       "      <td>616</td>\n",
       "      <td>ISO 3166-2:PL</td>\n",
       "      <td>Europe</td>\n",
       "      <td>Eastern Europe</td>\n",
       "      <td>NaN</td>\n",
       "      <td>150.0</td>\n",
       "      <td>151.0</td>\n",
       "      <td>NaN</td>\n",
       "    </tr>\n",
       "    <tr>\n",
       "      <th>178</th>\n",
       "      <td>Portugal</td>\n",
       "      <td>PT</td>\n",
       "      <td>PRT</td>\n",
       "      <td>620</td>\n",
       "      <td>ISO 3166-2:PT</td>\n",
       "      <td>Europe</td>\n",
       "      <td>Southern Europe</td>\n",
       "      <td>NaN</td>\n",
       "      <td>150.0</td>\n",
       "      <td>39.0</td>\n",
       "      <td>NaN</td>\n",
       "    </tr>\n",
       "    <tr>\n",
       "      <th>182</th>\n",
       "      <td>Romania</td>\n",
       "      <td>RO</td>\n",
       "      <td>ROU</td>\n",
       "      <td>642</td>\n",
       "      <td>ISO 3166-2:RO</td>\n",
       "      <td>Europe</td>\n",
       "      <td>Eastern Europe</td>\n",
       "      <td>NaN</td>\n",
       "      <td>150.0</td>\n",
       "      <td>151.0</td>\n",
       "      <td>NaN</td>\n",
       "    </tr>\n",
       "    <tr>\n",
       "      <th>183</th>\n",
       "      <td>Russian Federation</td>\n",
       "      <td>RU</td>\n",
       "      <td>RUS</td>\n",
       "      <td>643</td>\n",
       "      <td>ISO 3166-2:RU</td>\n",
       "      <td>Europe</td>\n",
       "      <td>Eastern Europe</td>\n",
       "      <td>NaN</td>\n",
       "      <td>150.0</td>\n",
       "      <td>151.0</td>\n",
       "      <td>NaN</td>\n",
       "    </tr>\n",
       "    <tr>\n",
       "      <th>193</th>\n",
       "      <td>San Marino</td>\n",
       "      <td>SM</td>\n",
       "      <td>SMR</td>\n",
       "      <td>674</td>\n",
       "      <td>ISO 3166-2:SM</td>\n",
       "      <td>Europe</td>\n",
       "      <td>Southern Europe</td>\n",
       "      <td>NaN</td>\n",
       "      <td>150.0</td>\n",
       "      <td>39.0</td>\n",
       "      <td>NaN</td>\n",
       "    </tr>\n",
       "    <tr>\n",
       "      <th>197</th>\n",
       "      <td>Serbia</td>\n",
       "      <td>RS</td>\n",
       "      <td>SRB</td>\n",
       "      <td>688</td>\n",
       "      <td>ISO 3166-2:RS</td>\n",
       "      <td>Europe</td>\n",
       "      <td>Southern Europe</td>\n",
       "      <td>NaN</td>\n",
       "      <td>150.0</td>\n",
       "      <td>39.0</td>\n",
       "      <td>NaN</td>\n",
       "    </tr>\n",
       "    <tr>\n",
       "      <th>202</th>\n",
       "      <td>Slovakia</td>\n",
       "      <td>SK</td>\n",
       "      <td>SVK</td>\n",
       "      <td>703</td>\n",
       "      <td>ISO 3166-2:SK</td>\n",
       "      <td>Europe</td>\n",
       "      <td>Eastern Europe</td>\n",
       "      <td>NaN</td>\n",
       "      <td>150.0</td>\n",
       "      <td>151.0</td>\n",
       "      <td>NaN</td>\n",
       "    </tr>\n",
       "    <tr>\n",
       "      <th>203</th>\n",
       "      <td>Slovenia</td>\n",
       "      <td>SI</td>\n",
       "      <td>SVN</td>\n",
       "      <td>705</td>\n",
       "      <td>ISO 3166-2:SI</td>\n",
       "      <td>Europe</td>\n",
       "      <td>Southern Europe</td>\n",
       "      <td>NaN</td>\n",
       "      <td>150.0</td>\n",
       "      <td>39.0</td>\n",
       "      <td>NaN</td>\n",
       "    </tr>\n",
       "    <tr>\n",
       "      <th>209</th>\n",
       "      <td>Spain</td>\n",
       "      <td>ES</td>\n",
       "      <td>ESP</td>\n",
       "      <td>724</td>\n",
       "      <td>ISO 3166-2:ES</td>\n",
       "      <td>Europe</td>\n",
       "      <td>Southern Europe</td>\n",
       "      <td>NaN</td>\n",
       "      <td>150.0</td>\n",
       "      <td>39.0</td>\n",
       "      <td>NaN</td>\n",
       "    </tr>\n",
       "    <tr>\n",
       "      <th>213</th>\n",
       "      <td>Svalbard and Jan Mayen</td>\n",
       "      <td>SJ</td>\n",
       "      <td>SJM</td>\n",
       "      <td>744</td>\n",
       "      <td>ISO 3166-2:SJ</td>\n",
       "      <td>Europe</td>\n",
       "      <td>Northern Europe</td>\n",
       "      <td>NaN</td>\n",
       "      <td>150.0</td>\n",
       "      <td>154.0</td>\n",
       "      <td>NaN</td>\n",
       "    </tr>\n",
       "    <tr>\n",
       "      <th>214</th>\n",
       "      <td>Sweden</td>\n",
       "      <td>SE</td>\n",
       "      <td>SWE</td>\n",
       "      <td>752</td>\n",
       "      <td>ISO 3166-2:SE</td>\n",
       "      <td>Europe</td>\n",
       "      <td>Northern Europe</td>\n",
       "      <td>NaN</td>\n",
       "      <td>150.0</td>\n",
       "      <td>154.0</td>\n",
       "      <td>NaN</td>\n",
       "    </tr>\n",
       "    <tr>\n",
       "      <th>215</th>\n",
       "      <td>Switzerland</td>\n",
       "      <td>CH</td>\n",
       "      <td>CHE</td>\n",
       "      <td>756</td>\n",
       "      <td>ISO 3166-2:CH</td>\n",
       "      <td>Europe</td>\n",
       "      <td>Western Europe</td>\n",
       "      <td>NaN</td>\n",
       "      <td>150.0</td>\n",
       "      <td>155.0</td>\n",
       "      <td>NaN</td>\n",
       "    </tr>\n",
       "    <tr>\n",
       "      <th>232</th>\n",
       "      <td>Ukraine</td>\n",
       "      <td>UA</td>\n",
       "      <td>UKR</td>\n",
       "      <td>804</td>\n",
       "      <td>ISO 3166-2:UA</td>\n",
       "      <td>Europe</td>\n",
       "      <td>Eastern Europe</td>\n",
       "      <td>NaN</td>\n",
       "      <td>150.0</td>\n",
       "      <td>151.0</td>\n",
       "      <td>NaN</td>\n",
       "    </tr>\n",
       "    <tr>\n",
       "      <th>234</th>\n",
       "      <td>United Kingdom of Great Britain and Northern I...</td>\n",
       "      <td>GB</td>\n",
       "      <td>GBR</td>\n",
       "      <td>826</td>\n",
       "      <td>ISO 3166-2:GB</td>\n",
       "      <td>Europe</td>\n",
       "      <td>Northern Europe</td>\n",
       "      <td>NaN</td>\n",
       "      <td>150.0</td>\n",
       "      <td>154.0</td>\n",
       "      <td>NaN</td>\n",
       "    </tr>\n",
       "  </tbody>\n",
       "</table>\n",
       "</div>"
      ],
      "text/plain": [
       "                                                  name alpha-2 alpha-3  \\\n",
       "1                                        Åland Islands      AX     ALA   \n",
       "2                                              Albania      AL     ALB   \n",
       "5                                              Andorra      AD     AND   \n",
       "14                                             Austria      AT     AUT   \n",
       "20                                             Belarus      BY     BLR   \n",
       "21                                             Belgium      BE     BEL   \n",
       "28                              Bosnia and Herzegovina      BA     BIH   \n",
       "34                                            Bulgaria      BG     BGR   \n",
       "55                                             Croatia      HR     HRV   \n",
       "59                                             Czechia      CZ     CZE   \n",
       "60                                             Denmark      DK     DNK   \n",
       "69                                             Estonia      EE     EST   \n",
       "73                                       Faroe Islands      FO     FRO   \n",
       "75                                             Finland      FI     FIN   \n",
       "76                                              France      FR     FRA   \n",
       "83                                             Germany      DE     DEU   \n",
       "85                                           Gibraltar      GI     GIB   \n",
       "86                                              Greece      GR     GRC   \n",
       "92                                            Guernsey      GG     GGY   \n",
       "98                                            Holy See      VA     VAT   \n",
       "101                                            Hungary      HU     HUN   \n",
       "102                                            Iceland      IS     ISL   \n",
       "107                                            Ireland      IE     IRL   \n",
       "108                                        Isle of Man      IM     IMN   \n",
       "110                                              Italy      IT     ITA   \n",
       "113                                             Jersey      JE     JEY   \n",
       "123                                             Latvia      LV     LVA   \n",
       "128                                      Liechtenstein      LI     LIE   \n",
       "129                                          Lithuania      LT     LTU   \n",
       "130                                         Luxembourg      LU     LUX   \n",
       "132        Macedonia (the former Yugoslav Republic of)      MK     MKD   \n",
       "138                                              Malta      MT     MLT   \n",
       "146                              Moldova (Republic of)      MD     MDA   \n",
       "147                                             Monaco      MC     MCO   \n",
       "149                                         Montenegro      ME     MNE   \n",
       "157                                        Netherlands      NL     NLD   \n",
       "166                                             Norway      NO     NOR   \n",
       "177                                             Poland      PL     POL   \n",
       "178                                           Portugal      PT     PRT   \n",
       "182                                            Romania      RO     ROU   \n",
       "183                                 Russian Federation      RU     RUS   \n",
       "193                                         San Marino      SM     SMR   \n",
       "197                                             Serbia      RS     SRB   \n",
       "202                                           Slovakia      SK     SVK   \n",
       "203                                           Slovenia      SI     SVN   \n",
       "209                                              Spain      ES     ESP   \n",
       "213                             Svalbard and Jan Mayen      SJ     SJM   \n",
       "214                                             Sweden      SE     SWE   \n",
       "215                                        Switzerland      CH     CHE   \n",
       "232                                            Ukraine      UA     UKR   \n",
       "234  United Kingdom of Great Britain and Northern I...      GB     GBR   \n",
       "\n",
       "     country-code     iso_3166-2  region       sub-region intermediate-region  \\\n",
       "1             248  ISO 3166-2:AX  Europe  Northern Europe                 NaN   \n",
       "2               8  ISO 3166-2:AL  Europe  Southern Europe                 NaN   \n",
       "5              20  ISO 3166-2:AD  Europe  Southern Europe                 NaN   \n",
       "14             40  ISO 3166-2:AT  Europe   Western Europe                 NaN   \n",
       "20            112  ISO 3166-2:BY  Europe   Eastern Europe                 NaN   \n",
       "21             56  ISO 3166-2:BE  Europe   Western Europe                 NaN   \n",
       "28             70  ISO 3166-2:BA  Europe  Southern Europe                 NaN   \n",
       "34            100  ISO 3166-2:BG  Europe   Eastern Europe                 NaN   \n",
       "55            191  ISO 3166-2:HR  Europe  Southern Europe                 NaN   \n",
       "59            203  ISO 3166-2:CZ  Europe   Eastern Europe                 NaN   \n",
       "60            208  ISO 3166-2:DK  Europe  Northern Europe                 NaN   \n",
       "69            233  ISO 3166-2:EE  Europe  Northern Europe                 NaN   \n",
       "73            234  ISO 3166-2:FO  Europe  Northern Europe                 NaN   \n",
       "75            246  ISO 3166-2:FI  Europe  Northern Europe                 NaN   \n",
       "76            250  ISO 3166-2:FR  Europe   Western Europe                 NaN   \n",
       "83            276  ISO 3166-2:DE  Europe   Western Europe                 NaN   \n",
       "85            292  ISO 3166-2:GI  Europe  Southern Europe                 NaN   \n",
       "86            300  ISO 3166-2:GR  Europe  Southern Europe                 NaN   \n",
       "92            831  ISO 3166-2:GG  Europe  Northern Europe     Channel Islands   \n",
       "98            336  ISO 3166-2:VA  Europe  Southern Europe                 NaN   \n",
       "101           348  ISO 3166-2:HU  Europe   Eastern Europe                 NaN   \n",
       "102           352  ISO 3166-2:IS  Europe  Northern Europe                 NaN   \n",
       "107           372  ISO 3166-2:IE  Europe  Northern Europe                 NaN   \n",
       "108           833  ISO 3166-2:IM  Europe  Northern Europe                 NaN   \n",
       "110           380  ISO 3166-2:IT  Europe  Southern Europe                 NaN   \n",
       "113           832  ISO 3166-2:JE  Europe  Northern Europe     Channel Islands   \n",
       "123           428  ISO 3166-2:LV  Europe  Northern Europe                 NaN   \n",
       "128           438  ISO 3166-2:LI  Europe   Western Europe                 NaN   \n",
       "129           440  ISO 3166-2:LT  Europe  Northern Europe                 NaN   \n",
       "130           442  ISO 3166-2:LU  Europe   Western Europe                 NaN   \n",
       "132           807  ISO 3166-2:MK  Europe  Southern Europe                 NaN   \n",
       "138           470  ISO 3166-2:MT  Europe  Southern Europe                 NaN   \n",
       "146           498  ISO 3166-2:MD  Europe   Eastern Europe                 NaN   \n",
       "147           492  ISO 3166-2:MC  Europe   Western Europe                 NaN   \n",
       "149           499  ISO 3166-2:ME  Europe  Southern Europe                 NaN   \n",
       "157           528  ISO 3166-2:NL  Europe   Western Europe                 NaN   \n",
       "166           578  ISO 3166-2:NO  Europe  Northern Europe                 NaN   \n",
       "177           616  ISO 3166-2:PL  Europe   Eastern Europe                 NaN   \n",
       "178           620  ISO 3166-2:PT  Europe  Southern Europe                 NaN   \n",
       "182           642  ISO 3166-2:RO  Europe   Eastern Europe                 NaN   \n",
       "183           643  ISO 3166-2:RU  Europe   Eastern Europe                 NaN   \n",
       "193           674  ISO 3166-2:SM  Europe  Southern Europe                 NaN   \n",
       "197           688  ISO 3166-2:RS  Europe  Southern Europe                 NaN   \n",
       "202           703  ISO 3166-2:SK  Europe   Eastern Europe                 NaN   \n",
       "203           705  ISO 3166-2:SI  Europe  Southern Europe                 NaN   \n",
       "209           724  ISO 3166-2:ES  Europe  Southern Europe                 NaN   \n",
       "213           744  ISO 3166-2:SJ  Europe  Northern Europe                 NaN   \n",
       "214           752  ISO 3166-2:SE  Europe  Northern Europe                 NaN   \n",
       "215           756  ISO 3166-2:CH  Europe   Western Europe                 NaN   \n",
       "232           804  ISO 3166-2:UA  Europe   Eastern Europe                 NaN   \n",
       "234           826  ISO 3166-2:GB  Europe  Northern Europe                 NaN   \n",
       "\n",
       "     region-code  sub-region-code  intermediate-region-code  \n",
       "1          150.0            154.0                       NaN  \n",
       "2          150.0             39.0                       NaN  \n",
       "5          150.0             39.0                       NaN  \n",
       "14         150.0            155.0                       NaN  \n",
       "20         150.0            151.0                       NaN  \n",
       "21         150.0            155.0                       NaN  \n",
       "28         150.0             39.0                       NaN  \n",
       "34         150.0            151.0                       NaN  \n",
       "55         150.0             39.0                       NaN  \n",
       "59         150.0            151.0                       NaN  \n",
       "60         150.0            154.0                       NaN  \n",
       "69         150.0            154.0                       NaN  \n",
       "73         150.0            154.0                       NaN  \n",
       "75         150.0            154.0                       NaN  \n",
       "76         150.0            155.0                       NaN  \n",
       "83         150.0            155.0                       NaN  \n",
       "85         150.0             39.0                       NaN  \n",
       "86         150.0             39.0                       NaN  \n",
       "92         150.0            154.0                     830.0  \n",
       "98         150.0             39.0                       NaN  \n",
       "101        150.0            151.0                       NaN  \n",
       "102        150.0            154.0                       NaN  \n",
       "107        150.0            154.0                       NaN  \n",
       "108        150.0            154.0                       NaN  \n",
       "110        150.0             39.0                       NaN  \n",
       "113        150.0            154.0                     830.0  \n",
       "123        150.0            154.0                       NaN  \n",
       "128        150.0            155.0                       NaN  \n",
       "129        150.0            154.0                       NaN  \n",
       "130        150.0            155.0                       NaN  \n",
       "132        150.0             39.0                       NaN  \n",
       "138        150.0             39.0                       NaN  \n",
       "146        150.0            151.0                       NaN  \n",
       "147        150.0            155.0                       NaN  \n",
       "149        150.0             39.0                       NaN  \n",
       "157        150.0            155.0                       NaN  \n",
       "166        150.0            154.0                       NaN  \n",
       "177        150.0            151.0                       NaN  \n",
       "178        150.0             39.0                       NaN  \n",
       "182        150.0            151.0                       NaN  \n",
       "183        150.0            151.0                       NaN  \n",
       "193        150.0             39.0                       NaN  \n",
       "197        150.0             39.0                       NaN  \n",
       "202        150.0            151.0                       NaN  \n",
       "203        150.0             39.0                       NaN  \n",
       "209        150.0             39.0                       NaN  \n",
       "213        150.0            154.0                       NaN  \n",
       "214        150.0            154.0                       NaN  \n",
       "215        150.0            155.0                       NaN  \n",
       "232        150.0            151.0                       NaN  \n",
       "234        150.0            154.0                       NaN  "
      ]
     },
     "execution_count": 1011,
     "metadata": {},
     "output_type": "execute_result"
    }
   ],
   "source": [
    "cont[cont.region==\"Europe\"]"
   ]
  },
  {
   "cell_type": "markdown",
   "metadata": {},
   "source": [
    "### New data sanity check:\n",
    "- Yes there are aprox 50 countries in Europe, intermediate-regions are UK channel islands, some regions (i.e Giblartar) will not have their own olympic representation. Therefore, ovreall there are more European countries,regions in this dataset, than those with Olympic teams. \n",
    "- From visula inspection of df, where the region == Europe, values match reality.<br>\n",
    "\n",
    "### Actions:\n",
    "Use the 'region', 'sub-region' and 'Country' columns from the new data frame, drop the remaining information. Then merge the 'region' and 'sub-region' columns to the olympic data frame using 'Country' as the key. Take care when merging data frames to include only the european countries which had Olympic teams."
   ]
  },
  {
   "cell_type": "code",
   "execution_count": 1012,
   "metadata": {
    "collapsed": false
   },
   "outputs": [],
   "source": [
    "cont.rename(columns={'name':'Country'},inplace=True) # rename column to match the main data naming convention"
   ]
  },
  {
   "cell_type": "code",
   "execution_count": 1013,
   "metadata": {
    "collapsed": false
   },
   "outputs": [],
   "source": [
    "cont.drop(['alpha-2', 'alpha-3', 'country-code', 'iso_3166-2','intermediate-region', 'region-code', 'sub-region-code',\n",
    "       'intermediate-region-code'],axis=1,inplace=True)"
   ]
  },
  {
   "cell_type": "code",
   "execution_count": 1014,
   "metadata": {
    "collapsed": false,
    "scrolled": true
   },
   "outputs": [
    {
     "data": {
      "text/plain": [
       "array(['Asia', 'Europe', 'Africa', 'Oceania', 'Americas', nan],\n",
       "      dtype=object)"
      ]
     },
     "execution_count": 1014,
     "metadata": {},
     "output_type": "execute_result"
    }
   ],
   "source": [
    "# what are the unique regions available? which are NAN?\n",
    "cont.region.unique()"
   ]
  },
  {
   "cell_type": "code",
   "execution_count": 1015,
   "metadata": {
    "collapsed": false
   },
   "outputs": [
    {
     "data": {
      "text/plain": [
       "Country       0\n",
       "region        1\n",
       "sub-region    1\n",
       "dtype: int64"
      ]
     },
     "execution_count": 1015,
     "metadata": {},
     "output_type": "execute_result"
    }
   ],
   "source": [
    "cont.isnull().sum() "
   ]
  },
  {
   "cell_type": "code",
   "execution_count": 1016,
   "metadata": {
    "collapsed": false,
    "scrolled": false
   },
   "outputs": [
    {
     "data": {
      "text/html": [
       "<div>\n",
       "<style>\n",
       "    .dataframe thead tr:only-child th {\n",
       "        text-align: right;\n",
       "    }\n",
       "\n",
       "    .dataframe thead th {\n",
       "        text-align: left;\n",
       "    }\n",
       "\n",
       "    .dataframe tbody tr th {\n",
       "        vertical-align: top;\n",
       "    }\n",
       "</style>\n",
       "<table border=\"1\" class=\"dataframe\">\n",
       "  <thead>\n",
       "    <tr style=\"text-align: right;\">\n",
       "      <th></th>\n",
       "      <th>Country</th>\n",
       "      <th>region</th>\n",
       "      <th>sub-region</th>\n",
       "    </tr>\n",
       "  </thead>\n",
       "  <tbody>\n",
       "    <tr>\n",
       "      <th>8</th>\n",
       "      <td>Antarctica</td>\n",
       "      <td>NaN</td>\n",
       "      <td>NaN</td>\n",
       "    </tr>\n",
       "  </tbody>\n",
       "</table>\n",
       "</div>"
      ],
      "text/plain": [
       "      Country region sub-region\n",
       "8  Antarctica    NaN        NaN"
      ]
     },
     "execution_count": 1016,
     "metadata": {},
     "output_type": "execute_result"
    }
   ],
   "source": [
    "cont[cont.Country=='Antarctica']  # Antarctica is NaN thats ok, not important here"
   ]
  },
  {
   "cell_type": "code",
   "execution_count": 1017,
   "metadata": {
    "collapsed": false
   },
   "outputs": [
    {
     "data": {
      "text/html": [
       "<div>\n",
       "<style>\n",
       "    .dataframe thead tr:only-child th {\n",
       "        text-align: right;\n",
       "    }\n",
       "\n",
       "    .dataframe thead th {\n",
       "        text-align: left;\n",
       "    }\n",
       "\n",
       "    .dataframe tbody tr th {\n",
       "        vertical-align: top;\n",
       "    }\n",
       "</style>\n",
       "<table border=\"1\" class=\"dataframe\">\n",
       "  <thead>\n",
       "    <tr style=\"text-align: right;\">\n",
       "      <th></th>\n",
       "      <th>Country</th>\n",
       "      <th>region</th>\n",
       "      <th>sub-region</th>\n",
       "    </tr>\n",
       "  </thead>\n",
       "  <tbody>\n",
       "    <tr>\n",
       "      <th>213</th>\n",
       "      <td>Svalbard and Jan Mayen</td>\n",
       "      <td>Europe</td>\n",
       "      <td>Northern Europe</td>\n",
       "    </tr>\n",
       "    <tr>\n",
       "      <th>214</th>\n",
       "      <td>Sweden</td>\n",
       "      <td>Europe</td>\n",
       "      <td>Northern Europe</td>\n",
       "    </tr>\n",
       "    <tr>\n",
       "      <th>215</th>\n",
       "      <td>Switzerland</td>\n",
       "      <td>Europe</td>\n",
       "      <td>Western Europe</td>\n",
       "    </tr>\n",
       "    <tr>\n",
       "      <th>232</th>\n",
       "      <td>Ukraine</td>\n",
       "      <td>Europe</td>\n",
       "      <td>Eastern Europe</td>\n",
       "    </tr>\n",
       "    <tr>\n",
       "      <th>234</th>\n",
       "      <td>United Kingdom of Great Britain and Northern I...</td>\n",
       "      <td>Europe</td>\n",
       "      <td>Northern Europe</td>\n",
       "    </tr>\n",
       "  </tbody>\n",
       "</table>\n",
       "</div>"
      ],
      "text/plain": [
       "                                               Country  region  \\\n",
       "213                             Svalbard and Jan Mayen  Europe   \n",
       "214                                             Sweden  Europe   \n",
       "215                                        Switzerland  Europe   \n",
       "232                                            Ukraine  Europe   \n",
       "234  United Kingdom of Great Britain and Northern I...  Europe   \n",
       "\n",
       "          sub-region  \n",
       "213  Northern Europe  \n",
       "214  Northern Europe  \n",
       "215   Western Europe  \n",
       "232   Eastern Europe  \n",
       "234  Northern Europe  "
      ]
     },
     "execution_count": 1017,
     "metadata": {},
     "output_type": "execute_result"
    }
   ],
   "source": [
    "cont[cont.region=='Europe'].tail()"
   ]
  },
  {
   "cell_type": "code",
   "execution_count": 1018,
   "metadata": {
    "collapsed": false,
    "scrolled": true
   },
   "outputs": [],
   "source": [
    "assert(clean[clean.Country == 'Macedonia'].count().sum()) # check Macedonia in main df... "
   ]
  },
  {
   "cell_type": "code",
   "execution_count": 1019,
   "metadata": {
    "collapsed": false,
    "scrolled": true
   },
   "outputs": [
    {
     "data": {
      "text/html": [
       "<div>\n",
       "<style>\n",
       "    .dataframe thead tr:only-child th {\n",
       "        text-align: right;\n",
       "    }\n",
       "\n",
       "    .dataframe thead th {\n",
       "        text-align: left;\n",
       "    }\n",
       "\n",
       "    .dataframe tbody tr th {\n",
       "        vertical-align: top;\n",
       "    }\n",
       "</style>\n",
       "<table border=\"1\" class=\"dataframe\">\n",
       "  <thead>\n",
       "    <tr style=\"text-align: right;\">\n",
       "      <th></th>\n",
       "      <th>Country</th>\n",
       "      <th>region</th>\n",
       "      <th>sub-region</th>\n",
       "    </tr>\n",
       "  </thead>\n",
       "  <tbody>\n",
       "    <tr>\n",
       "      <th>58</th>\n",
       "      <td>Cyprus</td>\n",
       "      <td>Asia</td>\n",
       "      <td>Western Asia</td>\n",
       "    </tr>\n",
       "  </tbody>\n",
       "</table>\n",
       "</div>"
      ],
      "text/plain": [
       "   Country region    sub-region\n",
       "58  Cyprus   Asia  Western Asia"
      ]
     },
     "execution_count": 1019,
     "metadata": {},
     "output_type": "execute_result"
    }
   ],
   "source": [
    "cont[cont.Country == 'Cyprus']"
   ]
  },
  {
   "cell_type": "markdown",
   "metadata": {},
   "source": [
    "Inspecting the above table (expanded) see a few problems with country names: \n",
    "        - UK is 'United Kingdom of Great Britain and Northern Ireland',\n",
    "        - Moldova is 'Moldova (Republic of)', \n",
    "        - Macedonia is 'Macedonia (the former Yugoslav Republic of)', \n",
    "        - Russia is 'Russian Federation'. \n",
    "        - Czechia is the Czech Republic... \n",
    "Aditionally:\n",
    "        - Cyprus is not in Asia... \n",
    "        - Kosovo is in Europe...\n",
    "        - rename 'United States of America' to USA to match mian data frame\n",
    "        \n",
    "These have to be renamed before merge, since the countries take part in the Olympics and exist in the main data frame.\n",
    "<br>\n",
    "\n",
    "__Note:__ I will follow the definition of Europe from notebook 2: only countries with their territory fully within the European continent will be considered. Thus, need to drop Russia to be in line with definition, so I will assign Russia to the 'Asia' region in the cells below. "
   ]
  },
  {
   "cell_type": "code",
   "execution_count": 1020,
   "metadata": {
    "collapsed": false
   },
   "outputs": [],
   "source": [
    "# change relevant country names to match main DF names\n",
    "cont.loc[cont.Country == 'Moldova (Republic of)',['Country','sub-region']]= 'Moldova', 'Southern Europe'\n",
    "cont.loc[cont.Country == 'Macedonia (the former Yugoslav Republic of)',\\\n",
    "         ['Country','sub-region']]= 'Macedonia', 'Southern Europe'\n",
    "cont.loc[cont.Country == 'United Kingdom of Great Britain and Northern Ireland',\\\n",
    "         ['Country','sub-region']]= 'UK', 'Northern Europe'\n",
    "cont.loc[cont.Country == 'Czechia',['Country','region','sub-region']]= 'Czech Republic','Europe', 'Eastern Europe'\n",
    "cont.loc[cont.Country == 'Cyprus',['region','sub-region']]=  'Europe','Southern Europe'\n",
    "cont.loc[cont.Country == 'Russian Federation',['Country','region','sub-region']]= 'Russia', 'Asia', 'Asia'\n",
    "cont.loc[cont.Country == 'United States of America','Country']= 'USA'\n"
   ]
  },
  {
   "cell_type": "code",
   "execution_count": 1021,
   "metadata": {
    "collapsed": true
   },
   "outputs": [],
   "source": [
    "# cosovo not in cont DF"
   ]
  },
  {
   "cell_type": "code",
   "execution_count": 1022,
   "metadata": {
    "collapsed": true
   },
   "outputs": [],
   "source": [
    "cont.loc[cont.Country == 'Kosovo',['region','sub-region']]= 'Europe','Southern Europe'"
   ]
  },
  {
   "cell_type": "code",
   "execution_count": 1023,
   "metadata": {
    "collapsed": false
   },
   "outputs": [],
   "source": [
    "cont.loc[-1] = ['Kosovo','Europe','Southern Europe']"
   ]
  },
  {
   "cell_type": "code",
   "execution_count": 1024,
   "metadata": {
    "collapsed": false
   },
   "outputs": [
    {
     "data": {
      "text/html": [
       "<div>\n",
       "<style>\n",
       "    .dataframe thead tr:only-child th {\n",
       "        text-align: right;\n",
       "    }\n",
       "\n",
       "    .dataframe thead th {\n",
       "        text-align: left;\n",
       "    }\n",
       "\n",
       "    .dataframe tbody tr th {\n",
       "        vertical-align: top;\n",
       "    }\n",
       "</style>\n",
       "<table border=\"1\" class=\"dataframe\">\n",
       "  <thead>\n",
       "    <tr style=\"text-align: right;\">\n",
       "      <th></th>\n",
       "      <th>Country</th>\n",
       "      <th>region</th>\n",
       "      <th>sub-region</th>\n",
       "    </tr>\n",
       "  </thead>\n",
       "  <tbody>\n",
       "    <tr>\n",
       "      <th>248</th>\n",
       "      <td>Zimbabwe</td>\n",
       "      <td>Africa</td>\n",
       "      <td>Sub-Saharan Africa</td>\n",
       "    </tr>\n",
       "    <tr>\n",
       "      <th>-1</th>\n",
       "      <td>Kosovo</td>\n",
       "      <td>Europe</td>\n",
       "      <td>Southern Europe</td>\n",
       "    </tr>\n",
       "  </tbody>\n",
       "</table>\n",
       "</div>"
      ],
      "text/plain": [
       "       Country  region          sub-region\n",
       " 248  Zimbabwe  Africa  Sub-Saharan Africa\n",
       "-1      Kosovo  Europe     Southern Europe"
      ]
     },
     "execution_count": 1024,
     "metadata": {},
     "output_type": "execute_result"
    }
   ],
   "source": [
    "cont.tail(2)"
   ]
  },
  {
   "cell_type": "markdown",
   "metadata": {},
   "source": [
    "#### Delve deeper into European data/ history\n",
    "Prompted by the data errors encountered around Czech Republic and Kosovo. I decided to have a closer look at how 'Former Members' of the European Olympic Committee are treated in the dataset. This are:\n",
    "<br>\n",
    "- Czechoslovakia, \n",
    "    - Prior to 1993 the Czech Republic and Slovakia were one country. Today, using kaggle data, __all the medals won by Czechoslovakia are attributed to the Czech Republic__ and none to Slovakia. This is a possible mistake. \n",
    "- East Germany\n",
    "    - This was the part of Germany belonging to the Eastern block during the Cold War. This medals are unambiguously attributed to Germany.\n",
    "- Soviet Union\n",
    "   - This is USSR, medals are unambiguously attributed to Russia.\n",
    "- Yugoslavia  \n",
    "   - The Socialist Federal Republic of Yugoslavia was a country founded in the aftermath of World War II. Like other countries under Soviet influence, its dissolution occurred shortly after the end of the Cold War, in 1992. Yugoslavia comprised six socialist republics: Bosnia and Herzegovina, Croatia, Macedonia, Montenegro, Serbia, and Slovenia. In addition, it included the autonomous province of Kosovo. \n",
    "   __In the kaggle dataset all Yugoslavian medals and athletes are attributed to Serbia!__  This is also a possible mistake.\n",
    "- Serbia and Montenegro\n",
    "    - Country formed after the collapse of Yugoslavia, comprising some of its former states: Serbia, Montenegro, Kosovo. This existed until Montenegro (2006) and Kosovo (2008) progressively separated from Serbia also declaring independence. However, again, all medals won during this period in time are attributed to Serbia. \n",
    "\n",
    "In summary, when it comes to ex-Yugoslavian countries, such as Croatia, Slovenia etc. They have all been assigned new NOC codes upon declaring independence. Since then, they figure in the kaggle dataset as independent entities. Prior to this time, all Yugoslavian medals are attributed to Serbia, which can be misleading and skew results in favour of this country at the same time penalising the 6 other ex-Yugoslavian nations. \n",
    "\n",
    "__Action:__ Decide to do nothing, cleaning this dataset to re-distribute athletes and medals among ex-Yugoslavian countries is beyond the scope of this work. However, it is important to be aware of this data 'problem' especially when looking closely at Europe in the Olympics; care should be taken when interpreting future results."
   ]
  },
  {
   "cell_type": "markdown",
   "metadata": {},
   "source": [
    "Czechoslovakia"
   ]
  },
  {
   "cell_type": "code",
   "execution_count": 1025,
   "metadata": {
    "collapsed": false,
    "scrolled": false
   },
   "outputs": [
    {
     "data": {
      "text/plain": [
       "array(['Czechoslovakia', 'Czechoslovakia-3', 'Czechoslovakia-1',\n",
       "       'Czechoslovakia-2'], dtype=object)"
      ]
     },
     "execution_count": 1025,
     "metadata": {},
     "output_type": "execute_result"
    }
   ],
   "source": [
    "clean[clean.NOC == 'TCH']['Team'].unique()"
   ]
  },
  {
   "cell_type": "code",
   "execution_count": 1026,
   "metadata": {
    "collapsed": false,
    "scrolled": true
   },
   "outputs": [
    {
     "data": {
      "text/plain": [
       "array([1920, 1924, 1928, 1932, 1936, 1948, 1952, 1956, 1960, 1964, 1968,\n",
       "       1972, 1976, 1980, 1984, 1988, 1992])"
      ]
     },
     "execution_count": 1026,
     "metadata": {},
     "output_type": "execute_result"
    }
   ],
   "source": [
    "np.sort(clean[clean.NOC == 'TCH']['Year'].unique())"
   ]
  },
  {
   "cell_type": "code",
   "execution_count": 1027,
   "metadata": {
    "collapsed": false
   },
   "outputs": [
    {
     "data": {
      "text/plain": [
       "array([1994, 1996, 1998, 2000, 2002, 2004, 2006, 2008, 2010, 2012, 2014,\n",
       "       2016])"
      ]
     },
     "execution_count": 1027,
     "metadata": {},
     "output_type": "execute_result"
    }
   ],
   "source": [
    "np.sort(clean[clean.NOC == 'CZE']['Year'].unique())"
   ]
  },
  {
   "cell_type": "code",
   "execution_count": 1028,
   "metadata": {
    "collapsed": false
   },
   "outputs": [
    {
     "data": {
      "text/plain": [
       "array([1994, 1996, 1998, 2000, 2002, 2004, 2006, 2008, 2010, 2012, 2014,\n",
       "       2016])"
      ]
     },
     "execution_count": 1028,
     "metadata": {},
     "output_type": "execute_result"
    }
   ],
   "source": [
    "np.sort(clean[clean.NOC == 'SVK']['Year'].unique())"
   ]
  },
  {
   "cell_type": "markdown",
   "metadata": {},
   "source": [
    "As can be seen from above cells, the NOC code TCH corresponding to the Czech Republic actually contains 'team' Czechoslovakia.   "
   ]
  },
  {
   "cell_type": "markdown",
   "metadata": {},
   "source": [
    "Yugoslavia"
   ]
  },
  {
   "cell_type": "code",
   "execution_count": 1029,
   "metadata": {
    "collapsed": false
   },
   "outputs": [
    {
     "data": {
      "text/plain": [
       "array([1920, 1924, 1928, 1932, 1936, 1948, 1952, 1956, 1960, 1964, 1968,\n",
       "       1972, 1976, 1980, 1984, 1988, 1992])"
      ]
     },
     "execution_count": 1029,
     "metadata": {},
     "output_type": "execute_result"
    }
   ],
   "source": [
    "np.sort(clean[clean.NOC == 'YUG']['Year'].unique())"
   ]
  },
  {
   "cell_type": "code",
   "execution_count": 1030,
   "metadata": {
    "collapsed": false
   },
   "outputs": [
    {
     "data": {
      "text/plain": [
       "array(['Serbia'], dtype=object)"
      ]
     },
     "execution_count": 1030,
     "metadata": {},
     "output_type": "execute_result"
    }
   ],
   "source": [
    "clean[clean.NOC == 'YUG']['Country'].unique()"
   ]
  },
  {
   "cell_type": "markdown",
   "metadata": {},
   "source": [
    "Serbia and Montenegro"
   ]
  },
  {
   "cell_type": "code",
   "execution_count": 1031,
   "metadata": {
    "collapsed": false
   },
   "outputs": [
    {
     "data": {
      "text/plain": [
       "array([1996, 1998, 2000, 2002, 2004, 2006])"
      ]
     },
     "execution_count": 1031,
     "metadata": {},
     "output_type": "execute_result"
    }
   ],
   "source": [
    "np.sort(clean[clean.NOC == 'SCG']['Year'].unique())"
   ]
  },
  {
   "cell_type": "code",
   "execution_count": 1032,
   "metadata": {
    "collapsed": false
   },
   "outputs": [
    {
     "data": {
      "text/plain": [
       "array(['Serbia'], dtype=object)"
      ]
     },
     "execution_count": 1032,
     "metadata": {},
     "output_type": "execute_result"
    }
   ],
   "source": [
    "clean[clean.NOC == 'SCG']['Country'].unique()"
   ]
  },
  {
   "cell_type": "markdown",
   "metadata": {},
   "source": [
    "#### Merge and select European countries "
   ]
  },
  {
   "cell_type": "code",
   "execution_count": 1033,
   "metadata": {
    "collapsed": false,
    "scrolled": true
   },
   "outputs": [
    {
     "data": {
      "text/html": [
       "<div>\n",
       "<style>\n",
       "    .dataframe thead tr:only-child th {\n",
       "        text-align: right;\n",
       "    }\n",
       "\n",
       "    .dataframe thead th {\n",
       "        text-align: left;\n",
       "    }\n",
       "\n",
       "    .dataframe tbody tr th {\n",
       "        vertical-align: top;\n",
       "    }\n",
       "</style>\n",
       "<table border=\"1\" class=\"dataframe\">\n",
       "  <thead>\n",
       "    <tr style=\"text-align: right;\">\n",
       "      <th></th>\n",
       "      <th>Country</th>\n",
       "      <th>Continent</th>\n",
       "      <th>sub_Continent</th>\n",
       "    </tr>\n",
       "  </thead>\n",
       "  <tbody>\n",
       "    <tr>\n",
       "      <th>0</th>\n",
       "      <td>Afghanistan</td>\n",
       "      <td>Asia</td>\n",
       "      <td>Southern Asia</td>\n",
       "    </tr>\n",
       "    <tr>\n",
       "      <th>1</th>\n",
       "      <td>Åland Islands</td>\n",
       "      <td>Europe</td>\n",
       "      <td>Northern Europe</td>\n",
       "    </tr>\n",
       "    <tr>\n",
       "      <th>2</th>\n",
       "      <td>Albania</td>\n",
       "      <td>Europe</td>\n",
       "      <td>Southern Europe</td>\n",
       "    </tr>\n",
       "    <tr>\n",
       "      <th>3</th>\n",
       "      <td>Algeria</td>\n",
       "      <td>Africa</td>\n",
       "      <td>Northern Africa</td>\n",
       "    </tr>\n",
       "    <tr>\n",
       "      <th>4</th>\n",
       "      <td>American Samoa</td>\n",
       "      <td>Oceania</td>\n",
       "      <td>Polynesia</td>\n",
       "    </tr>\n",
       "  </tbody>\n",
       "</table>\n",
       "</div>"
      ],
      "text/plain": [
       "          Country Continent    sub_Continent\n",
       "0     Afghanistan      Asia    Southern Asia\n",
       "1   Åland Islands    Europe  Northern Europe\n",
       "2         Albania    Europe  Southern Europe\n",
       "3         Algeria    Africa  Northern Africa\n",
       "4  American Samoa   Oceania        Polynesia"
      ]
     },
     "execution_count": 1033,
     "metadata": {},
     "output_type": "execute_result"
    }
   ],
   "source": [
    "# further clean up cont DF to have intended column names\n",
    "cont.rename(columns={'region':'Continent','sub-region':'sub_Continent'},inplace=True)\n",
    "cont.head()"
   ]
  },
  {
   "cell_type": "code",
   "execution_count": 1034,
   "metadata": {
    "collapsed": true
   },
   "outputs": [],
   "source": [
    "# 1st merge on 'Country' to get the continent of each participating nation\n",
    "merged = pd.merge(master,cont,on='Country',how='left')"
   ]
  },
  {
   "cell_type": "code",
   "execution_count": 1035,
   "metadata": {
    "collapsed": true
   },
   "outputs": [],
   "source": [
    "# rename agin to have intended column names\n",
    "cont.rename(columns={'Country':'Host_Country','Continent':'Host_Continent','sub_Continent':'Host_sub_Continent'},inplace=True)"
   ]
  },
  {
   "cell_type": "code",
   "execution_count": 1036,
   "metadata": {
    "collapsed": false
   },
   "outputs": [],
   "source": [
    "# 2nd merge on 'Host_Country' to get the continent of each host nation\n",
    "final = pd.merge(merged,cont,on='Host_Country',how='left')"
   ]
  },
  {
   "cell_type": "code",
   "execution_count": 1037,
   "metadata": {
    "collapsed": false
   },
   "outputs": [],
   "source": [
    "final.drop('Unnamed: 0',axis=1,inplace=True)"
   ]
  },
  {
   "cell_type": "markdown",
   "metadata": {},
   "source": [
    "### Final Sanity Checks "
   ]
  },
  {
   "cell_type": "code",
   "execution_count": 1038,
   "metadata": {
    "collapsed": false
   },
   "outputs": [],
   "source": [
    "# make a smaller DF with only Europe included \n",
    "europe = final[final.Continent==\"Europe\"]"
   ]
  },
  {
   "cell_type": "code",
   "execution_count": 1039,
   "metadata": {
    "collapsed": false,
    "scrolled": false
   },
   "outputs": [
    {
     "data": {
      "text/plain": [
       "array(['Albania', 'Andorra', 'Austria', 'Belarus', 'Belgium',\n",
       "       'Bosnia and Herzegovina', 'Bulgaria', 'Croatia', 'Cyprus',\n",
       "       'Czech Republic', 'Denmark', 'Estonia', 'Finland', 'France',\n",
       "       'Germany', 'Greece', 'Hungary', 'Iceland', 'Ireland', 'Italy',\n",
       "       'Kosovo', 'Latvia', 'Liechtenstein', 'Lithuania', 'Luxembourg',\n",
       "       'Macedonia', 'Malta', 'Moldova', 'Monaco', 'Montenegro',\n",
       "       'Netherlands', 'Norway', 'Poland', 'Portugal', 'Romania',\n",
       "       'San Marino', 'Serbia', 'Slovakia', 'Slovenia', 'Spain', 'Sweden',\n",
       "       'Switzerland', 'UK', 'Ukraine'], dtype=object)"
      ]
     },
     "execution_count": 1039,
     "metadata": {},
     "output_type": "execute_result"
    }
   ],
   "source": [
    "np.sort(europe['Country'].unique())"
   ]
  },
  {
   "cell_type": "code",
   "execution_count": 1040,
   "metadata": {
    "collapsed": false,
    "scrolled": false
   },
   "outputs": [
    {
     "name": "stdout",
     "output_type": "stream",
     "text": [
      "Number of countries classed as \"European\" that have an Olympic team is: 44\n"
     ]
    }
   ],
   "source": [
    "print('Number of countries classed as \"European\" that have an Olympic team is:', len(europe['Country'].unique()))"
   ]
  },
  {
   "cell_type": "markdown",
   "metadata": {},
   "source": [
    "#### Explore which countries constitute european sub-regons classes\n",
    "- generally all looks ok "
   ]
  },
  {
   "cell_type": "code",
   "execution_count": 1041,
   "metadata": {
    "collapsed": false,
    "scrolled": true
   },
   "outputs": [
    {
     "data": {
      "text/plain": [
       "array(['Northern Europe', 'Western Europe', 'Eastern Europe',\n",
       "       'Southern Europe'], dtype=object)"
      ]
     },
     "execution_count": 1041,
     "metadata": {},
     "output_type": "execute_result"
    }
   ],
   "source": [
    "europe['sub_Continent'].unique()"
   ]
  },
  {
   "cell_type": "code",
   "execution_count": 1042,
   "metadata": {
    "collapsed": false,
    "scrolled": true
   },
   "outputs": [
    {
     "data": {
      "text/plain": [
       "array(['Romania', 'Bulgaria', 'Belarus', 'Hungary', 'Ukraine', 'Poland',\n",
       "       'Czech Republic', 'Slovakia'], dtype=object)"
      ]
     },
     "execution_count": 1042,
     "metadata": {},
     "output_type": "execute_result"
    }
   ],
   "source": [
    "# Explore what constitutes eastern europe - note Russia is excluded\n",
    "europe[europe['sub_Continent'] == 'Eastern Europe']['Country'].unique()"
   ]
  },
  {
   "cell_type": "code",
   "execution_count": 1043,
   "metadata": {
    "collapsed": false
   },
   "outputs": [
    {
     "data": {
      "text/plain": [
       "array(['Spain', 'Italy', 'Greece', 'Slovenia', 'Croatia', 'Portugal',\n",
       "       'Malta', 'Cyprus', 'Serbia', 'Moldova', 'Bosnia and Herzegovina',\n",
       "       'San Marino', 'Andorra', 'Macedonia', 'Montenegro', 'Albania',\n",
       "       'Kosovo'], dtype=object)"
      ]
     },
     "execution_count": 1043,
     "metadata": {},
     "output_type": "execute_result"
    }
   ],
   "source": [
    "europe[europe['sub_Continent'] == 'Southern Europe']['Country'].unique()"
   ]
  },
  {
   "cell_type": "code",
   "execution_count": 1044,
   "metadata": {
    "collapsed": false
   },
   "outputs": [
    {
     "data": {
      "text/plain": [
       "array(['Denmark', 'Finland', 'Norway', 'Estonia', 'Ireland', 'Sweden',\n",
       "       'UK', 'Latvia', 'Lithuania', 'Iceland'], dtype=object)"
      ]
     },
     "execution_count": 1044,
     "metadata": {},
     "output_type": "execute_result"
    }
   ],
   "source": [
    "europe[europe['sub_Continent'] == 'Northern Europe']['Country'].unique()"
   ]
  },
  {
   "cell_type": "code",
   "execution_count": 1045,
   "metadata": {
    "collapsed": false
   },
   "outputs": [
    {
     "data": {
      "text/plain": [
       "array(['Netherlands', 'France', 'Germany', 'Belgium', 'Switzerland',\n",
       "       'Monaco', 'Luxembourg', 'Austria', 'Liechtenstein'], dtype=object)"
      ]
     },
     "execution_count": 1045,
     "metadata": {},
     "output_type": "execute_result"
    }
   ],
   "source": [
    "europe[europe['sub_Continent'] == 'Western Europe']['Country'].unique()"
   ]
  },
  {
   "cell_type": "markdown",
   "metadata": {},
   "source": [
    "### Save European data"
   ]
  },
  {
   "cell_type": "code",
   "execution_count": null,
   "metadata": {
    "collapsed": true
   },
   "outputs": [],
   "source": [
    "# Save European data\n",
    "# europe.to_csv('all_data/europe_data.csv')"
   ]
  },
  {
   "cell_type": "code",
   "execution_count": 1049,
   "metadata": {
    "collapsed": true
   },
   "outputs": [],
   "source": [
    "# Save world data with added columns\n",
    "final.to_csv('all_data/extended_data.csv')"
   ]
  },
  {
   "cell_type": "markdown",
   "metadata": {
    "collapsed": true
   },
   "source": [
    "### CONCLUDE\n",
    "Instead of trying to 'cut corners' and sue pre-existing datasets it would have been much easier and less time consuming to manually select the countries which constitute Europe and map host cities to hist countries... "
   ]
  }
 ],
 "metadata": {
  "anaconda-cloud": {},
  "kernelspec": {
   "display_name": "Python [anaconda]",
   "language": "python",
   "name": "Python [anaconda]"
  },
  "language_info": {
   "codemirror_mode": {
    "name": "ipython",
    "version": 3
   },
   "file_extension": ".py",
   "mimetype": "text/x-python",
   "name": "python",
   "nbconvert_exporter": "python",
   "pygments_lexer": "ipython3",
   "version": "3.5.5"
  }
 },
 "nbformat": 4,
 "nbformat_minor": 2
}
